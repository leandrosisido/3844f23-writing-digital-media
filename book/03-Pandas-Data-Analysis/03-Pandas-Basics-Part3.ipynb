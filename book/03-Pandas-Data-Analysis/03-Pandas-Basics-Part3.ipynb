{
 "cells": [
  {
   "cell_type": "markdown",
   "metadata": {},
   "source": [
    "# Pandas Basics — Part 3"
   ]
  },
  {
   "cell_type": "markdown",
   "metadata": {},
   "source": [
    "In this lesson, we're going to introduce more fundamentals of [Pandas](https://pandas.pydata.org/pandas-docs/stable/getting_started/overview.html), a powerful Python library for working with tabular data like CSV files.\n",
    "\n",
    "We will review skills learned from the last two lessons and introduce how to:\n",
    "\n",
    "- Check for duplicate data\n",
    "- Clean and transform data\n",
    "- Manipulate string data\n",
    "- Apply functions\n",
    "- Reset index\n",
    "- Bonus! Create an interactive data viz"
   ]
  },
  {
   "cell_type": "markdown",
   "metadata": {},
   "source": [
    "___"
   ]
  },
  {
   "cell_type": "markdown",
   "metadata": {},
   "source": [
    "## 1. Dataset - *The Pudding*'s Film Dialogue Data"
   ]
  },
  {
   "cell_type": "markdown",
   "metadata": {},
   "source": [
    "<blockquote class=\"epigraph\" style=\" padding: 10px\">\n",
    "\n",
    "Lately, Hollywood has been taking so much shit for rampant sexism and racism. The prevailing theme: white men dominate movie roles.\n",
    "\n",
    "But it’s all rhetoric and no data, which gets us nowhere in terms of having an informed discussion. How many movies are actually about men? What changes by genre, era, or box-office revenue? What circumstances generate more diversity?\n",
    "\n",
    "-Hannah Anderson and Matt Daniels, [\"Film Dialogue from 2,000 screenplays, Broken Down by Gender and Age\"](https://pudding.cool/2017/03/film-dialogue/)\n",
    "\n",
    "</blockquote>\n"
   ]
  },
  {
   "cell_type": "markdown",
   "metadata": {},
   "source": [
    "The dataset that we're working with in this lesson is taken from Hannah Andersen and Matt Daniels's *Pudding* essay, [\"Film Dialogue from 2,000 screenplays, Broken Down by Gender and Age\"](https://pudding.cool/2017/03/film-dialogue/). The dataset provides information about 2,000 films from 1925 to 2015, including characters’ names, genders, ages, how many words each character spoke in each film, the release year of each film, and how much money the film grossed. They included character gender information because they wanted to contribute data to a broader conversation about how \"white men dominate movie roles.\"\n",
    "\n",
    "Yet transforming complex social constructs like gender into quantifiable data is tricky and historically fraught. They claim, in fact, that one of the [most frequently asked questions](https://medium.com/@matthew_daniels/faq-for-the-film-dialogue-by-gender-project-40078209f751) about the piece is about gender: “Wait, but let’s talk about gender. How do you know the monster in Monsters Inc. is a boy!\" The short answer is that they don't. To determine character gender, they used actors' IMDB information, which they acknowledge is an imperfect approach: \"Sometimes, women voice male characters. Bart Simpson, for example, is voiced by a woman. We’re aware that this means some of the data is wrong, AND we’re still fine with the methodology and approach.\"\n",
    "\n",
    "As we work with this data, we want to be critical and cognizant of this approach to gender. How does such a binary understanding of gender, gleaned from the IMDB pages of actors, influence our later results and conclusions? What do we gain by using such an approach, and what do we lose? How else might we have encoded or determined gender for the same data? "
   ]
  },
  {
   "cell_type": "markdown",
   "metadata": {},
   "source": [
    "___"
   ]
  },
  {
   "cell_type": "markdown",
   "metadata": {},
   "source": [
    "## 2. Setup Our Project"
   ]
  },
  {
   "cell_type": "markdown",
   "metadata": {},
   "source": [
    "### 2.1 Import Pandas"
   ]
  },
  {
   "cell_type": "markdown",
   "metadata": {},
   "source": [
    "To use the Pandas library, we first need to `import` it."
   ]
  },
  {
   "cell_type": "code",
   "execution_count": 1,
   "metadata": {},
   "outputs": [],
   "source": [
    "import pandas as pd"
   ]
  },
  {
   "cell_type": "markdown",
   "metadata": {},
   "source": [
    "The above `import` statement not only imports the Pandas library but also gives it an alias or nickname — `pd`. This alias will save us from having to type out the entire words `pandas` each time we need to use it. Many Python libraries have commonly used aliases like `pd`."
   ]
  },
  {
   "cell_type": "markdown",
   "metadata": {},
   "source": [
    "### 2.2 Set Display Settings"
   ]
  },
  {
   "cell_type": "markdown",
   "metadata": {},
   "source": [
    "By default, Pandas will display 60 rows and 20 columns. I often change [Pandas' default display settings](https://pandas.pydata.org/pandas-docs/stable/user_guide/options.html) to show more rows or columns."
   ]
  },
  {
   "cell_type": "code",
   "execution_count": 2,
   "metadata": {},
   "outputs": [],
   "source": [
    "pd.options.display.max_rows = 100"
   ]
  },
  {
   "cell_type": "markdown",
   "metadata": {},
   "source": [
    "### 2.3 Read in CSV File"
   ]
  },
  {
   "cell_type": "markdown",
   "metadata": {},
   "source": [
    "To read in a CSV file, we will use the function `pd.read_csv()` and insert the name of our desired file path. "
   ]
  },
  {
   "cell_type": "code",
   "execution_count": 3,
   "metadata": {},
   "outputs": [],
   "source": [
    "film_df = pd.read_csv('../data/Pudding/Pudding-Film-Dialogue-Salty.csv', delimiter=\",\", encoding='utf-8')"
   ]
  },
  {
   "cell_type": "markdown",
   "metadata": {},
   "source": [
    "When reading in the CSV file, we also specified the `encoding` and `delimiter`. The `delimiter` parameter specifies the character that separates or \"delimits\" the columns in our dataset. For CSV files, the delimiter will most often be a comma. (CSV is short for *Comma Separated Values*.) Sometimes, however, the delimiter of a CSV file might be a tab (`\\t`) or, more rarely, another character."
   ]
  },
  {
   "cell_type": "markdown",
   "metadata": {},
   "source": [
    "### 2.4 Display Data"
   ]
  },
  {
   "cell_type": "markdown",
   "metadata": {},
   "source": [
    "We can display a DataFrame in a Jupyter notebook simply by running a cell with the variable name of the DataFrame."
   ]
  },
  {
   "cell_type": "markdown",
   "metadata": {},
   "source": [
    "<div class=\"admonition pandasreview\" name=\"html-admonition\" style=\"background: black; color: white; padding: 10px\">\n",
    "<p class=\"title\">Pandas Review</p>\n",
    "<code>NaN</code> is the Pandas value for any missing data. See <a href=\"https://pandas.pydata.org/pandas-docs/stable/user_guide/missing_data.html?highlight=nan/\">\"Working with missing data\"</a> for more information.\n",
    "        \n",
    "</div>"
   ]
  },
  {
   "cell_type": "code",
   "execution_count": 4,
   "metadata": {},
   "outputs": [
    {
     "data": {
      "text/html": [
       "<div>\n",
       "<style scoped>\n",
       "    .dataframe tbody tr th:only-of-type {\n",
       "        vertical-align: middle;\n",
       "    }\n",
       "\n",
       "    .dataframe tbody tr th {\n",
       "        vertical-align: top;\n",
       "    }\n",
       "\n",
       "    .dataframe thead th {\n",
       "        text-align: right;\n",
       "    }\n",
       "</style>\n",
       "<table border=\"1\" class=\"dataframe\">\n",
       "  <thead>\n",
       "    <tr style=\"text-align: right;\">\n",
       "      <th></th>\n",
       "      <th>script_id</th>\n",
       "      <th>imdb_character_name</th>\n",
       "      <th>words</th>\n",
       "      <th>gender</th>\n",
       "      <th>age</th>\n",
       "      <th>imdb_id</th>\n",
       "      <th>title</th>\n",
       "      <th>year</th>\n",
       "      <th>gross</th>\n",
       "      <th>proportion_of_dialogue</th>\n",
       "    </tr>\n",
       "  </thead>\n",
       "  <tbody>\n",
       "    <tr>\n",
       "      <th>0</th>\n",
       "      <td>280</td>\n",
       "      <td>betty</td>\n",
       "      <td>311</td>\n",
       "      <td>f</td>\n",
       "      <td>35.0</td>\n",
       "      <td>tt0112579</td>\n",
       "      <td>The Bridges of Madison County</td>\n",
       "      <td>1995</td>\n",
       "      <td>142.0</td>\n",
       "      <td>0.048639</td>\n",
       "    </tr>\n",
       "    <tr>\n",
       "      <th>1</th>\n",
       "      <td>280</td>\n",
       "      <td>carolyn johnson</td>\n",
       "      <td>873</td>\n",
       "      <td>f</td>\n",
       "      <td>NaN</td>\n",
       "      <td>tt0112579</td>\n",
       "      <td>The Bridges of Madison County</td>\n",
       "      <td>1995</td>\n",
       "      <td>142.0</td>\n",
       "      <td>0.136534</td>\n",
       "    </tr>\n",
       "    <tr>\n",
       "      <th>2</th>\n",
       "      <td>280</td>\n",
       "      <td>eleanor</td>\n",
       "      <td>138</td>\n",
       "      <td>f</td>\n",
       "      <td>NaN</td>\n",
       "      <td>tt0112579</td>\n",
       "      <td>The Bridges of Madison County</td>\n",
       "      <td>1995</td>\n",
       "      <td>142.0</td>\n",
       "      <td>0.021583</td>\n",
       "    </tr>\n",
       "    <tr>\n",
       "      <th>3</th>\n",
       "      <td>280</td>\n",
       "      <td>francesca johns</td>\n",
       "      <td>2251</td>\n",
       "      <td>f</td>\n",
       "      <td>46.0</td>\n",
       "      <td>tt0112579</td>\n",
       "      <td>The Bridges of Madison County</td>\n",
       "      <td>1995</td>\n",
       "      <td>142.0</td>\n",
       "      <td>0.352049</td>\n",
       "    </tr>\n",
       "    <tr>\n",
       "      <th>4</th>\n",
       "      <td>280</td>\n",
       "      <td>madge</td>\n",
       "      <td>190</td>\n",
       "      <td>f</td>\n",
       "      <td>46.0</td>\n",
       "      <td>tt0112579</td>\n",
       "      <td>The Bridges of Madison County</td>\n",
       "      <td>1995</td>\n",
       "      <td>142.0</td>\n",
       "      <td>0.029715</td>\n",
       "    </tr>\n",
       "    <tr>\n",
       "      <th>...</th>\n",
       "      <td>...</td>\n",
       "      <td>...</td>\n",
       "      <td>...</td>\n",
       "      <td>...</td>\n",
       "      <td>...</td>\n",
       "      <td>...</td>\n",
       "      <td>...</td>\n",
       "      <td>...</td>\n",
       "      <td>...</td>\n",
       "      <td>...</td>\n",
       "    </tr>\n",
       "    <tr>\n",
       "      <th>23047</th>\n",
       "      <td>9254</td>\n",
       "      <td>maurice</td>\n",
       "      <td>1107</td>\n",
       "      <td>m</td>\n",
       "      <td>71.0</td>\n",
       "      <td>tt0101414</td>\n",
       "      <td>Beauty and the Beast</td>\n",
       "      <td>1991</td>\n",
       "      <td>452.0</td>\n",
       "      <td>0.108967</td>\n",
       "    </tr>\n",
       "    <tr>\n",
       "      <th>23048</th>\n",
       "      <td>9254</td>\n",
       "      <td>monsieur d'arqu</td>\n",
       "      <td>114</td>\n",
       "      <td>m</td>\n",
       "      <td>58.0</td>\n",
       "      <td>tt0101414</td>\n",
       "      <td>Beauty and the Beast</td>\n",
       "      <td>1991</td>\n",
       "      <td>452.0</td>\n",
       "      <td>0.011222</td>\n",
       "    </tr>\n",
       "    <tr>\n",
       "      <th>23049</th>\n",
       "      <td>9254</td>\n",
       "      <td>mrs. potts</td>\n",
       "      <td>564</td>\n",
       "      <td>f</td>\n",
       "      <td>66.0</td>\n",
       "      <td>tt0101414</td>\n",
       "      <td>Beauty and the Beast</td>\n",
       "      <td>1991</td>\n",
       "      <td>452.0</td>\n",
       "      <td>0.055517</td>\n",
       "    </tr>\n",
       "    <tr>\n",
       "      <th>23050</th>\n",
       "      <td>9254</td>\n",
       "      <td>wardrobe</td>\n",
       "      <td>121</td>\n",
       "      <td>f</td>\n",
       "      <td>54.0</td>\n",
       "      <td>tt0101414</td>\n",
       "      <td>Beauty and the Beast</td>\n",
       "      <td>1991</td>\n",
       "      <td>452.0</td>\n",
       "      <td>0.011911</td>\n",
       "    </tr>\n",
       "    <tr>\n",
       "      <th>23051</th>\n",
       "      <td>9254</td>\n",
       "      <td>mrs. potts</td>\n",
       "      <td>564</td>\n",
       "      <td>f</td>\n",
       "      <td>66.0</td>\n",
       "      <td>tt0101414</td>\n",
       "      <td>Beauty and the Beast</td>\n",
       "      <td>1991</td>\n",
       "      <td>452.0</td>\n",
       "      <td>0.055517</td>\n",
       "    </tr>\n",
       "  </tbody>\n",
       "</table>\n",
       "<p>23052 rows × 10 columns</p>\n",
       "</div>"
      ],
      "text/plain": [
       "       script_id imdb_character_name  words gender   age    imdb_id  \\\n",
       "0            280               betty    311      f  35.0  tt0112579   \n",
       "1            280     carolyn johnson    873      f   NaN  tt0112579   \n",
       "2            280             eleanor    138      f   NaN  tt0112579   \n",
       "3            280     francesca johns   2251      f  46.0  tt0112579   \n",
       "4            280               madge    190      f  46.0  tt0112579   \n",
       "...          ...                 ...    ...    ...   ...        ...   \n",
       "23047       9254             maurice   1107      m  71.0  tt0101414   \n",
       "23048       9254     monsieur d'arqu    114      m  58.0  tt0101414   \n",
       "23049       9254          mrs. potts    564      f  66.0  tt0101414   \n",
       "23050       9254            wardrobe    121      f  54.0  tt0101414   \n",
       "23051       9254          mrs. potts    564      f  66.0  tt0101414   \n",
       "\n",
       "                               title  year  gross  proportion_of_dialogue  \n",
       "0      The Bridges of Madison County  1995  142.0                0.048639  \n",
       "1      The Bridges of Madison County  1995  142.0                0.136534  \n",
       "2      The Bridges of Madison County  1995  142.0                0.021583  \n",
       "3      The Bridges of Madison County  1995  142.0                0.352049  \n",
       "4      The Bridges of Madison County  1995  142.0                0.029715  \n",
       "...                              ...   ...    ...                     ...  \n",
       "23047           Beauty and the Beast  1991  452.0                0.108967  \n",
       "23048           Beauty and the Beast  1991  452.0                0.011222  \n",
       "23049           Beauty and the Beast  1991  452.0                0.055517  \n",
       "23050           Beauty and the Beast  1991  452.0                0.011911  \n",
       "23051           Beauty and the Beast  1991  452.0                0.055517  \n",
       "\n",
       "[23052 rows x 10 columns]"
      ]
     },
     "execution_count": 4,
     "metadata": {},
     "output_type": "execute_result"
    }
   ],
   "source": [
    "film_df"
   ]
  },
  {
   "cell_type": "markdown",
   "metadata": {},
   "source": [
    "There are a few important things to note about the DataFrame displayed here:\n",
    "\n",
    "* Index\n",
    "    * The bolded ascending numbers in the very left-hand column of the DataFrame is called the Pandas *Index*. You can select rows based on the Index.\n",
    "    * By default, the Index is a sequence of numbers starting with zero. However, you can change the Index to something else, such as one of the columns in your dataset.\n",
    "\n",
    "* Truncation\n",
    "    * The DataFrame is truncated, signaled by the ellipses in the middle `...` of every column.\n",
    "    * The DataFrame is truncated because we set our default display settings to 100 rows. Anything more than 100 rows will be truncated. To display all the rows, we would need to alter Pandas' default display settings yet again.\n",
    "\n",
    "* Rows x Columns\n",
    "    * Pandas reports how many rows and columns are in this dataset at the bottom of the output (23,052 x 10 columns)."
   ]
  },
  {
   "cell_type": "markdown",
   "metadata": {},
   "source": [
    "### 2.5 Display First *n* Rows\n",
    "\n",
    "To look at the first *n* rows in a DataFrame, we can use a method called `.head()`."
   ]
  },
  {
   "cell_type": "code",
   "execution_count": 5,
   "metadata": {},
   "outputs": [
    {
     "data": {
      "text/html": [
       "<div>\n",
       "<style scoped>\n",
       "    .dataframe tbody tr th:only-of-type {\n",
       "        vertical-align: middle;\n",
       "    }\n",
       "\n",
       "    .dataframe tbody tr th {\n",
       "        vertical-align: top;\n",
       "    }\n",
       "\n",
       "    .dataframe thead th {\n",
       "        text-align: right;\n",
       "    }\n",
       "</style>\n",
       "<table border=\"1\" class=\"dataframe\">\n",
       "  <thead>\n",
       "    <tr style=\"text-align: right;\">\n",
       "      <th></th>\n",
       "      <th>script_id</th>\n",
       "      <th>imdb_character_name</th>\n",
       "      <th>words</th>\n",
       "      <th>gender</th>\n",
       "      <th>age</th>\n",
       "      <th>imdb_id</th>\n",
       "      <th>title</th>\n",
       "      <th>year</th>\n",
       "      <th>gross</th>\n",
       "      <th>proportion_of_dialogue</th>\n",
       "    </tr>\n",
       "  </thead>\n",
       "  <tbody>\n",
       "    <tr>\n",
       "      <th>0</th>\n",
       "      <td>280</td>\n",
       "      <td>betty</td>\n",
       "      <td>311</td>\n",
       "      <td>f</td>\n",
       "      <td>35.0</td>\n",
       "      <td>tt0112579</td>\n",
       "      <td>The Bridges of Madison County</td>\n",
       "      <td>1995</td>\n",
       "      <td>142.0</td>\n",
       "      <td>0.048639</td>\n",
       "    </tr>\n",
       "    <tr>\n",
       "      <th>1</th>\n",
       "      <td>280</td>\n",
       "      <td>carolyn johnson</td>\n",
       "      <td>873</td>\n",
       "      <td>f</td>\n",
       "      <td>NaN</td>\n",
       "      <td>tt0112579</td>\n",
       "      <td>The Bridges of Madison County</td>\n",
       "      <td>1995</td>\n",
       "      <td>142.0</td>\n",
       "      <td>0.136534</td>\n",
       "    </tr>\n",
       "    <tr>\n",
       "      <th>2</th>\n",
       "      <td>280</td>\n",
       "      <td>eleanor</td>\n",
       "      <td>138</td>\n",
       "      <td>f</td>\n",
       "      <td>NaN</td>\n",
       "      <td>tt0112579</td>\n",
       "      <td>The Bridges of Madison County</td>\n",
       "      <td>1995</td>\n",
       "      <td>142.0</td>\n",
       "      <td>0.021583</td>\n",
       "    </tr>\n",
       "    <tr>\n",
       "      <th>3</th>\n",
       "      <td>280</td>\n",
       "      <td>francesca johns</td>\n",
       "      <td>2251</td>\n",
       "      <td>f</td>\n",
       "      <td>46.0</td>\n",
       "      <td>tt0112579</td>\n",
       "      <td>The Bridges of Madison County</td>\n",
       "      <td>1995</td>\n",
       "      <td>142.0</td>\n",
       "      <td>0.352049</td>\n",
       "    </tr>\n",
       "    <tr>\n",
       "      <th>4</th>\n",
       "      <td>280</td>\n",
       "      <td>madge</td>\n",
       "      <td>190</td>\n",
       "      <td>f</td>\n",
       "      <td>46.0</td>\n",
       "      <td>tt0112579</td>\n",
       "      <td>The Bridges of Madison County</td>\n",
       "      <td>1995</td>\n",
       "      <td>142.0</td>\n",
       "      <td>0.029715</td>\n",
       "    </tr>\n",
       "    <tr>\n",
       "      <th>5</th>\n",
       "      <td>280</td>\n",
       "      <td>michael johnson</td>\n",
       "      <td>723</td>\n",
       "      <td>m</td>\n",
       "      <td>38.0</td>\n",
       "      <td>tt0112579</td>\n",
       "      <td>The Bridges of Madison County</td>\n",
       "      <td>1995</td>\n",
       "      <td>142.0</td>\n",
       "      <td>0.113075</td>\n",
       "    </tr>\n",
       "    <tr>\n",
       "      <th>6</th>\n",
       "      <td>280</td>\n",
       "      <td>robert kincaid</td>\n",
       "      <td>1908</td>\n",
       "      <td>m</td>\n",
       "      <td>65.0</td>\n",
       "      <td>tt0112579</td>\n",
       "      <td>The Bridges of Madison County</td>\n",
       "      <td>1995</td>\n",
       "      <td>142.0</td>\n",
       "      <td>0.298405</td>\n",
       "    </tr>\n",
       "    <tr>\n",
       "      <th>7</th>\n",
       "      <td>623</td>\n",
       "      <td>bobby korfin</td>\n",
       "      <td>328</td>\n",
       "      <td>m</td>\n",
       "      <td>NaN</td>\n",
       "      <td>tt0179626</td>\n",
       "      <td>15 Minutes</td>\n",
       "      <td>2001</td>\n",
       "      <td>37.0</td>\n",
       "      <td>0.036012</td>\n",
       "    </tr>\n",
       "    <tr>\n",
       "      <th>8</th>\n",
       "      <td>623</td>\n",
       "      <td>daphne handlova</td>\n",
       "      <td>409</td>\n",
       "      <td>f</td>\n",
       "      <td>28.0</td>\n",
       "      <td>tt0179626</td>\n",
       "      <td>15 Minutes</td>\n",
       "      <td>2001</td>\n",
       "      <td>37.0</td>\n",
       "      <td>0.044906</td>\n",
       "    </tr>\n",
       "    <tr>\n",
       "      <th>9</th>\n",
       "      <td>623</td>\n",
       "      <td>deputy chief fi</td>\n",
       "      <td>347</td>\n",
       "      <td>m</td>\n",
       "      <td>NaN</td>\n",
       "      <td>tt0179626</td>\n",
       "      <td>15 Minutes</td>\n",
       "      <td>2001</td>\n",
       "      <td>37.0</td>\n",
       "      <td>0.038098</td>\n",
       "    </tr>\n",
       "  </tbody>\n",
       "</table>\n",
       "</div>"
      ],
      "text/plain": [
       "   script_id imdb_character_name  words gender   age    imdb_id  \\\n",
       "0        280               betty    311      f  35.0  tt0112579   \n",
       "1        280     carolyn johnson    873      f   NaN  tt0112579   \n",
       "2        280             eleanor    138      f   NaN  tt0112579   \n",
       "3        280     francesca johns   2251      f  46.0  tt0112579   \n",
       "4        280               madge    190      f  46.0  tt0112579   \n",
       "5        280     michael johnson    723      m  38.0  tt0112579   \n",
       "6        280      robert kincaid   1908      m  65.0  tt0112579   \n",
       "7        623        bobby korfin    328      m   NaN  tt0179626   \n",
       "8        623     daphne handlova    409      f  28.0  tt0179626   \n",
       "9        623     deputy chief fi    347      m   NaN  tt0179626   \n",
       "\n",
       "                           title  year  gross  proportion_of_dialogue  \n",
       "0  The Bridges of Madison County  1995  142.0                0.048639  \n",
       "1  The Bridges of Madison County  1995  142.0                0.136534  \n",
       "2  The Bridges of Madison County  1995  142.0                0.021583  \n",
       "3  The Bridges of Madison County  1995  142.0                0.352049  \n",
       "4  The Bridges of Madison County  1995  142.0                0.029715  \n",
       "5  The Bridges of Madison County  1995  142.0                0.113075  \n",
       "6  The Bridges of Madison County  1995  142.0                0.298405  \n",
       "7                     15 Minutes  2001   37.0                0.036012  \n",
       "8                     15 Minutes  2001   37.0                0.044906  \n",
       "9                     15 Minutes  2001   37.0                0.038098  "
      ]
     },
     "execution_count": 5,
     "metadata": {},
     "output_type": "execute_result"
    }
   ],
   "source": [
    "film_df.head(10)"
   ]
  },
  {
   "cell_type": "markdown",
   "metadata": {},
   "source": [
    "### 2.6 Display Random Sample"
   ]
  },
  {
   "cell_type": "markdown",
   "metadata": {},
   "source": [
    "To look at a random sample of rows, we can use the `.sample()` method."
   ]
  },
  {
   "cell_type": "code",
   "execution_count": 6,
   "metadata": {},
   "outputs": [
    {
     "data": {
      "text/html": [
       "<div>\n",
       "<style scoped>\n",
       "    .dataframe tbody tr th:only-of-type {\n",
       "        vertical-align: middle;\n",
       "    }\n",
       "\n",
       "    .dataframe tbody tr th {\n",
       "        vertical-align: top;\n",
       "    }\n",
       "\n",
       "    .dataframe thead th {\n",
       "        text-align: right;\n",
       "    }\n",
       "</style>\n",
       "<table border=\"1\" class=\"dataframe\">\n",
       "  <thead>\n",
       "    <tr style=\"text-align: right;\">\n",
       "      <th></th>\n",
       "      <th>script_id</th>\n",
       "      <th>imdb_character_name</th>\n",
       "      <th>words</th>\n",
       "      <th>gender</th>\n",
       "      <th>age</th>\n",
       "      <th>imdb_id</th>\n",
       "      <th>title</th>\n",
       "      <th>year</th>\n",
       "      <th>gross</th>\n",
       "      <th>proportion_of_dialogue</th>\n",
       "    </tr>\n",
       "  </thead>\n",
       "  <tbody>\n",
       "    <tr>\n",
       "      <th>2140</th>\n",
       "      <td>1152</td>\n",
       "      <td>kevin mccall</td>\n",
       "      <td>1123</td>\n",
       "      <td>m</td>\n",
       "      <td>27.0</td>\n",
       "      <td>tt0119664</td>\n",
       "      <td>Metro</td>\n",
       "      <td>1997</td>\n",
       "      <td>60.0</td>\n",
       "      <td>0.129140</td>\n",
       "    </tr>\n",
       "    <tr>\n",
       "      <th>14889</th>\n",
       "      <td>4968</td>\n",
       "      <td>karen</td>\n",
       "      <td>165</td>\n",
       "      <td>f</td>\n",
       "      <td>NaN</td>\n",
       "      <td>tt0301848</td>\n",
       "      <td>Slash</td>\n",
       "      <td>2002</td>\n",
       "      <td>NaN</td>\n",
       "      <td>0.026459</td>\n",
       "    </tr>\n",
       "    <tr>\n",
       "      <th>11100</th>\n",
       "      <td>3563</td>\n",
       "      <td>jim prideaux</td>\n",
       "      <td>608</td>\n",
       "      <td>m</td>\n",
       "      <td>48.0</td>\n",
       "      <td>tt1340800</td>\n",
       "      <td>Tinker Tailor Soldier Spy</td>\n",
       "      <td>2011</td>\n",
       "      <td>26.0</td>\n",
       "      <td>0.064722</td>\n",
       "    </tr>\n",
       "    <tr>\n",
       "      <th>10523</th>\n",
       "      <td>3381</td>\n",
       "      <td>erica albright</td>\n",
       "      <td>878</td>\n",
       "      <td>f</td>\n",
       "      <td>25.0</td>\n",
       "      <td>tt1285016</td>\n",
       "      <td>The Social Network</td>\n",
       "      <td>2010</td>\n",
       "      <td>106.0</td>\n",
       "      <td>0.042122</td>\n",
       "    </tr>\n",
       "    <tr>\n",
       "      <th>11</th>\n",
       "      <td>623</td>\n",
       "      <td>detective leon</td>\n",
       "      <td>366</td>\n",
       "      <td>m</td>\n",
       "      <td>53.0</td>\n",
       "      <td>tt0179626</td>\n",
       "      <td>15 Minutes</td>\n",
       "      <td>2001</td>\n",
       "      <td>37.0</td>\n",
       "      <td>0.040184</td>\n",
       "    </tr>\n",
       "    <tr>\n",
       "      <th>4760</th>\n",
       "      <td>1843</td>\n",
       "      <td>karen</td>\n",
       "      <td>2782</td>\n",
       "      <td>f</td>\n",
       "      <td>28.0</td>\n",
       "      <td>tt0120611</td>\n",
       "      <td>Blade</td>\n",
       "      <td>1998</td>\n",
       "      <td>129.0</td>\n",
       "      <td>0.194437</td>\n",
       "    </tr>\n",
       "    <tr>\n",
       "      <th>6901</th>\n",
       "      <td>2382</td>\n",
       "      <td>buddy</td>\n",
       "      <td>1821</td>\n",
       "      <td>m</td>\n",
       "      <td>27.0</td>\n",
       "      <td>tt1194263</td>\n",
       "      <td>Get Low</td>\n",
       "      <td>2009</td>\n",
       "      <td>10.0</td>\n",
       "      <td>0.133936</td>\n",
       "    </tr>\n",
       "    <tr>\n",
       "      <th>3991</th>\n",
       "      <td>1635</td>\n",
       "      <td>michelle flaher</td>\n",
       "      <td>996</td>\n",
       "      <td>f</td>\n",
       "      <td>25.0</td>\n",
       "      <td>tt0163651</td>\n",
       "      <td>American Pie</td>\n",
       "      <td>1999</td>\n",
       "      <td>174.0</td>\n",
       "      <td>0.057058</td>\n",
       "    </tr>\n",
       "    <tr>\n",
       "      <th>17534</th>\n",
       "      <td>6446</td>\n",
       "      <td>julia costello</td>\n",
       "      <td>1334</td>\n",
       "      <td>f</td>\n",
       "      <td>27.0</td>\n",
       "      <td>tt0120832</td>\n",
       "      <td>Snake Eyes</td>\n",
       "      <td>1998</td>\n",
       "      <td>103.0</td>\n",
       "      <td>0.106626</td>\n",
       "    </tr>\n",
       "    <tr>\n",
       "      <th>14142</th>\n",
       "      <td>4677</td>\n",
       "      <td>florence dempse</td>\n",
       "      <td>3110</td>\n",
       "      <td>f</td>\n",
       "      <td>32.0</td>\n",
       "      <td>tt0024368</td>\n",
       "      <td>Mystery of the Wax Museum</td>\n",
       "      <td>1933</td>\n",
       "      <td>NaN</td>\n",
       "      <td>0.316668</td>\n",
       "    </tr>\n",
       "  </tbody>\n",
       "</table>\n",
       "</div>"
      ],
      "text/plain": [
       "       script_id imdb_character_name  words gender   age    imdb_id  \\\n",
       "2140        1152        kevin mccall   1123      m  27.0  tt0119664   \n",
       "14889       4968               karen    165      f   NaN  tt0301848   \n",
       "11100       3563        jim prideaux    608      m  48.0  tt1340800   \n",
       "10523       3381      erica albright    878      f  25.0  tt1285016   \n",
       "11           623     detective leon     366      m  53.0  tt0179626   \n",
       "4760        1843               karen   2782      f  28.0  tt0120611   \n",
       "6901        2382               buddy   1821      m  27.0  tt1194263   \n",
       "3991        1635     michelle flaher    996      f  25.0  tt0163651   \n",
       "17534       6446      julia costello   1334      f  27.0  tt0120832   \n",
       "14142       4677     florence dempse   3110      f  32.0  tt0024368   \n",
       "\n",
       "                           title  year  gross  proportion_of_dialogue  \n",
       "2140                       Metro  1997   60.0                0.129140  \n",
       "14889                      Slash  2002    NaN                0.026459  \n",
       "11100  Tinker Tailor Soldier Spy  2011   26.0                0.064722  \n",
       "10523         The Social Network  2010  106.0                0.042122  \n",
       "11                    15 Minutes  2001   37.0                0.040184  \n",
       "4760                       Blade  1998  129.0                0.194437  \n",
       "6901                     Get Low  2009   10.0                0.133936  \n",
       "3991                American Pie  1999  174.0                0.057058  \n",
       "17534                 Snake Eyes  1998  103.0                0.106626  \n",
       "14142  Mystery of the Wax Museum  1933    NaN                0.316668  "
      ]
     },
     "execution_count": 6,
     "metadata": {},
     "output_type": "execute_result"
    }
   ],
   "source": [
    "film_df.sample(10)"
   ]
  },
  {
   "cell_type": "markdown",
   "metadata": {},
   "source": [
    "### 2.7 Examine Data"
   ]
  },
  {
   "cell_type": "markdown",
   "metadata": {},
   "source": [
    "**Shape**"
   ]
  },
  {
   "cell_type": "markdown",
   "metadata": {},
   "source": [
    "To explicitly check for how many rows vs columns make up a dataset, we can use the `.shape` method."
   ]
  },
  {
   "cell_type": "code",
   "execution_count": 7,
   "metadata": {},
   "outputs": [
    {
     "data": {
      "text/plain": [
       "(23052, 10)"
      ]
     },
     "execution_count": 7,
     "metadata": {},
     "output_type": "execute_result"
    }
   ],
   "source": [
    "film_df.shape"
   ]
  },
  {
   "cell_type": "markdown",
   "metadata": {},
   "source": [
    "There are 23,052 rows and 10 columns."
   ]
  },
  {
   "cell_type": "markdown",
   "metadata": {},
   "source": [
    "### 2.8 Reminder: Data Types"
   ]
  },
  {
   "cell_type": "markdown",
   "metadata": {},
   "source": [
    "Just like Python has different data types, Pandas has different data types, too. These data types are automatically assigned to columns when we read in a CSV file. We can check these Pandas data types with the [`.dtypes` method](https://pandas.pydata.org/pandas-docs/stable/reference/api/pandas.DataFrame.dtypes.html)."
   ]
  },
  {
   "cell_type": "markdown",
   "metadata": {},
   "source": [
    "\n",
    "\n",
    "| **Pandas Data Type** |  **Explanation**                                                                                   |\n",
    "|:-------------:|:---------------------------------------------------------------------------------------------------:|\n",
    "| `object`         | string                                                                               |\n",
    "| `float64`         | float                                               |\n",
    "| `int64`       | integer                                                        |\n",
    "| `datetime64`       |  date time              "
   ]
  },
  {
   "cell_type": "code",
   "execution_count": 8,
   "metadata": {},
   "outputs": [
    {
     "data": {
      "text/plain": [
       "script_id                   int64\n",
       "imdb_character_name        object\n",
       "words                       int64\n",
       "gender                     object\n",
       "age                       float64\n",
       "imdb_id                    object\n",
       "title                      object\n",
       "year                        int64\n",
       "gross                     float64\n",
       "proportion_of_dialogue    float64\n",
       "dtype: object"
      ]
     },
     "execution_count": 8,
     "metadata": {},
     "output_type": "execute_result"
    }
   ],
   "source": [
    "film_df.dtypes"
   ]
  },
  {
   "cell_type": "markdown",
   "metadata": {},
   "source": [
    "It's important to always check the data types in your DataFrame. For example, sometimes numeric values will accidentally be interpreted as a string object. To perform calculations on this data, you would need to first convert that column from a string to an integer."
   ]
  },
  {
   "cell_type": "markdown",
   "metadata": {},
   "source": [
    "### 2.9 Columns"
   ]
  },
  {
   "cell_type": "markdown",
   "metadata": {},
   "source": [
    "We can also check the column names of the DataFrame with [`.columns`](https://pandas.pydata.org/pandas-docs/stable/reference/api/pandas.DataFrame.columns.html)"
   ]
  },
  {
   "cell_type": "code",
   "execution_count": 9,
   "metadata": {},
   "outputs": [
    {
     "data": {
      "text/plain": [
       "Index(['script_id', 'imdb_character_name', 'words', 'gender', 'age', 'imdb_id',\n",
       "       'title', 'year', 'gross', 'proportion_of_dialogue'],\n",
       "      dtype='object')"
      ]
     },
     "execution_count": 9,
     "metadata": {},
     "output_type": "execute_result"
    }
   ],
   "source": [
    "film_df.columns"
   ]
  },
  {
   "cell_type": "markdown",
   "metadata": {},
   "source": [
    "## 3. Summary Statistics &amp; Data Processing"
   ]
  },
  {
   "cell_type": "markdown",
   "metadata": {},
   "source": [
    "Summary stats can help us spot initial patterns or even issues in the data."
   ]
  },
  {
   "cell_type": "code",
   "execution_count": 10,
   "metadata": {},
   "outputs": [
    {
     "data": {
      "text/html": [
       "<div>\n",
       "<style scoped>\n",
       "    .dataframe tbody tr th:only-of-type {\n",
       "        vertical-align: middle;\n",
       "    }\n",
       "\n",
       "    .dataframe tbody tr th {\n",
       "        vertical-align: top;\n",
       "    }\n",
       "\n",
       "    .dataframe thead th {\n",
       "        text-align: right;\n",
       "    }\n",
       "</style>\n",
       "<table border=\"1\" class=\"dataframe\">\n",
       "  <thead>\n",
       "    <tr style=\"text-align: right;\">\n",
       "      <th></th>\n",
       "      <th>script_id</th>\n",
       "      <th>imdb_character_name</th>\n",
       "      <th>words</th>\n",
       "      <th>gender</th>\n",
       "      <th>age</th>\n",
       "      <th>imdb_id</th>\n",
       "      <th>title</th>\n",
       "      <th>year</th>\n",
       "      <th>gross</th>\n",
       "      <th>proportion_of_dialogue</th>\n",
       "    </tr>\n",
       "  </thead>\n",
       "  <tbody>\n",
       "    <tr>\n",
       "      <th>count</th>\n",
       "      <td>23052.000000</td>\n",
       "      <td>23050</td>\n",
       "      <td>23052.000000</td>\n",
       "      <td>23052</td>\n",
       "      <td>18266.000000</td>\n",
       "      <td>23052</td>\n",
       "      <td>23052</td>\n",
       "      <td>23052.000000</td>\n",
       "      <td>19390.000000</td>\n",
       "      <td>23052.000000</td>\n",
       "    </tr>\n",
       "    <tr>\n",
       "      <th>unique</th>\n",
       "      <td>NaN</td>\n",
       "      <td>17613</td>\n",
       "      <td>NaN</td>\n",
       "      <td>3</td>\n",
       "      <td>NaN</td>\n",
       "      <td>2000</td>\n",
       "      <td>1994</td>\n",
       "      <td>NaN</td>\n",
       "      <td>NaN</td>\n",
       "      <td>NaN</td>\n",
       "    </tr>\n",
       "    <tr>\n",
       "      <th>top</th>\n",
       "      <td>NaN</td>\n",
       "      <td>doctor</td>\n",
       "      <td>NaN</td>\n",
       "      <td>m</td>\n",
       "      <td>NaN</td>\n",
       "      <td>tt0116905</td>\n",
       "      <td>Lone Star</td>\n",
       "      <td>NaN</td>\n",
       "      <td>NaN</td>\n",
       "      <td>NaN</td>\n",
       "    </tr>\n",
       "    <tr>\n",
       "      <th>freq</th>\n",
       "      <td>NaN</td>\n",
       "      <td>36</td>\n",
       "      <td>NaN</td>\n",
       "      <td>16135</td>\n",
       "      <td>NaN</td>\n",
       "      <td>40</td>\n",
       "      <td>40</td>\n",
       "      <td>NaN</td>\n",
       "      <td>NaN</td>\n",
       "      <td>NaN</td>\n",
       "    </tr>\n",
       "    <tr>\n",
       "      <th>mean</th>\n",
       "      <td>4195.580904</td>\n",
       "      <td>NaN</td>\n",
       "      <td>907.870684</td>\n",
       "      <td>NaN</td>\n",
       "      <td>42.386839</td>\n",
       "      <td>NaN</td>\n",
       "      <td>NaN</td>\n",
       "      <td>1998.133828</td>\n",
       "      <td>106.805570</td>\n",
       "      <td>0.086512</td>\n",
       "    </tr>\n",
       "    <tr>\n",
       "      <th>std</th>\n",
       "      <td>2473.518048</td>\n",
       "      <td>NaN</td>\n",
       "      <td>1399.538583</td>\n",
       "      <td>NaN</td>\n",
       "      <td>59.714730</td>\n",
       "      <td>NaN</td>\n",
       "      <td>NaN</td>\n",
       "      <td>14.745342</td>\n",
       "      <td>145.992394</td>\n",
       "      <td>0.107740</td>\n",
       "    </tr>\n",
       "    <tr>\n",
       "      <th>min</th>\n",
       "      <td>280.000000</td>\n",
       "      <td>NaN</td>\n",
       "      <td>101.000000</td>\n",
       "      <td>NaN</td>\n",
       "      <td>3.000000</td>\n",
       "      <td>NaN</td>\n",
       "      <td>NaN</td>\n",
       "      <td>1929.000000</td>\n",
       "      <td>0.000000</td>\n",
       "      <td>0.001537</td>\n",
       "    </tr>\n",
       "    <tr>\n",
       "      <th>25%</th>\n",
       "      <td>2095.000000</td>\n",
       "      <td>NaN</td>\n",
       "      <td>193.000000</td>\n",
       "      <td>NaN</td>\n",
       "      <td>30.000000</td>\n",
       "      <td>NaN</td>\n",
       "      <td>NaN</td>\n",
       "      <td>1992.000000</td>\n",
       "      <td>22.000000</td>\n",
       "      <td>0.019771</td>\n",
       "    </tr>\n",
       "    <tr>\n",
       "      <th>50%</th>\n",
       "      <td>3694.000000</td>\n",
       "      <td>NaN</td>\n",
       "      <td>396.000000</td>\n",
       "      <td>NaN</td>\n",
       "      <td>39.000000</td>\n",
       "      <td>NaN</td>\n",
       "      <td>NaN</td>\n",
       "      <td>2001.000000</td>\n",
       "      <td>56.000000</td>\n",
       "      <td>0.042421</td>\n",
       "    </tr>\n",
       "    <tr>\n",
       "      <th>75%</th>\n",
       "      <td>6234.000000</td>\n",
       "      <td>NaN</td>\n",
       "      <td>980.000000</td>\n",
       "      <td>NaN</td>\n",
       "      <td>50.000000</td>\n",
       "      <td>NaN</td>\n",
       "      <td>NaN</td>\n",
       "      <td>2009.000000</td>\n",
       "      <td>136.000000</td>\n",
       "      <td>0.104166</td>\n",
       "    </tr>\n",
       "    <tr>\n",
       "      <th>max</th>\n",
       "      <td>9254.000000</td>\n",
       "      <td>NaN</td>\n",
       "      <td>28102.000000</td>\n",
       "      <td>NaN</td>\n",
       "      <td>2013.000000</td>\n",
       "      <td>NaN</td>\n",
       "      <td>NaN</td>\n",
       "      <td>2015.000000</td>\n",
       "      <td>1798.000000</td>\n",
       "      <td>0.923422</td>\n",
       "    </tr>\n",
       "  </tbody>\n",
       "</table>\n",
       "</div>"
      ],
      "text/plain": [
       "           script_id imdb_character_name         words gender           age  \\\n",
       "count   23052.000000               23050  23052.000000  23052  18266.000000   \n",
       "unique           NaN               17613           NaN      3           NaN   \n",
       "top              NaN              doctor           NaN      m           NaN   \n",
       "freq             NaN                  36           NaN  16135           NaN   \n",
       "mean     4195.580904                 NaN    907.870684    NaN     42.386839   \n",
       "std      2473.518048                 NaN   1399.538583    NaN     59.714730   \n",
       "min       280.000000                 NaN    101.000000    NaN      3.000000   \n",
       "25%      2095.000000                 NaN    193.000000    NaN     30.000000   \n",
       "50%      3694.000000                 NaN    396.000000    NaN     39.000000   \n",
       "75%      6234.000000                 NaN    980.000000    NaN     50.000000   \n",
       "max      9254.000000                 NaN  28102.000000    NaN   2013.000000   \n",
       "\n",
       "          imdb_id      title          year         gross  \\\n",
       "count       23052      23052  23052.000000  19390.000000   \n",
       "unique       2000       1994           NaN           NaN   \n",
       "top     tt0116905  Lone Star           NaN           NaN   \n",
       "freq           40         40           NaN           NaN   \n",
       "mean          NaN        NaN   1998.133828    106.805570   \n",
       "std           NaN        NaN     14.745342    145.992394   \n",
       "min           NaN        NaN   1929.000000      0.000000   \n",
       "25%           NaN        NaN   1992.000000     22.000000   \n",
       "50%           NaN        NaN   2001.000000     56.000000   \n",
       "75%           NaN        NaN   2009.000000    136.000000   \n",
       "max           NaN        NaN   2015.000000   1798.000000   \n",
       "\n",
       "        proportion_of_dialogue  \n",
       "count             23052.000000  \n",
       "unique                     NaN  \n",
       "top                        NaN  \n",
       "freq                       NaN  \n",
       "mean                  0.086512  \n",
       "std                   0.107740  \n",
       "min                   0.001537  \n",
       "25%                   0.019771  \n",
       "50%                   0.042421  \n",
       "75%                   0.104166  \n",
       "max                   0.923422  "
      ]
     },
     "execution_count": 10,
     "metadata": {},
     "output_type": "execute_result"
    }
   ],
   "source": [
    "film_df.describe(include='all')"
   ]
  },
  {
   "cell_type": "markdown",
   "metadata": {},
   "source": [
    "**Read the data for any outliers, anomalies, or potential problems.**\n",
    "\n",
    "Notice how the maximum value in the \"age\" column is 2013! That seems like an error."
   ]
  },
  {
   "cell_type": "code",
   "execution_count": 11,
   "metadata": {},
   "outputs": [
    {
     "data": {
      "text/html": [
       "<div>\n",
       "<style scoped>\n",
       "    .dataframe tbody tr th:only-of-type {\n",
       "        vertical-align: middle;\n",
       "    }\n",
       "\n",
       "    .dataframe tbody tr th {\n",
       "        vertical-align: top;\n",
       "    }\n",
       "\n",
       "    .dataframe thead th {\n",
       "        text-align: right;\n",
       "    }\n",
       "</style>\n",
       "<table border=\"1\" class=\"dataframe\">\n",
       "  <thead>\n",
       "    <tr style=\"text-align: right;\">\n",
       "      <th></th>\n",
       "      <th>script_id</th>\n",
       "      <th>imdb_character_name</th>\n",
       "      <th>words</th>\n",
       "      <th>gender</th>\n",
       "      <th>age</th>\n",
       "      <th>imdb_id</th>\n",
       "      <th>title</th>\n",
       "      <th>year</th>\n",
       "      <th>gross</th>\n",
       "      <th>proportion_of_dialogue</th>\n",
       "    </tr>\n",
       "  </thead>\n",
       "  <tbody>\n",
       "    <tr>\n",
       "      <th>11639</th>\n",
       "      <td>3737</td>\n",
       "      <td>lucas solomon</td>\n",
       "      <td>190</td>\n",
       "      <td>m</td>\n",
       "      <td>2013.0</td>\n",
       "      <td>tt0993846</td>\n",
       "      <td>The Wolf of Wall Street</td>\n",
       "      <td>2013</td>\n",
       "      <td>125.0</td>\n",
       "      <td>0.011077</td>\n",
       "    </tr>\n",
       "  </tbody>\n",
       "</table>\n",
       "</div>"
      ],
      "text/plain": [
       "       script_id imdb_character_name  words gender     age    imdb_id  \\\n",
       "11639       3737       lucas solomon    190      m  2013.0  tt0993846   \n",
       "\n",
       "                         title  year  gross  proportion_of_dialogue  \n",
       "11639  The Wolf of Wall Street  2013  125.0                0.011077  "
      ]
     },
     "execution_count": 11,
     "metadata": {},
     "output_type": "execute_result"
    }
   ],
   "source": [
    "film_df[film_df['age'] == 2013]"
   ]
  },
  {
   "cell_type": "markdown",
   "metadata": {},
   "source": [
    "Let's drop this row from the dataset by using the `.drop()` method and the Index number of the row."
   ]
  },
  {
   "cell_type": "code",
   "execution_count": 12,
   "metadata": {},
   "outputs": [],
   "source": [
    "film_df = film_df.drop(11639)"
   ]
  },
  {
   "cell_type": "markdown",
   "metadata": {},
   "source": [
    "Now if we look for it again, that row is gone."
   ]
  },
  {
   "cell_type": "code",
   "execution_count": 13,
   "metadata": {},
   "outputs": [
    {
     "data": {
      "text/html": [
       "<div>\n",
       "<style scoped>\n",
       "    .dataframe tbody tr th:only-of-type {\n",
       "        vertical-align: middle;\n",
       "    }\n",
       "\n",
       "    .dataframe tbody tr th {\n",
       "        vertical-align: top;\n",
       "    }\n",
       "\n",
       "    .dataframe thead th {\n",
       "        text-align: right;\n",
       "    }\n",
       "</style>\n",
       "<table border=\"1\" class=\"dataframe\">\n",
       "  <thead>\n",
       "    <tr style=\"text-align: right;\">\n",
       "      <th></th>\n",
       "      <th>script_id</th>\n",
       "      <th>imdb_character_name</th>\n",
       "      <th>words</th>\n",
       "      <th>gender</th>\n",
       "      <th>age</th>\n",
       "      <th>imdb_id</th>\n",
       "      <th>title</th>\n",
       "      <th>year</th>\n",
       "      <th>gross</th>\n",
       "      <th>proportion_of_dialogue</th>\n",
       "    </tr>\n",
       "  </thead>\n",
       "  <tbody>\n",
       "  </tbody>\n",
       "</table>\n",
       "</div>"
      ],
      "text/plain": [
       "Empty DataFrame\n",
       "Columns: [script_id, imdb_character_name, words, gender, age, imdb_id, title, year, gross, proportion_of_dialogue]\n",
       "Index: []"
      ]
     },
     "execution_count": 13,
     "metadata": {},
     "output_type": "execute_result"
    }
   ],
   "source": [
    "film_df[film_df['age'] == 2013]"
   ]
  },
  {
   "cell_type": "markdown",
   "metadata": {},
   "source": [
    "### 3.1 Rename Columns"
   ]
  },
  {
   "cell_type": "code",
   "execution_count": 14,
   "metadata": {},
   "outputs": [],
   "source": [
    "film_df = film_df.rename(columns={'imdb_character_name': 'character', 'year': 'release_year'})"
   ]
  },
  {
   "cell_type": "code",
   "execution_count": 15,
   "metadata": {
    "tags": [
     "full-width"
    ]
   },
   "outputs": [
    {
     "data": {
      "text/html": [
       "<div>\n",
       "<style scoped>\n",
       "    .dataframe tbody tr th:only-of-type {\n",
       "        vertical-align: middle;\n",
       "    }\n",
       "\n",
       "    .dataframe tbody tr th {\n",
       "        vertical-align: top;\n",
       "    }\n",
       "\n",
       "    .dataframe thead th {\n",
       "        text-align: right;\n",
       "    }\n",
       "</style>\n",
       "<table border=\"1\" class=\"dataframe\">\n",
       "  <thead>\n",
       "    <tr style=\"text-align: right;\">\n",
       "      <th></th>\n",
       "      <th>script_id</th>\n",
       "      <th>character</th>\n",
       "      <th>words</th>\n",
       "      <th>gender</th>\n",
       "      <th>age</th>\n",
       "      <th>imdb_id</th>\n",
       "      <th>title</th>\n",
       "      <th>release_year</th>\n",
       "      <th>gross</th>\n",
       "      <th>proportion_of_dialogue</th>\n",
       "    </tr>\n",
       "  </thead>\n",
       "  <tbody>\n",
       "    <tr>\n",
       "      <th>0</th>\n",
       "      <td>280</td>\n",
       "      <td>betty</td>\n",
       "      <td>311</td>\n",
       "      <td>f</td>\n",
       "      <td>35.0</td>\n",
       "      <td>tt0112579</td>\n",
       "      <td>The Bridges of Madison County</td>\n",
       "      <td>1995</td>\n",
       "      <td>142.0</td>\n",
       "      <td>0.048639</td>\n",
       "    </tr>\n",
       "    <tr>\n",
       "      <th>1</th>\n",
       "      <td>280</td>\n",
       "      <td>carolyn johnson</td>\n",
       "      <td>873</td>\n",
       "      <td>f</td>\n",
       "      <td>NaN</td>\n",
       "      <td>tt0112579</td>\n",
       "      <td>The Bridges of Madison County</td>\n",
       "      <td>1995</td>\n",
       "      <td>142.0</td>\n",
       "      <td>0.136534</td>\n",
       "    </tr>\n",
       "    <tr>\n",
       "      <th>2</th>\n",
       "      <td>280</td>\n",
       "      <td>eleanor</td>\n",
       "      <td>138</td>\n",
       "      <td>f</td>\n",
       "      <td>NaN</td>\n",
       "      <td>tt0112579</td>\n",
       "      <td>The Bridges of Madison County</td>\n",
       "      <td>1995</td>\n",
       "      <td>142.0</td>\n",
       "      <td>0.021583</td>\n",
       "    </tr>\n",
       "    <tr>\n",
       "      <th>3</th>\n",
       "      <td>280</td>\n",
       "      <td>francesca johns</td>\n",
       "      <td>2251</td>\n",
       "      <td>f</td>\n",
       "      <td>46.0</td>\n",
       "      <td>tt0112579</td>\n",
       "      <td>The Bridges of Madison County</td>\n",
       "      <td>1995</td>\n",
       "      <td>142.0</td>\n",
       "      <td>0.352049</td>\n",
       "    </tr>\n",
       "    <tr>\n",
       "      <th>4</th>\n",
       "      <td>280</td>\n",
       "      <td>madge</td>\n",
       "      <td>190</td>\n",
       "      <td>f</td>\n",
       "      <td>46.0</td>\n",
       "      <td>tt0112579</td>\n",
       "      <td>The Bridges of Madison County</td>\n",
       "      <td>1995</td>\n",
       "      <td>142.0</td>\n",
       "      <td>0.029715</td>\n",
       "    </tr>\n",
       "  </tbody>\n",
       "</table>\n",
       "</div>"
      ],
      "text/plain": [
       "   script_id        character  words gender   age    imdb_id  \\\n",
       "0        280            betty    311      f  35.0  tt0112579   \n",
       "1        280  carolyn johnson    873      f   NaN  tt0112579   \n",
       "2        280          eleanor    138      f   NaN  tt0112579   \n",
       "3        280  francesca johns   2251      f  46.0  tt0112579   \n",
       "4        280            madge    190      f  46.0  tt0112579   \n",
       "\n",
       "                           title  release_year  gross  proportion_of_dialogue  \n",
       "0  The Bridges of Madison County          1995  142.0                0.048639  \n",
       "1  The Bridges of Madison County          1995  142.0                0.136534  \n",
       "2  The Bridges of Madison County          1995  142.0                0.021583  \n",
       "3  The Bridges of Madison County          1995  142.0                0.352049  \n",
       "4  The Bridges of Madison County          1995  142.0                0.029715  "
      ]
     },
     "execution_count": 15,
     "metadata": {},
     "output_type": "execute_result"
    }
   ],
   "source": [
    "film_df.head()"
   ]
  },
  {
   "cell_type": "markdown",
   "metadata": {},
   "source": [
    "### 3.2 Drop Columns"
   ]
  },
  {
   "cell_type": "code",
   "execution_count": 16,
   "metadata": {},
   "outputs": [],
   "source": [
    "film_df = film_df.drop(columns='imdb_id')"
   ]
  },
  {
   "cell_type": "markdown",
   "metadata": {},
   "source": [
    "### 3.3 Dealing with missing data .isna() / .notna()"
   ]
  },
  {
   "cell_type": "markdown",
   "metadata": {},
   "source": [
    "Pandas has special ways of dealing with missing data. As you may have already noticed, blank rows in a CSV file show up as `NaN` in a Pandas DataFrame."
   ]
  },
  {
   "cell_type": "markdown",
   "metadata": {},
   "source": [
    "To filter and count the number of missing/not missing values in a dataset, we can use the special `.isna()` and `.notna()` methods on a DataFrame or Series object. "
   ]
  },
  {
   "cell_type": "markdown",
   "metadata": {},
   "source": [
    "The `.isna()` and `.notna()` methods return True/False pairs for each row, which we can use to filter the DataFrame for any rows that have information in a given column. "
   ]
  },
  {
   "cell_type": "code",
   "execution_count": 17,
   "metadata": {},
   "outputs": [
    {
     "data": {
      "text/html": [
       "<div>\n",
       "<style scoped>\n",
       "    .dataframe tbody tr th:only-of-type {\n",
       "        vertical-align: middle;\n",
       "    }\n",
       "\n",
       "    .dataframe tbody tr th {\n",
       "        vertical-align: top;\n",
       "    }\n",
       "\n",
       "    .dataframe thead th {\n",
       "        text-align: right;\n",
       "    }\n",
       "</style>\n",
       "<table border=\"1\" class=\"dataframe\">\n",
       "  <thead>\n",
       "    <tr style=\"text-align: right;\">\n",
       "      <th></th>\n",
       "      <th>script_id</th>\n",
       "      <th>character</th>\n",
       "      <th>words</th>\n",
       "      <th>gender</th>\n",
       "      <th>age</th>\n",
       "      <th>title</th>\n",
       "      <th>release_year</th>\n",
       "      <th>gross</th>\n",
       "      <th>proportion_of_dialogue</th>\n",
       "    </tr>\n",
       "  </thead>\n",
       "  <tbody>\n",
       "    <tr>\n",
       "      <th>4656</th>\n",
       "      <td>1807</td>\n",
       "      <td>NaN</td>\n",
       "      <td>146</td>\n",
       "      <td>f</td>\n",
       "      <td>NaN</td>\n",
       "      <td>Beloved</td>\n",
       "      <td>1998</td>\n",
       "      <td>42.0</td>\n",
       "      <td>0.005162</td>\n",
       "    </tr>\n",
       "    <tr>\n",
       "      <th>19448</th>\n",
       "      <td>7445</td>\n",
       "      <td>NaN</td>\n",
       "      <td>520</td>\n",
       "      <td>f</td>\n",
       "      <td>NaN</td>\n",
       "      <td>House of Games</td>\n",
       "      <td>1987</td>\n",
       "      <td>5.0</td>\n",
       "      <td>0.165184</td>\n",
       "    </tr>\n",
       "  </tbody>\n",
       "</table>\n",
       "</div>"
      ],
      "text/plain": [
       "       script_id character  words gender  age           title  release_year  \\\n",
       "4656        1807       NaN    146      f  NaN         Beloved          1998   \n",
       "19448       7445       NaN    520      f  NaN  House of Games          1987   \n",
       "\n",
       "       gross  proportion_of_dialogue  \n",
       "4656    42.0                0.005162  \n",
       "19448    5.0                0.165184  "
      ]
     },
     "execution_count": 17,
     "metadata": {},
     "output_type": "execute_result"
    }
   ],
   "source": [
    "film_df[film_df['character'].isna()]"
   ]
  },
  {
   "cell_type": "markdown",
   "metadata": {},
   "source": [
    "This is important information for the sake of better understanding our dataset. But it's also important because `NaN` values are treated as *floats*, not *strings*. If we tried to manipulate this column as text data, we would get an error. For this reason, we're going to replace or \"fill\" these `NaN` values with the string \"No Character Data\" by using the `.fillna()` method."
   ]
  },
  {
   "cell_type": "code",
   "execution_count": 18,
   "metadata": {},
   "outputs": [],
   "source": [
    "film_df['character'] = film_df['character'].fillna('No Character Data')"
   ]
  },
  {
   "cell_type": "code",
   "execution_count": 19,
   "metadata": {},
   "outputs": [
    {
     "data": {
      "text/html": [
       "<div>\n",
       "<style scoped>\n",
       "    .dataframe tbody tr th:only-of-type {\n",
       "        vertical-align: middle;\n",
       "    }\n",
       "\n",
       "    .dataframe tbody tr th {\n",
       "        vertical-align: top;\n",
       "    }\n",
       "\n",
       "    .dataframe thead th {\n",
       "        text-align: right;\n",
       "    }\n",
       "</style>\n",
       "<table border=\"1\" class=\"dataframe\">\n",
       "  <thead>\n",
       "    <tr style=\"text-align: right;\">\n",
       "      <th></th>\n",
       "      <th>script_id</th>\n",
       "      <th>character</th>\n",
       "      <th>words</th>\n",
       "      <th>gender</th>\n",
       "      <th>age</th>\n",
       "      <th>title</th>\n",
       "      <th>release_year</th>\n",
       "      <th>gross</th>\n",
       "      <th>proportion_of_dialogue</th>\n",
       "    </tr>\n",
       "  </thead>\n",
       "  <tbody>\n",
       "  </tbody>\n",
       "</table>\n",
       "</div>"
      ],
      "text/plain": [
       "Empty DataFrame\n",
       "Columns: [script_id, character, words, gender, age, title, release_year, gross, proportion_of_dialogue]\n",
       "Index: []"
      ]
     },
     "execution_count": 19,
     "metadata": {},
     "output_type": "execute_result"
    }
   ],
   "source": [
    "film_df[film_df['character'].isna()]"
   ]
  },
  {
   "cell_type": "markdown",
   "metadata": {},
   "source": [
    "### 3.4 Check for Duplicates "
   ]
  },
  {
   "cell_type": "markdown",
   "metadata": {},
   "source": [
    "We can check for duplicate rows by using the `.duplicated()` method and setting the parameter `keep=False`, which will display all the duplicated values in the dataset — rather than just the first duplicated value `keep='first'` or the last duplicated value `keep='last'`."
   ]
  },
  {
   "cell_type": "code",
   "execution_count": 20,
   "metadata": {},
   "outputs": [
    {
     "data": {
      "text/plain": [
       "0        False\n",
       "1        False\n",
       "2        False\n",
       "3        False\n",
       "4        False\n",
       "         ...  \n",
       "23047    False\n",
       "23048    False\n",
       "23049     True\n",
       "23050    False\n",
       "23051     True\n",
       "Length: 23051, dtype: bool"
      ]
     },
     "execution_count": 20,
     "metadata": {},
     "output_type": "execute_result"
    }
   ],
   "source": [
    "film_df.duplicated(keep=False)"
   ]
  },
  {
   "cell_type": "markdown",
   "metadata": {},
   "source": [
    "The output above is reporting whether each row in the dataset is a duplicate. We can use the `.duplicated()` method inside a filter to isolate only the rows in the dataframe that are exact duplicates."
   ]
  },
  {
   "cell_type": "code",
   "execution_count": 21,
   "metadata": {
    "tags": [
     "full-width"
    ]
   },
   "outputs": [
    {
     "data": {
      "text/html": [
       "<div>\n",
       "<style scoped>\n",
       "    .dataframe tbody tr th:only-of-type {\n",
       "        vertical-align: middle;\n",
       "    }\n",
       "\n",
       "    .dataframe tbody tr th {\n",
       "        vertical-align: top;\n",
       "    }\n",
       "\n",
       "    .dataframe thead th {\n",
       "        text-align: right;\n",
       "    }\n",
       "</style>\n",
       "<table border=\"1\" class=\"dataframe\">\n",
       "  <thead>\n",
       "    <tr style=\"text-align: right;\">\n",
       "      <th></th>\n",
       "      <th>script_id</th>\n",
       "      <th>character</th>\n",
       "      <th>words</th>\n",
       "      <th>gender</th>\n",
       "      <th>age</th>\n",
       "      <th>title</th>\n",
       "      <th>release_year</th>\n",
       "      <th>gross</th>\n",
       "      <th>proportion_of_dialogue</th>\n",
       "    </tr>\n",
       "  </thead>\n",
       "  <tbody>\n",
       "    <tr>\n",
       "      <th>21001</th>\n",
       "      <td>8099</td>\n",
       "      <td>c-3po</td>\n",
       "      <td>138</td>\n",
       "      <td>m</td>\n",
       "      <td>69.0</td>\n",
       "      <td>Star Wars: Episode VII - The Force Awakens</td>\n",
       "      <td>2015</td>\n",
       "      <td>927.0</td>\n",
       "      <td>0.020702</td>\n",
       "    </tr>\n",
       "    <tr>\n",
       "      <th>21002</th>\n",
       "      <td>8099</td>\n",
       "      <td>c-3po</td>\n",
       "      <td>138</td>\n",
       "      <td>m</td>\n",
       "      <td>69.0</td>\n",
       "      <td>Star Wars: Episode VII - The Force Awakens</td>\n",
       "      <td>2015</td>\n",
       "      <td>927.0</td>\n",
       "      <td>0.020702</td>\n",
       "    </tr>\n",
       "    <tr>\n",
       "      <th>21963</th>\n",
       "      <td>8560</td>\n",
       "      <td>kilgore trout</td>\n",
       "      <td>2673</td>\n",
       "      <td>m</td>\n",
       "      <td>63.0</td>\n",
       "      <td>Breakfast of Champions</td>\n",
       "      <td>1999</td>\n",
       "      <td>NaN</td>\n",
       "      <td>0.197211</td>\n",
       "    </tr>\n",
       "    <tr>\n",
       "      <th>21964</th>\n",
       "      <td>8560</td>\n",
       "      <td>kilgore trout</td>\n",
       "      <td>2673</td>\n",
       "      <td>m</td>\n",
       "      <td>63.0</td>\n",
       "      <td>Breakfast of Champions</td>\n",
       "      <td>1999</td>\n",
       "      <td>NaN</td>\n",
       "      <td>0.197211</td>\n",
       "    </tr>\n",
       "    <tr>\n",
       "      <th>22935</th>\n",
       "      <td>9222</td>\n",
       "      <td>groomsman #5</td>\n",
       "      <td>238</td>\n",
       "      <td>m</td>\n",
       "      <td>NaN</td>\n",
       "      <td>Wedding Crashers</td>\n",
       "      <td>2005</td>\n",
       "      <td>283.0</td>\n",
       "      <td>0.012032</td>\n",
       "    </tr>\n",
       "    <tr>\n",
       "      <th>22936</th>\n",
       "      <td>9222</td>\n",
       "      <td>groomsman #5</td>\n",
       "      <td>238</td>\n",
       "      <td>m</td>\n",
       "      <td>NaN</td>\n",
       "      <td>Wedding Crashers</td>\n",
       "      <td>2005</td>\n",
       "      <td>283.0</td>\n",
       "      <td>0.012032</td>\n",
       "    </tr>\n",
       "    <tr>\n",
       "      <th>23049</th>\n",
       "      <td>9254</td>\n",
       "      <td>mrs. potts</td>\n",
       "      <td>564</td>\n",
       "      <td>f</td>\n",
       "      <td>66.0</td>\n",
       "      <td>Beauty and the Beast</td>\n",
       "      <td>1991</td>\n",
       "      <td>452.0</td>\n",
       "      <td>0.055517</td>\n",
       "    </tr>\n",
       "    <tr>\n",
       "      <th>23051</th>\n",
       "      <td>9254</td>\n",
       "      <td>mrs. potts</td>\n",
       "      <td>564</td>\n",
       "      <td>f</td>\n",
       "      <td>66.0</td>\n",
       "      <td>Beauty and the Beast</td>\n",
       "      <td>1991</td>\n",
       "      <td>452.0</td>\n",
       "      <td>0.055517</td>\n",
       "    </tr>\n",
       "  </tbody>\n",
       "</table>\n",
       "</div>"
      ],
      "text/plain": [
       "       script_id      character  words gender   age  \\\n",
       "21001       8099          c-3po    138      m  69.0   \n",
       "21002       8099          c-3po    138      m  69.0   \n",
       "21963       8560  kilgore trout   2673      m  63.0   \n",
       "21964       8560  kilgore trout   2673      m  63.0   \n",
       "22935       9222   groomsman #5    238      m   NaN   \n",
       "22936       9222   groomsman #5    238      m   NaN   \n",
       "23049       9254     mrs. potts    564      f  66.0   \n",
       "23051       9254     mrs. potts    564      f  66.0   \n",
       "\n",
       "                                            title  release_year  gross  \\\n",
       "21001  Star Wars: Episode VII - The Force Awakens          2015  927.0   \n",
       "21002  Star Wars: Episode VII - The Force Awakens          2015  927.0   \n",
       "21963                      Breakfast of Champions          1999    NaN   \n",
       "21964                      Breakfast of Champions          1999    NaN   \n",
       "22935                            Wedding Crashers          2005  283.0   \n",
       "22936                            Wedding Crashers          2005  283.0   \n",
       "23049                        Beauty and the Beast          1991  452.0   \n",
       "23051                        Beauty and the Beast          1991  452.0   \n",
       "\n",
       "       proportion_of_dialogue  \n",
       "21001                0.020702  \n",
       "21002                0.020702  \n",
       "21963                0.197211  \n",
       "21964                0.197211  \n",
       "22935                0.012032  \n",
       "22936                0.012032  \n",
       "23049                0.055517  \n",
       "23051                0.055517  "
      ]
     },
     "execution_count": 21,
     "metadata": {},
     "output_type": "execute_result"
    }
   ],
   "source": [
    "film_df[film_df.duplicated(keep=False)]"
   ]
  },
  {
   "cell_type": "markdown",
   "metadata": {},
   "source": [
    "We can drop duplicates from the DataFrame with the `.drop_duplicates()` method and choose to keep the first instance of the duplicate or the last instance."
   ]
  },
  {
   "cell_type": "code",
   "execution_count": 22,
   "metadata": {},
   "outputs": [],
   "source": [
    "film_df = film_df.drop_duplicates(keep='first')"
   ]
  },
  {
   "cell_type": "markdown",
   "metadata": {},
   "source": [
    "Now if we check the data for duplicates again, they should be all gone."
   ]
  },
  {
   "cell_type": "code",
   "execution_count": 23,
   "metadata": {},
   "outputs": [
    {
     "data": {
      "text/html": [
       "<div>\n",
       "<style scoped>\n",
       "    .dataframe tbody tr th:only-of-type {\n",
       "        vertical-align: middle;\n",
       "    }\n",
       "\n",
       "    .dataframe tbody tr th {\n",
       "        vertical-align: top;\n",
       "    }\n",
       "\n",
       "    .dataframe thead th {\n",
       "        text-align: right;\n",
       "    }\n",
       "</style>\n",
       "<table border=\"1\" class=\"dataframe\">\n",
       "  <thead>\n",
       "    <tr style=\"text-align: right;\">\n",
       "      <th></th>\n",
       "      <th>script_id</th>\n",
       "      <th>character</th>\n",
       "      <th>words</th>\n",
       "      <th>gender</th>\n",
       "      <th>age</th>\n",
       "      <th>title</th>\n",
       "      <th>release_year</th>\n",
       "      <th>gross</th>\n",
       "      <th>proportion_of_dialogue</th>\n",
       "    </tr>\n",
       "  </thead>\n",
       "  <tbody>\n",
       "  </tbody>\n",
       "</table>\n",
       "</div>"
      ],
      "text/plain": [
       "Empty DataFrame\n",
       "Columns: [script_id, character, words, gender, age, title, release_year, gross, proportion_of_dialogue]\n",
       "Index: []"
      ]
     },
     "execution_count": 23,
     "metadata": {},
     "output_type": "execute_result"
    }
   ],
   "source": [
    "film_df[film_df.duplicated(keep=False)]"
   ]
  },
  {
   "cell_type": "markdown",
   "metadata": {},
   "source": [
    "## 4. Pandas `.str` Methods"
   ]
  },
  {
   "cell_type": "markdown",
   "metadata": {},
   "source": [
    "Remember all the special things that you can do with Python strings aka [string methods](https://melaniewalsh.github.io/Intro-Cultural-Analytics/Python/String-Methods.html)?\n",
    "\n",
    "Pandas has special [Pandas string methods](https://pandas.pydata.org/pandas-docs/stable/user_guide/text.html#string-methods), too. Many of them are very similar to Python string methods, except they will transform every single string value in a column, and we have to add `.str` to the method chain."
   ]
  },
  {
   "cell_type": "markdown",
   "metadata": {},
   "source": [
    "| **Pandas String Method** | **Explanation**                                                                                   |\n",
    "|:-------------:|:---------------------------------------------------------------------------------------------------:|\n",
    "| df['column_name']`.str.lower()`         | makes the string in each row lowercase                                                                                |\n",
    "| df['column_name']`.str.upper()`         | makes the string in each row uppercase                                                |\n",
    "| df['column_name']`.str.title()`         | makes the string in each row titlecase                                                |\n",
    "| df['column_name']`.str.replace('old string', 'new string')`      | replaces `old string` with `new string` for each row |\n",
    "| df['column_name']`.str.contains('some string')`      | tests whether string in each row contains \"some string\" |\n",
    "| df['column_name']`.str.split('delim')`          | returns a list of substrings separated by the given delimiter |\n",
    "| df['column_name']`.str.join(list)`         | opposite of split(), joins the elements in the given list together using the string                                                                        |\n",
    "                                                            "
   ]
  },
  {
   "cell_type": "markdown",
   "metadata": {},
   "source": [
    "For example, to transform every character's name in the \"character\" column from lowercase to uppercase, we can use `.str.upper()` "
   ]
  },
  {
   "cell_type": "code",
   "execution_count": 24,
   "metadata": {},
   "outputs": [
    {
     "data": {
      "text/plain": [
       "0                  BETTY\n",
       "1        CAROLYN JOHNSON\n",
       "2                ELEANOR\n",
       "3        FRANCESCA JOHNS\n",
       "4                  MADGE\n",
       "              ...       \n",
       "23046            LUMIERE\n",
       "23047            MAURICE\n",
       "23048    MONSIEUR D'ARQU\n",
       "23049         MRS. POTTS\n",
       "23050           WARDROBE\n",
       "Name: character, Length: 23047, dtype: object"
      ]
     },
     "execution_count": 24,
     "metadata": {},
     "output_type": "execute_result"
    }
   ],
   "source": [
    "film_df['character'].str.upper()"
   ]
  },
  {
   "cell_type": "markdown",
   "metadata": {},
   "source": [
    "To transform every character's name in the \"character\" column to lowercase, we can use `.str.lower()`"
   ]
  },
  {
   "cell_type": "code",
   "execution_count": 25,
   "metadata": {},
   "outputs": [
    {
     "data": {
      "text/plain": [
       "0                  betty\n",
       "1        carolyn johnson\n",
       "2                eleanor\n",
       "3        francesca johns\n",
       "4                  madge\n",
       "              ...       \n",
       "23046            lumiere\n",
       "23047            maurice\n",
       "23048    monsieur d'arqu\n",
       "23049         mrs. potts\n",
       "23050           wardrobe\n",
       "Name: character, Length: 23047, dtype: object"
      ]
     },
     "execution_count": 25,
     "metadata": {},
     "output_type": "execute_result"
    }
   ],
   "source": [
    "film_df['character'].str.lower()"
   ]
  },
  {
   "cell_type": "markdown",
   "metadata": {},
   "source": [
    "If we want to replace the gender columns's single letter abbreviation for \"male\" / \"female\" (sex) with \"man\" / \"woman\" (gender identity), we could use the `.str.replace()` method. "
   ]
  },
  {
   "cell_type": "code",
   "execution_count": 26,
   "metadata": {},
   "outputs": [],
   "source": [
    "film_df['gender'] = film_df['gender'].str.replace('m', 'man')"
   ]
  },
  {
   "cell_type": "code",
   "execution_count": 27,
   "metadata": {},
   "outputs": [],
   "source": [
    "film_df['gender'] = film_df['gender'].str.replace('f', 'woman')"
   ]
  },
  {
   "cell_type": "code",
   "execution_count": 28,
   "metadata": {},
   "outputs": [
    {
     "data": {
      "text/html": [
       "<div>\n",
       "<style scoped>\n",
       "    .dataframe tbody tr th:only-of-type {\n",
       "        vertical-align: middle;\n",
       "    }\n",
       "\n",
       "    .dataframe tbody tr th {\n",
       "        vertical-align: top;\n",
       "    }\n",
       "\n",
       "    .dataframe thead th {\n",
       "        text-align: right;\n",
       "    }\n",
       "</style>\n",
       "<table border=\"1\" class=\"dataframe\">\n",
       "  <thead>\n",
       "    <tr style=\"text-align: right;\">\n",
       "      <th></th>\n",
       "      <th>script_id</th>\n",
       "      <th>character</th>\n",
       "      <th>words</th>\n",
       "      <th>gender</th>\n",
       "      <th>age</th>\n",
       "      <th>title</th>\n",
       "      <th>release_year</th>\n",
       "      <th>gross</th>\n",
       "      <th>proportion_of_dialogue</th>\n",
       "    </tr>\n",
       "  </thead>\n",
       "  <tbody>\n",
       "    <tr>\n",
       "      <th>9041</th>\n",
       "      <td>2952</td>\n",
       "      <td>smith</td>\n",
       "      <td>804</td>\n",
       "      <td>man</td>\n",
       "      <td>52.0</td>\n",
       "      <td>Mr. Blandings Builds His Dream House</td>\n",
       "      <td>1948</td>\n",
       "      <td>NaN</td>\n",
       "      <td>0.027495</td>\n",
       "    </tr>\n",
       "    <tr>\n",
       "      <th>20108</th>\n",
       "      <td>7756</td>\n",
       "      <td>tomica</td>\n",
       "      <td>675</td>\n",
       "      <td>woman</td>\n",
       "      <td>NaN</td>\n",
       "      <td>Straight Outta Compton</td>\n",
       "      <td>2015</td>\n",
       "      <td>166.0</td>\n",
       "      <td>0.064103</td>\n",
       "    </tr>\n",
       "    <tr>\n",
       "      <th>3618</th>\n",
       "      <td>1514</td>\n",
       "      <td>mr. farmer</td>\n",
       "      <td>150</td>\n",
       "      <td>man</td>\n",
       "      <td>51.0</td>\n",
       "      <td>12 and Holding</td>\n",
       "      <td>2005</td>\n",
       "      <td>NaN</td>\n",
       "      <td>0.009394</td>\n",
       "    </tr>\n",
       "    <tr>\n",
       "      <th>19483</th>\n",
       "      <td>7450</td>\n",
       "      <td>young trolman</td>\n",
       "      <td>125</td>\n",
       "      <td>man</td>\n",
       "      <td>NaN</td>\n",
       "      <td>Vanishing Point</td>\n",
       "      <td>1971</td>\n",
       "      <td>NaN</td>\n",
       "      <td>0.026355</td>\n",
       "    </tr>\n",
       "    <tr>\n",
       "      <th>11365</th>\n",
       "      <td>3649</td>\n",
       "      <td>morley clarkson</td>\n",
       "      <td>252</td>\n",
       "      <td>woman</td>\n",
       "      <td>29.0</td>\n",
       "      <td>Valentine's Day</td>\n",
       "      <td>2010</td>\n",
       "      <td>121.0</td>\n",
       "      <td>0.030527</td>\n",
       "    </tr>\n",
       "    <tr>\n",
       "      <th>18556</th>\n",
       "      <td>7057</td>\n",
       "      <td>the holy avenge</td>\n",
       "      <td>211</td>\n",
       "      <td>man</td>\n",
       "      <td>39.0</td>\n",
       "      <td>Super</td>\n",
       "      <td>2010</td>\n",
       "      <td>NaN</td>\n",
       "      <td>0.032472</td>\n",
       "    </tr>\n",
       "    <tr>\n",
       "      <th>3473</th>\n",
       "      <td>1470</td>\n",
       "      <td>captain christo</td>\n",
       "      <td>2807</td>\n",
       "      <td>man</td>\n",
       "      <td>47.0</td>\n",
       "      <td>White Squall</td>\n",
       "      <td>1996</td>\n",
       "      <td>20.0</td>\n",
       "      <td>0.306977</td>\n",
       "    </tr>\n",
       "    <tr>\n",
       "      <th>16561</th>\n",
       "      <td>5515</td>\n",
       "      <td>stan gould</td>\n",
       "      <td>129</td>\n",
       "      <td>man</td>\n",
       "      <td>60.0</td>\n",
       "      <td>Woman in Gold</td>\n",
       "      <td>2015</td>\n",
       "      <td>34.0</td>\n",
       "      <td>0.010996</td>\n",
       "    </tr>\n",
       "    <tr>\n",
       "      <th>10214</th>\n",
       "      <td>3298</td>\n",
       "      <td>susan</td>\n",
       "      <td>305</td>\n",
       "      <td>woman</td>\n",
       "      <td>43.0</td>\n",
       "      <td>The Sessions</td>\n",
       "      <td>2012</td>\n",
       "      <td>6.0</td>\n",
       "      <td>0.027468</td>\n",
       "    </tr>\n",
       "    <tr>\n",
       "      <th>6877</th>\n",
       "      <td>2374</td>\n",
       "      <td>bored actor</td>\n",
       "      <td>103</td>\n",
       "      <td>man</td>\n",
       "      <td>NaN</td>\n",
       "      <td>Garden State</td>\n",
       "      <td>2004</td>\n",
       "      <td>37.0</td>\n",
       "      <td>0.005667</td>\n",
       "    </tr>\n",
       "  </tbody>\n",
       "</table>\n",
       "</div>"
      ],
      "text/plain": [
       "       script_id        character  words gender   age  \\\n",
       "9041        2952            smith    804    man  52.0   \n",
       "20108       7756           tomica    675  woman   NaN   \n",
       "3618        1514       mr. farmer    150    man  51.0   \n",
       "19483       7450    young trolman    125    man   NaN   \n",
       "11365       3649  morley clarkson    252  woman  29.0   \n",
       "18556       7057  the holy avenge    211    man  39.0   \n",
       "3473        1470  captain christo   2807    man  47.0   \n",
       "16561       5515       stan gould    129    man  60.0   \n",
       "10214       3298            susan    305  woman  43.0   \n",
       "6877        2374      bored actor    103    man   NaN   \n",
       "\n",
       "                                      title  release_year  gross  \\\n",
       "9041   Mr. Blandings Builds His Dream House          1948    NaN   \n",
       "20108                Straight Outta Compton          2015  166.0   \n",
       "3618                         12 and Holding          2005    NaN   \n",
       "19483                       Vanishing Point          1971    NaN   \n",
       "11365                       Valentine's Day          2010  121.0   \n",
       "18556                                 Super          2010    NaN   \n",
       "3473                           White Squall          1996   20.0   \n",
       "16561                         Woman in Gold          2015   34.0   \n",
       "10214                          The Sessions          2012    6.0   \n",
       "6877                           Garden State          2004   37.0   \n",
       "\n",
       "       proportion_of_dialogue  \n",
       "9041                 0.027495  \n",
       "20108                0.064103  \n",
       "3618                 0.009394  \n",
       "19483                0.026355  \n",
       "11365                0.030527  \n",
       "18556                0.032472  \n",
       "3473                 0.306977  \n",
       "16561                0.010996  \n",
       "10214                0.027468  \n",
       "6877                 0.005667  "
      ]
     },
     "execution_count": 28,
     "metadata": {},
     "output_type": "execute_result"
    }
   ],
   "source": [
    "film_df.sample(10)"
   ]
  },
  {
   "cell_type": "markdown",
   "metadata": {},
   "source": [
    "We can use the `.str.contains()` to search for particular words or phrases in a column, such as \"Star Wars.\""
   ]
  },
  {
   "cell_type": "code",
   "execution_count": 29,
   "metadata": {
    "scrolled": true,
    "tags": [
     "output_scroll",
     "full-width"
    ]
   },
   "outputs": [
    {
     "data": {
      "text/html": [
       "<div>\n",
       "<style scoped>\n",
       "    .dataframe tbody tr th:only-of-type {\n",
       "        vertical-align: middle;\n",
       "    }\n",
       "\n",
       "    .dataframe tbody tr th {\n",
       "        vertical-align: top;\n",
       "    }\n",
       "\n",
       "    .dataframe thead th {\n",
       "        text-align: right;\n",
       "    }\n",
       "</style>\n",
       "<table border=\"1\" class=\"dataframe\">\n",
       "  <thead>\n",
       "    <tr style=\"text-align: right;\">\n",
       "      <th></th>\n",
       "      <th>script_id</th>\n",
       "      <th>character</th>\n",
       "      <th>words</th>\n",
       "      <th>gender</th>\n",
       "      <th>age</th>\n",
       "      <th>title</th>\n",
       "      <th>release_year</th>\n",
       "      <th>gross</th>\n",
       "      <th>proportion_of_dialogue</th>\n",
       "    </tr>\n",
       "  </thead>\n",
       "  <tbody>\n",
       "    <tr>\n",
       "      <th>3017</th>\n",
       "      <td>1359</td>\n",
       "      <td>admiral ackbar</td>\n",
       "      <td>199</td>\n",
       "      <td>man</td>\n",
       "      <td>61.0</td>\n",
       "      <td>Star Wars: Episode VI - Return of the Jedi</td>\n",
       "      <td>1983</td>\n",
       "      <td>853.0</td>\n",
       "      <td>0.039096</td>\n",
       "    </tr>\n",
       "    <tr>\n",
       "      <th>3018</th>\n",
       "      <td>1359</td>\n",
       "      <td>ben 'obi-wan' k</td>\n",
       "      <td>462</td>\n",
       "      <td>man</td>\n",
       "      <td>69.0</td>\n",
       "      <td>Star Wars: Episode VI - Return of the Jedi</td>\n",
       "      <td>1983</td>\n",
       "      <td>853.0</td>\n",
       "      <td>0.090766</td>\n",
       "    </tr>\n",
       "    <tr>\n",
       "      <th>3019</th>\n",
       "      <td>1359</td>\n",
       "      <td>c-3po</td>\n",
       "      <td>881</td>\n",
       "      <td>man</td>\n",
       "      <td>37.0</td>\n",
       "      <td>Star Wars: Episode VI - Return of the Jedi</td>\n",
       "      <td>1983</td>\n",
       "      <td>853.0</td>\n",
       "      <td>0.173084</td>\n",
       "    </tr>\n",
       "    <tr>\n",
       "      <th>3020</th>\n",
       "      <td>1359</td>\n",
       "      <td>darth vader</td>\n",
       "      <td>381</td>\n",
       "      <td>man</td>\n",
       "      <td>48.0</td>\n",
       "      <td>Star Wars: Episode VI - Return of the Jedi</td>\n",
       "      <td>1983</td>\n",
       "      <td>853.0</td>\n",
       "      <td>0.074853</td>\n",
       "    </tr>\n",
       "    <tr>\n",
       "      <th>3021</th>\n",
       "      <td>1359</td>\n",
       "      <td>han solo</td>\n",
       "      <td>835</td>\n",
       "      <td>man</td>\n",
       "      <td>41.0</td>\n",
       "      <td>Star Wars: Episode VI - Return of the Jedi</td>\n",
       "      <td>1983</td>\n",
       "      <td>853.0</td>\n",
       "      <td>0.164047</td>\n",
       "    </tr>\n",
       "  </tbody>\n",
       "</table>\n",
       "</div>"
      ],
      "text/plain": [
       "      script_id        character  words gender   age  \\\n",
       "3017       1359   admiral ackbar    199    man  61.0   \n",
       "3018       1359  ben 'obi-wan' k    462    man  69.0   \n",
       "3019       1359            c-3po    881    man  37.0   \n",
       "3020       1359      darth vader    381    man  48.0   \n",
       "3021       1359         han solo    835    man  41.0   \n",
       "\n",
       "                                           title  release_year  gross  \\\n",
       "3017  Star Wars: Episode VI - Return of the Jedi          1983  853.0   \n",
       "3018  Star Wars: Episode VI - Return of the Jedi          1983  853.0   \n",
       "3019  Star Wars: Episode VI - Return of the Jedi          1983  853.0   \n",
       "3020  Star Wars: Episode VI - Return of the Jedi          1983  853.0   \n",
       "3021  Star Wars: Episode VI - Return of the Jedi          1983  853.0   \n",
       "\n",
       "      proportion_of_dialogue  \n",
       "3017                0.039096  \n",
       "3018                0.090766  \n",
       "3019                0.173084  \n",
       "3020                0.074853  \n",
       "3021                0.164047  "
      ]
     },
     "execution_count": 29,
     "metadata": {},
     "output_type": "execute_result"
    }
   ],
   "source": [
    "film_df[film_df['title'].str.contains('Star Wars')].head()"
   ]
  },
  {
   "cell_type": "markdown",
   "metadata": {},
   "source": [
    "Let's try \"Mean Girls\""
   ]
  },
  {
   "cell_type": "code",
   "execution_count": 30,
   "metadata": {
    "tags": [
     "full-width"
    ]
   },
   "outputs": [
    {
     "data": {
      "text/html": [
       "<div>\n",
       "<style scoped>\n",
       "    .dataframe tbody tr th:only-of-type {\n",
       "        vertical-align: middle;\n",
       "    }\n",
       "\n",
       "    .dataframe tbody tr th {\n",
       "        vertical-align: top;\n",
       "    }\n",
       "\n",
       "    .dataframe thead th {\n",
       "        text-align: right;\n",
       "    }\n",
       "</style>\n",
       "<table border=\"1\" class=\"dataframe\">\n",
       "  <thead>\n",
       "    <tr style=\"text-align: right;\">\n",
       "      <th></th>\n",
       "      <th>script_id</th>\n",
       "      <th>character</th>\n",
       "      <th>words</th>\n",
       "      <th>gender</th>\n",
       "      <th>age</th>\n",
       "      <th>title</th>\n",
       "      <th>release_year</th>\n",
       "      <th>gross</th>\n",
       "      <th>proportion_of_dialogue</th>\n",
       "    </tr>\n",
       "  </thead>\n",
       "  <tbody>\n",
       "    <tr>\n",
       "      <th>13938</th>\n",
       "      <td>4605</td>\n",
       "      <td>aaron samuels</td>\n",
       "      <td>426</td>\n",
       "      <td>man</td>\n",
       "      <td>23.0</td>\n",
       "      <td>Mean Girls</td>\n",
       "      <td>2004</td>\n",
       "      <td>120.0</td>\n",
       "      <td>0.053890</td>\n",
       "    </tr>\n",
       "    <tr>\n",
       "      <th>13939</th>\n",
       "      <td>4605</td>\n",
       "      <td>cady heron</td>\n",
       "      <td>2798</td>\n",
       "      <td>woman</td>\n",
       "      <td>18.0</td>\n",
       "      <td>Mean Girls</td>\n",
       "      <td>2004</td>\n",
       "      <td>120.0</td>\n",
       "      <td>0.353953</td>\n",
       "    </tr>\n",
       "    <tr>\n",
       "      <th>13940</th>\n",
       "      <td>4605</td>\n",
       "      <td>damian</td>\n",
       "      <td>624</td>\n",
       "      <td>man</td>\n",
       "      <td>26.0</td>\n",
       "      <td>Mean Girls</td>\n",
       "      <td>2004</td>\n",
       "      <td>120.0</td>\n",
       "      <td>0.078937</td>\n",
       "    </tr>\n",
       "    <tr>\n",
       "      <th>13941</th>\n",
       "      <td>4605</td>\n",
       "      <td>gretchen wiener</td>\n",
       "      <td>609</td>\n",
       "      <td>woman</td>\n",
       "      <td>22.0</td>\n",
       "      <td>Mean Girls</td>\n",
       "      <td>2004</td>\n",
       "      <td>120.0</td>\n",
       "      <td>0.077040</td>\n",
       "    </tr>\n",
       "    <tr>\n",
       "      <th>13942</th>\n",
       "      <td>4605</td>\n",
       "      <td>janis ian</td>\n",
       "      <td>907</td>\n",
       "      <td>woman</td>\n",
       "      <td>22.0</td>\n",
       "      <td>Mean Girls</td>\n",
       "      <td>2004</td>\n",
       "      <td>120.0</td>\n",
       "      <td>0.114738</td>\n",
       "    </tr>\n",
       "    <tr>\n",
       "      <th>13943</th>\n",
       "      <td>4605</td>\n",
       "      <td>karen smith</td>\n",
       "      <td>301</td>\n",
       "      <td>woman</td>\n",
       "      <td>19.0</td>\n",
       "      <td>Mean Girls</td>\n",
       "      <td>2004</td>\n",
       "      <td>120.0</td>\n",
       "      <td>0.038077</td>\n",
       "    </tr>\n",
       "    <tr>\n",
       "      <th>13944</th>\n",
       "      <td>4605</td>\n",
       "      <td>mr. duvall</td>\n",
       "      <td>365</td>\n",
       "      <td>man</td>\n",
       "      <td>43.0</td>\n",
       "      <td>Mean Girls</td>\n",
       "      <td>2004</td>\n",
       "      <td>120.0</td>\n",
       "      <td>0.046173</td>\n",
       "    </tr>\n",
       "    <tr>\n",
       "      <th>13945</th>\n",
       "      <td>4605</td>\n",
       "      <td>mrs. george</td>\n",
       "      <td>125</td>\n",
       "      <td>woman</td>\n",
       "      <td>33.0</td>\n",
       "      <td>Mean Girls</td>\n",
       "      <td>2004</td>\n",
       "      <td>120.0</td>\n",
       "      <td>0.015813</td>\n",
       "    </tr>\n",
       "    <tr>\n",
       "      <th>13946</th>\n",
       "      <td>4605</td>\n",
       "      <td>ms. norbury</td>\n",
       "      <td>720</td>\n",
       "      <td>woman</td>\n",
       "      <td>34.0</td>\n",
       "      <td>Mean Girls</td>\n",
       "      <td>2004</td>\n",
       "      <td>120.0</td>\n",
       "      <td>0.091082</td>\n",
       "    </tr>\n",
       "    <tr>\n",
       "      <th>13947</th>\n",
       "      <td>4605</td>\n",
       "      <td>regina george</td>\n",
       "      <td>1030</td>\n",
       "      <td>woman</td>\n",
       "      <td>26.0</td>\n",
       "      <td>Mean Girls</td>\n",
       "      <td>2004</td>\n",
       "      <td>120.0</td>\n",
       "      <td>0.130297</td>\n",
       "    </tr>\n",
       "  </tbody>\n",
       "</table>\n",
       "</div>"
      ],
      "text/plain": [
       "       script_id        character  words gender   age       title  \\\n",
       "13938       4605    aaron samuels    426    man  23.0  Mean Girls   \n",
       "13939       4605       cady heron   2798  woman  18.0  Mean Girls   \n",
       "13940       4605           damian    624    man  26.0  Mean Girls   \n",
       "13941       4605  gretchen wiener    609  woman  22.0  Mean Girls   \n",
       "13942       4605        janis ian    907  woman  22.0  Mean Girls   \n",
       "13943       4605      karen smith    301  woman  19.0  Mean Girls   \n",
       "13944       4605       mr. duvall    365    man  43.0  Mean Girls   \n",
       "13945       4605      mrs. george    125  woman  33.0  Mean Girls   \n",
       "13946       4605      ms. norbury    720  woman  34.0  Mean Girls   \n",
       "13947       4605    regina george   1030  woman  26.0  Mean Girls   \n",
       "\n",
       "       release_year  gross  proportion_of_dialogue  \n",
       "13938          2004  120.0                0.053890  \n",
       "13939          2004  120.0                0.353953  \n",
       "13940          2004  120.0                0.078937  \n",
       "13941          2004  120.0                0.077040  \n",
       "13942          2004  120.0                0.114738  \n",
       "13943          2004  120.0                0.038077  \n",
       "13944          2004  120.0                0.046173  \n",
       "13945          2004  120.0                0.015813  \n",
       "13946          2004  120.0                0.091082  \n",
       "13947          2004  120.0                0.130297  "
      ]
     },
     "execution_count": 30,
     "metadata": {},
     "output_type": "execute_result"
    }
   ],
   "source": [
    "film_df[film_df['title'].str.contains('Mean Girls')]"
   ]
  },
  {
   "cell_type": "markdown",
   "metadata": {},
   "source": [
    "## 5. Applying Functions"
   ]
  },
  {
   "cell_type": "markdown",
   "metadata": {},
   "source": [
    "With the `.apply()` method, we can run a function on every single row in a Pandas column or dataframe."
   ]
  },
  {
   "cell_type": "code",
   "execution_count": 31,
   "metadata": {},
   "outputs": [],
   "source": [
    "def make_text_title_case(text):\n",
    "    title_case_text = text.title()\n",
    "    return title_case_text"
   ]
  },
  {
   "cell_type": "code",
   "execution_count": 32,
   "metadata": {},
   "outputs": [
    {
     "data": {
      "text/plain": [
       "'Betty'"
      ]
     },
     "execution_count": 32,
     "metadata": {},
     "output_type": "execute_result"
    }
   ],
   "source": [
    "make_text_title_case(\"betty\")"
   ]
  },
  {
   "cell_type": "code",
   "execution_count": 33,
   "metadata": {},
   "outputs": [
    {
     "data": {
      "text/plain": [
       "0                  Betty\n",
       "1        Carolyn Johnson\n",
       "2                Eleanor\n",
       "3        Francesca Johns\n",
       "4                  Madge\n",
       "              ...       \n",
       "23046            Lumiere\n",
       "23047            Maurice\n",
       "23048    Monsieur D'Arqu\n",
       "23049         Mrs. Potts\n",
       "23050           Wardrobe\n",
       "Name: character, Length: 23047, dtype: object"
      ]
     },
     "execution_count": 33,
     "metadata": {},
     "output_type": "execute_result"
    }
   ],
   "source": [
    "film_df['character'].apply(make_text_title_case)"
   ]
  },
  {
   "cell_type": "code",
   "execution_count": 34,
   "metadata": {},
   "outputs": [],
   "source": [
    "film_df['character'] = film_df['character'].apply(make_text_title_case)"
   ]
  },
  {
   "cell_type": "code",
   "execution_count": 35,
   "metadata": {
    "tags": [
     "full-width"
    ]
   },
   "outputs": [
    {
     "data": {
      "text/html": [
       "<div>\n",
       "<style scoped>\n",
       "    .dataframe tbody tr th:only-of-type {\n",
       "        vertical-align: middle;\n",
       "    }\n",
       "\n",
       "    .dataframe tbody tr th {\n",
       "        vertical-align: top;\n",
       "    }\n",
       "\n",
       "    .dataframe thead th {\n",
       "        text-align: right;\n",
       "    }\n",
       "</style>\n",
       "<table border=\"1\" class=\"dataframe\">\n",
       "  <thead>\n",
       "    <tr style=\"text-align: right;\">\n",
       "      <th></th>\n",
       "      <th>script_id</th>\n",
       "      <th>character</th>\n",
       "      <th>words</th>\n",
       "      <th>gender</th>\n",
       "      <th>age</th>\n",
       "      <th>title</th>\n",
       "      <th>release_year</th>\n",
       "      <th>gross</th>\n",
       "      <th>proportion_of_dialogue</th>\n",
       "    </tr>\n",
       "  </thead>\n",
       "  <tbody>\n",
       "    <tr>\n",
       "      <th>14463</th>\n",
       "      <td>4791</td>\n",
       "      <td>Zira</td>\n",
       "      <td>1403</td>\n",
       "      <td>woman</td>\n",
       "      <td>46.0</td>\n",
       "      <td>Planet of the Apes</td>\n",
       "      <td>1968</td>\n",
       "      <td>172.0</td>\n",
       "      <td>0.175947</td>\n",
       "    </tr>\n",
       "    <tr>\n",
       "      <th>16546</th>\n",
       "      <td>5514</td>\n",
       "      <td>Victoria</td>\n",
       "      <td>209</td>\n",
       "      <td>woman</td>\n",
       "      <td>45.0</td>\n",
       "      <td>Wild Tales</td>\n",
       "      <td>2014</td>\n",
       "      <td>3.0</td>\n",
       "      <td>0.037637</td>\n",
       "    </tr>\n",
       "    <tr>\n",
       "      <th>13347</th>\n",
       "      <td>4394</td>\n",
       "      <td>Randi</td>\n",
       "      <td>154</td>\n",
       "      <td>woman</td>\n",
       "      <td>26.0</td>\n",
       "      <td>I Melt with You</td>\n",
       "      <td>2011</td>\n",
       "      <td>NaN</td>\n",
       "      <td>0.020969</td>\n",
       "    </tr>\n",
       "    <tr>\n",
       "      <th>5925</th>\n",
       "      <td>2133</td>\n",
       "      <td>Sarah Gold (Tel</td>\n",
       "      <td>400</td>\n",
       "      <td>woman</td>\n",
       "      <td>26.0</td>\n",
       "      <td>The Debt</td>\n",
       "      <td>2010</td>\n",
       "      <td>34.0</td>\n",
       "      <td>0.066600</td>\n",
       "    </tr>\n",
       "    <tr>\n",
       "      <th>19007</th>\n",
       "      <td>7247</td>\n",
       "      <td>Dr Fredricks</td>\n",
       "      <td>393</td>\n",
       "      <td>man</td>\n",
       "      <td>NaN</td>\n",
       "      <td>The Good Shepherd</td>\n",
       "      <td>2006</td>\n",
       "      <td>79.0</td>\n",
       "      <td>0.039331</td>\n",
       "    </tr>\n",
       "    <tr>\n",
       "      <th>4462</th>\n",
       "      <td>1739</td>\n",
       "      <td>Murphy - Captai</td>\n",
       "      <td>106</td>\n",
       "      <td>man</td>\n",
       "      <td>46.0</td>\n",
       "      <td>Bad Country</td>\n",
       "      <td>2014</td>\n",
       "      <td>NaN</td>\n",
       "      <td>0.013307</td>\n",
       "    </tr>\n",
       "    <tr>\n",
       "      <th>13414</th>\n",
       "      <td>4409</td>\n",
       "      <td>Corporal Steve</td>\n",
       "      <td>601</td>\n",
       "      <td>man</td>\n",
       "      <td>29.0</td>\n",
       "      <td>In the Valley of Elah</td>\n",
       "      <td>2007</td>\n",
       "      <td>8.0</td>\n",
       "      <td>0.074372</td>\n",
       "    </tr>\n",
       "    <tr>\n",
       "      <th>4914</th>\n",
       "      <td>1882</td>\n",
       "      <td>Bank Teller</td>\n",
       "      <td>156</td>\n",
       "      <td>man</td>\n",
       "      <td>48.0</td>\n",
       "      <td>Bonnie and Clyde</td>\n",
       "      <td>1967</td>\n",
       "      <td>NaN</td>\n",
       "      <td>0.008255</td>\n",
       "    </tr>\n",
       "    <tr>\n",
       "      <th>20009</th>\n",
       "      <td>7730</td>\n",
       "      <td>Charlie</td>\n",
       "      <td>358</td>\n",
       "      <td>man</td>\n",
       "      <td>NaN</td>\n",
       "      <td>Kingsman: The Secret Service</td>\n",
       "      <td>2014</td>\n",
       "      <td>136.0</td>\n",
       "      <td>0.029077</td>\n",
       "    </tr>\n",
       "    <tr>\n",
       "      <th>52</th>\n",
       "      <td>633</td>\n",
       "      <td>Mimi</td>\n",
       "      <td>219</td>\n",
       "      <td>woman</td>\n",
       "      <td>NaN</td>\n",
       "      <td>A Serious Man</td>\n",
       "      <td>2009</td>\n",
       "      <td>10.0</td>\n",
       "      <td>0.024255</td>\n",
       "    </tr>\n",
       "  </tbody>\n",
       "</table>\n",
       "</div>"
      ],
      "text/plain": [
       "       script_id        character  words gender   age  \\\n",
       "14463       4791             Zira   1403  woman  46.0   \n",
       "16546       5514         Victoria    209  woman  45.0   \n",
       "13347       4394            Randi    154  woman  26.0   \n",
       "5925        2133  Sarah Gold (Tel    400  woman  26.0   \n",
       "19007       7247     Dr Fredricks    393    man   NaN   \n",
       "4462        1739  Murphy - Captai    106    man  46.0   \n",
       "13414       4409  Corporal Steve     601    man  29.0   \n",
       "4914        1882      Bank Teller    156    man  48.0   \n",
       "20009       7730          Charlie    358    man   NaN   \n",
       "52           633             Mimi    219  woman   NaN   \n",
       "\n",
       "                              title  release_year  gross  \\\n",
       "14463            Planet of the Apes          1968  172.0   \n",
       "16546                    Wild Tales          2014    3.0   \n",
       "13347               I Melt with You          2011    NaN   \n",
       "5925                       The Debt          2010   34.0   \n",
       "19007             The Good Shepherd          2006   79.0   \n",
       "4462                    Bad Country          2014    NaN   \n",
       "13414         In the Valley of Elah          2007    8.0   \n",
       "4914               Bonnie and Clyde          1967    NaN   \n",
       "20009  Kingsman: The Secret Service          2014  136.0   \n",
       "52                    A Serious Man          2009   10.0   \n",
       "\n",
       "       proportion_of_dialogue  \n",
       "14463                0.175947  \n",
       "16546                0.037637  \n",
       "13347                0.020969  \n",
       "5925                 0.066600  \n",
       "19007                0.039331  \n",
       "4462                 0.013307  \n",
       "13414                0.074372  \n",
       "4914                 0.008255  \n",
       "20009                0.029077  \n",
       "52                   0.024255  "
      ]
     },
     "execution_count": 35,
     "metadata": {},
     "output_type": "execute_result"
    }
   ],
   "source": [
    "film_df.sample(10)"
   ]
  },
  {
   "cell_type": "markdown",
   "metadata": {},
   "source": [
    "## 6. Filter a DataFrame"
   ]
  },
  {
   "cell_type": "markdown",
   "metadata": {},
   "source": [
    "We can filter the DataFrames for only characters who are men or women."
   ]
  },
  {
   "cell_type": "code",
   "execution_count": 36,
   "metadata": {},
   "outputs": [],
   "source": [
    "men_film_df = film_df[film_df['gender'] == 'man']"
   ]
  },
  {
   "cell_type": "code",
   "execution_count": 37,
   "metadata": {},
   "outputs": [],
   "source": [
    "women_film_df = film_df[film_df['gender'] == 'woman']"
   ]
  },
  {
   "cell_type": "markdown",
   "metadata": {},
   "source": [
    "## 7. Aggregate the data by grouping variables/columns with .groupby()"
   ]
  },
  {
   "cell_type": "markdown",
   "metadata": {},
   "source": [
    "We can use the `.groupby()` function to group all the men characters in each film and sum up their total dialogue."
   ]
  },
  {
   "cell_type": "markdown",
   "metadata": {},
   "source": [
    "By adding a Python string slice, we can identify the top 20 films with the greatest proportion of men speaking."
   ]
  },
  {
   "cell_type": "markdown",
   "metadata": {},
   "source": [
    "```{margin} Line Breaks\n",
    "If a line of code gets too long, you can create a line break with a backslash `\\`\n",
    "```"
   ]
  },
  {
   "cell_type": "code",
   "execution_count": 39,
   "metadata": {},
   "outputs": [
    {
     "data": {
      "text/html": [
       "<div>\n",
       "<style scoped>\n",
       "    .dataframe tbody tr th:only-of-type {\n",
       "        vertical-align: middle;\n",
       "    }\n",
       "\n",
       "    .dataframe tbody tr th {\n",
       "        vertical-align: top;\n",
       "    }\n",
       "\n",
       "    .dataframe thead th {\n",
       "        text-align: right;\n",
       "    }\n",
       "</style>\n",
       "<table border=\"1\" class=\"dataframe\">\n",
       "  <thead>\n",
       "    <tr style=\"text-align: right;\">\n",
       "      <th></th>\n",
       "      <th>proportion_of_dialogue</th>\n",
       "    </tr>\n",
       "    <tr>\n",
       "      <th>title</th>\n",
       "      <th></th>\n",
       "    </tr>\n",
       "  </thead>\n",
       "  <tbody>\n",
       "    <tr>\n",
       "      <th>The Men Who Stare at Goats</th>\n",
       "      <td>1.0</td>\n",
       "    </tr>\n",
       "    <tr>\n",
       "      <th>Kagemusha</th>\n",
       "      <td>1.0</td>\n",
       "    </tr>\n",
       "    <tr>\n",
       "      <th>The Wild Bunch</th>\n",
       "      <td>1.0</td>\n",
       "    </tr>\n",
       "    <tr>\n",
       "      <th>Killing Them Softly</th>\n",
       "      <td>1.0</td>\n",
       "    </tr>\n",
       "    <tr>\n",
       "      <th>There Will Be Blood</th>\n",
       "      <td>1.0</td>\n",
       "    </tr>\n",
       "    <tr>\n",
       "      <th>Fury</th>\n",
       "      <td>1.0</td>\n",
       "    </tr>\n",
       "    <tr>\n",
       "      <th>The Revenant</th>\n",
       "      <td>1.0</td>\n",
       "    </tr>\n",
       "    <tr>\n",
       "      <th>Stalag 17</th>\n",
       "      <td>1.0</td>\n",
       "    </tr>\n",
       "    <tr>\n",
       "      <th>Saving Private Ryan</th>\n",
       "      <td>1.0</td>\n",
       "    </tr>\n",
       "    <tr>\n",
       "      <th>Crimson Tide</th>\n",
       "      <td>1.0</td>\n",
       "    </tr>\n",
       "    <tr>\n",
       "      <th>Die Hard: With a Vengeance</th>\n",
       "      <td>1.0</td>\n",
       "    </tr>\n",
       "    <tr>\n",
       "      <th>Jeremiah Johnson</th>\n",
       "      <td>1.0</td>\n",
       "    </tr>\n",
       "    <tr>\n",
       "      <th>Conquest of the Planet of the Apes</th>\n",
       "      <td>1.0</td>\n",
       "    </tr>\n",
       "    <tr>\n",
       "      <th>Duel</th>\n",
       "      <td>1.0</td>\n",
       "    </tr>\n",
       "    <tr>\n",
       "      <th>Platoon</th>\n",
       "      <td>1.0</td>\n",
       "    </tr>\n",
       "    <tr>\n",
       "      <th>The Hunt for Red October</th>\n",
       "      <td>1.0</td>\n",
       "    </tr>\n",
       "    <tr>\n",
       "      <th>Reservoir Dogs</th>\n",
       "      <td>1.0</td>\n",
       "    </tr>\n",
       "    <tr>\n",
       "      <th>Battlefield Earth</th>\n",
       "      <td>1.0</td>\n",
       "    </tr>\n",
       "    <tr>\n",
       "      <th>Armored</th>\n",
       "      <td>1.0</td>\n",
       "    </tr>\n",
       "    <tr>\n",
       "      <th>Space Jam</th>\n",
       "      <td>1.0</td>\n",
       "    </tr>\n",
       "  </tbody>\n",
       "</table>\n",
       "</div>"
      ],
      "text/plain": [
       "                                    proportion_of_dialogue\n",
       "title                                                     \n",
       "The Men Who Stare at Goats                             1.0\n",
       "Kagemusha                                              1.0\n",
       "The Wild Bunch                                         1.0\n",
       "Killing Them Softly                                    1.0\n",
       "There Will Be Blood                                    1.0\n",
       "Fury                                                   1.0\n",
       "The Revenant                                           1.0\n",
       "Stalag 17                                              1.0\n",
       "Saving Private Ryan                                    1.0\n",
       "Crimson Tide                                           1.0\n",
       "Die Hard: With a Vengeance                             1.0\n",
       "Jeremiah Johnson                                       1.0\n",
       "Conquest of the Planet of the Apes                     1.0\n",
       "Duel                                                   1.0\n",
       "Platoon                                                1.0\n",
       "The Hunt for Red October                               1.0\n",
       "Reservoir Dogs                                         1.0\n",
       "Battlefield Earth                                      1.0\n",
       "Armored                                                1.0\n",
       "Space Jam                                              1.0"
      ]
     },
     "execution_count": 39,
     "metadata": {},
     "output_type": "execute_result"
    }
   ],
   "source": [
    "men_film_df.groupby('title')[['proportion_of_dialogue']]\\\n",
    ".sum().sort_values(by='proportion_of_dialogue', ascending=False)[:20]"
   ]
  },
  {
   "cell_type": "markdown",
   "metadata": {},
   "source": [
    "We can use the `.groupby()` function to group all the women characters in each film and sum up their total dialogue."
   ]
  },
  {
   "cell_type": "markdown",
   "metadata": {},
   "source": [
    "By adding a Python string slice, we can identify the top 20 films with the greatest proportion of women speaking."
   ]
  },
  {
   "cell_type": "markdown",
   "metadata": {},
   "source": [
    "```{margin} Line Breaks\n",
    "If a line of code gets too long, you can create a line break with a backslash `\\`\n",
    "```"
   ]
  },
  {
   "cell_type": "code",
   "execution_count": 38,
   "metadata": {},
   "outputs": [
    {
     "data": {
      "text/html": [
       "<div>\n",
       "<style scoped>\n",
       "    .dataframe tbody tr th:only-of-type {\n",
       "        vertical-align: middle;\n",
       "    }\n",
       "\n",
       "    .dataframe tbody tr th {\n",
       "        vertical-align: top;\n",
       "    }\n",
       "\n",
       "    .dataframe thead th {\n",
       "        text-align: right;\n",
       "    }\n",
       "</style>\n",
       "<table border=\"1\" class=\"dataframe\">\n",
       "  <thead>\n",
       "    <tr style=\"text-align: right;\">\n",
       "      <th></th>\n",
       "      <th>proportion_of_dialogue</th>\n",
       "    </tr>\n",
       "    <tr>\n",
       "      <th>title</th>\n",
       "      <th></th>\n",
       "    </tr>\n",
       "  </thead>\n",
       "  <tbody>\n",
       "    <tr>\n",
       "      <th>The Descent</th>\n",
       "      <td>1.000000</td>\n",
       "    </tr>\n",
       "    <tr>\n",
       "      <th>Now and Then</th>\n",
       "      <td>1.000000</td>\n",
       "    </tr>\n",
       "    <tr>\n",
       "      <th>Precious</th>\n",
       "      <td>0.993541</td>\n",
       "    </tr>\n",
       "    <tr>\n",
       "      <th>Martyrs</th>\n",
       "      <td>0.965550</td>\n",
       "    </tr>\n",
       "    <tr>\n",
       "      <th>The Hand That Rocks the Cradle</th>\n",
       "      <td>0.933750</td>\n",
       "    </tr>\n",
       "    <tr>\n",
       "      <th>Agnes of God</th>\n",
       "      <td>0.922482</td>\n",
       "    </tr>\n",
       "    <tr>\n",
       "      <th>Heavenly Creatures</th>\n",
       "      <td>0.919368</td>\n",
       "    </tr>\n",
       "    <tr>\n",
       "      <th>The Help</th>\n",
       "      <td>0.916947</td>\n",
       "    </tr>\n",
       "    <tr>\n",
       "      <th>3 Women</th>\n",
       "      <td>0.899530</td>\n",
       "    </tr>\n",
       "    <tr>\n",
       "      <th>The Watermelon Woman</th>\n",
       "      <td>0.894676</td>\n",
       "    </tr>\n",
       "    <tr>\n",
       "      <th>Grandma</th>\n",
       "      <td>0.894137</td>\n",
       "    </tr>\n",
       "    <tr>\n",
       "      <th>The Craft</th>\n",
       "      <td>0.891866</td>\n",
       "    </tr>\n",
       "    <tr>\n",
       "      <th>Easy A</th>\n",
       "      <td>0.888131</td>\n",
       "    </tr>\n",
       "    <tr>\n",
       "      <th>The Others</th>\n",
       "      <td>0.879972</td>\n",
       "    </tr>\n",
       "    <tr>\n",
       "      <th>Black Christmas</th>\n",
       "      <td>0.877467</td>\n",
       "    </tr>\n",
       "    <tr>\n",
       "      <th>Wadjda</th>\n",
       "      <td>0.870567</td>\n",
       "    </tr>\n",
       "    <tr>\n",
       "      <th>For Colored Girls</th>\n",
       "      <td>0.870247</td>\n",
       "    </tr>\n",
       "    <tr>\n",
       "      <th>The Roommate</th>\n",
       "      <td>0.869879</td>\n",
       "    </tr>\n",
       "    <tr>\n",
       "      <th>Mrs. Winterbourne</th>\n",
       "      <td>0.864730</td>\n",
       "    </tr>\n",
       "    <tr>\n",
       "      <th>Practical Magic</th>\n",
       "      <td>0.856693</td>\n",
       "    </tr>\n",
       "  </tbody>\n",
       "</table>\n",
       "</div>"
      ],
      "text/plain": [
       "                                proportion_of_dialogue\n",
       "title                                                 \n",
       "The Descent                                   1.000000\n",
       "Now and Then                                  1.000000\n",
       "Precious                                      0.993541\n",
       "Martyrs                                       0.965550\n",
       "The Hand That Rocks the Cradle                0.933750\n",
       "Agnes of God                                  0.922482\n",
       "Heavenly Creatures                            0.919368\n",
       "The Help                                      0.916947\n",
       "3 Women                                       0.899530\n",
       "The Watermelon Woman                          0.894676\n",
       "Grandma                                       0.894137\n",
       "The Craft                                     0.891866\n",
       "Easy A                                        0.888131\n",
       "The Others                                    0.879972\n",
       "Black Christmas                               0.877467\n",
       "Wadjda                                        0.870567\n",
       "For Colored Girls                             0.870247\n",
       "The Roommate                                  0.869879\n",
       "Mrs. Winterbourne                             0.864730\n",
       "Practical Magic                               0.856693"
      ]
     },
     "execution_count": 38,
     "metadata": {},
     "output_type": "execute_result"
    }
   ],
   "source": [
    "women_film_df.groupby('title')[['proportion_of_dialogue']]\\\n",
    ".sum().sort_values(by='proportion_of_dialogue', ascending=False)[:20]"
   ]
  },
  {
   "cell_type": "markdown",
   "metadata": {},
   "source": [
    "## 8. Reset Index"
   ]
  },
  {
   "cell_type": "markdown",
   "metadata": {},
   "source": [
    "We can transform a Groupby object into a DataFrame with a regular Index by tacking on `.reset_index()`."
   ]
  },
  {
   "cell_type": "markdown",
   "metadata": {},
   "source": [
    "```{margin} Line Breaks\n",
    "If a line of code gets too long, you can create a line break with a backslash `\\`\n",
    "```"
   ]
  },
  {
   "cell_type": "code",
   "execution_count": 40,
   "metadata": {},
   "outputs": [
    {
     "data": {
      "text/html": [
       "<div>\n",
       "<style scoped>\n",
       "    .dataframe tbody tr th:only-of-type {\n",
       "        vertical-align: middle;\n",
       "    }\n",
       "\n",
       "    .dataframe tbody tr th {\n",
       "        vertical-align: top;\n",
       "    }\n",
       "\n",
       "    .dataframe thead th {\n",
       "        text-align: right;\n",
       "    }\n",
       "</style>\n",
       "<table border=\"1\" class=\"dataframe\">\n",
       "  <thead>\n",
       "    <tr style=\"text-align: right;\">\n",
       "      <th></th>\n",
       "      <th>title</th>\n",
       "      <th>proportion_of_dialogue</th>\n",
       "    </tr>\n",
       "  </thead>\n",
       "  <tbody>\n",
       "    <tr>\n",
       "      <th>0</th>\n",
       "      <td>The Descent</td>\n",
       "      <td>1.000000</td>\n",
       "    </tr>\n",
       "    <tr>\n",
       "      <th>1</th>\n",
       "      <td>Now and Then</td>\n",
       "      <td>1.000000</td>\n",
       "    </tr>\n",
       "    <tr>\n",
       "      <th>2</th>\n",
       "      <td>Precious</td>\n",
       "      <td>0.993541</td>\n",
       "    </tr>\n",
       "    <tr>\n",
       "      <th>3</th>\n",
       "      <td>Martyrs</td>\n",
       "      <td>0.965550</td>\n",
       "    </tr>\n",
       "    <tr>\n",
       "      <th>4</th>\n",
       "      <td>The Hand That Rocks the Cradle</td>\n",
       "      <td>0.933750</td>\n",
       "    </tr>\n",
       "    <tr>\n",
       "      <th>...</th>\n",
       "      <td>...</td>\n",
       "      <td>...</td>\n",
       "    </tr>\n",
       "    <tr>\n",
       "      <th>1935</th>\n",
       "      <td>The Last Castle</td>\n",
       "      <td>0.011139</td>\n",
       "    </tr>\n",
       "    <tr>\n",
       "      <th>1936</th>\n",
       "      <td>The Damned United</td>\n",
       "      <td>0.010909</td>\n",
       "    </tr>\n",
       "    <tr>\n",
       "      <th>1937</th>\n",
       "      <td>Thirteen Days</td>\n",
       "      <td>0.010834</td>\n",
       "    </tr>\n",
       "    <tr>\n",
       "      <th>1938</th>\n",
       "      <td>Men in Black 3</td>\n",
       "      <td>0.007812</td>\n",
       "    </tr>\n",
       "    <tr>\n",
       "      <th>1939</th>\n",
       "      <td>Full Metal Jacket</td>\n",
       "      <td>0.007170</td>\n",
       "    </tr>\n",
       "  </tbody>\n",
       "</table>\n",
       "<p>1940 rows × 2 columns</p>\n",
       "</div>"
      ],
      "text/plain": [
       "                               title  proportion_of_dialogue\n",
       "0                        The Descent                1.000000\n",
       "1                       Now and Then                1.000000\n",
       "2                           Precious                0.993541\n",
       "3                            Martyrs                0.965550\n",
       "4     The Hand That Rocks the Cradle                0.933750\n",
       "...                              ...                     ...\n",
       "1935                 The Last Castle                0.011139\n",
       "1936               The Damned United                0.010909\n",
       "1937                   Thirteen Days                0.010834\n",
       "1938                  Men in Black 3                0.007812\n",
       "1939               Full Metal Jacket                0.007170\n",
       "\n",
       "[1940 rows x 2 columns]"
      ]
     },
     "execution_count": 40,
     "metadata": {},
     "output_type": "execute_result"
    }
   ],
   "source": [
    "women_film_df.groupby('title')[['proportion_of_dialogue']]\\\n",
    ".sum().sort_values(by='proportion_of_dialogue', ascending=False).reset_index()"
   ]
  },
  {
   "cell_type": "markdown",
   "metadata": {},
   "source": [
    "## Bonus — Interactive Data Visualization"
   ]
  },
  {
   "cell_type": "code",
   "execution_count": 44,
   "metadata": {},
   "outputs": [],
   "source": [
    "#Import necessary Bokeh modules\n",
    "from bokeh.plotting import figure, show\n",
    "from bokeh.models import ColumnDataSource, NumeralTickFormatter\n",
    "from bokeh.io import output_notebook, show\n",
    "from bokeh.palettes import RdBu\n",
    "from bokeh.transform import linear_cmap, jitter"
   ]
  },
  {
   "cell_type": "code",
   "execution_count": 45,
   "metadata": {},
   "outputs": [
    {
     "data": {
      "text/html": [
       "<style>\n",
       "        .bk-notebook-logo {\n",
       "            display: block;\n",
       "            width: 20px;\n",
       "            height: 20px;\n",
       "            background-image: url(data:image/png;base64,iVBORw0KGgoAAAANSUhEUgAAABQAAAAUCAYAAACNiR0NAAAABHNCSVQICAgIfAhkiAAAAAlwSFlzAAALEgAACxIB0t1+/AAAABx0RVh0U29mdHdhcmUAQWRvYmUgRmlyZXdvcmtzIENTNui8sowAAAOkSURBVDiNjZRtaJVlGMd/1/08zzln5zjP1LWcU9N0NkN8m2CYjpgQYQXqSs0I84OLIC0hkEKoPtiH3gmKoiJDU7QpLgoLjLIQCpEsNJ1vqUOdO7ppbuec5+V+rj4ctwzd8IIbbi6u+8f1539dt3A78eXC7QizUF7gyV1fD1Yqg4JWz84yffhm0qkFqBogB9rM8tZdtwVsPUhWhGcFJngGeWrPzHm5oaMmkfEg1usvLFyc8jLRqDOMru7AyC8saQr7GG7f5fvDeH7Ej8CM66nIF+8yngt6HWaKh7k49Soy9nXurCi1o3qUbS3zWfrYeQDTB/Qj6kX6Ybhw4B+bOYoLKCC9H3Nu/leUTZ1JdRWkkn2ldcCamzrcf47KKXdAJllSlxAOkRgyHsGC/zRday5Qld9DyoM4/q/rUoy/CXh3jzOu3bHUVZeU+DEn8FInkPBFlu3+nW3Nw0mk6vCDiWg8CeJaxEwuHS3+z5RgY+YBR6V1Z1nxSOfoaPa4LASWxxdNp+VWTk7+4vzaou8v8PN+xo+KY2xsw6une2frhw05CTYOmQvsEhjhWjn0bmXPjpE1+kplmmkP3suftwTubK9Vq22qKmrBhpY4jvd5afdRA3wGjFAgcnTK2s4hY0/GPNIb0nErGMCRxWOOX64Z8RAC4oCXdklmEvcL8o0BfkNK4lUg9HTl+oPlQxdNo3Mg4Nv175e/1LDGzZen30MEjRUtmXSfiTVu1kK8W4txyV6BMKlbgk3lMwYCiusNy9fVfvvwMxv8Ynl6vxoByANLTWplvuj/nF9m2+PDtt1eiHPBr1oIfhCChQMBw6Aw0UulqTKZdfVvfG7VcfIqLG9bcldL/+pdWTLxLUy8Qq38heUIjh4XlzZxzQm19lLFlr8vdQ97rjZVOLf8nclzckbcD4wxXMidpX30sFd37Fv/GtwwhzhxGVAprjbg0gCAEeIgwCZyTV2Z1REEW8O4py0wsjeloKoMr6iCY6dP92H6Vw/oTyICIthibxjm/DfN9lVz8IqtqKYLUXfoKVMVQVVJOElGjrnnUt9T9wbgp8AyYKaGlqingHZU/uG2NTZSVqwHQTWkx9hxjkpWDaCg6Ckj5qebgBVbT3V3NNXMSiWSDdGV3hrtzla7J+duwPOToIg42ChPQOQjspnSlp1V+Gjdged7+8UN5CRAV7a5EdFNwCjEaBR27b3W890TE7g24NAP/mMDXRWrGoFPQI9ls/MWO2dWFAar/xcOIImbbpA3zgAAAABJRU5ErkJggg==);\n",
       "        }\n",
       "    </style>\n",
       "    <div>\n",
       "        <a href=\"https://bokeh.org\" target=\"_blank\" class=\"bk-notebook-logo\"></a>\n",
       "        <span id=\"d8558b65-ba8c-4284-855e-6fd55d3bbd1b\">Loading BokehJS ...</span>\n",
       "    </div>\n"
      ]
     },
     "metadata": {},
     "output_type": "display_data"
    },
    {
     "data": {
      "application/javascript": "(function(root) {\n  function now() {\n    return new Date();\n  }\n\n  const force = true;\n\n  if (typeof root._bokeh_onload_callbacks === \"undefined\" || force === true) {\n    root._bokeh_onload_callbacks = [];\n    root._bokeh_is_loading = undefined;\n  }\n\nconst JS_MIME_TYPE = 'application/javascript';\n  const HTML_MIME_TYPE = 'text/html';\n  const EXEC_MIME_TYPE = 'application/vnd.bokehjs_exec.v0+json';\n  const CLASS_NAME = 'output_bokeh rendered_html';\n\n  /**\n   * Render data to the DOM node\n   */\n  function render(props, node) {\n    const script = document.createElement(\"script\");\n    node.appendChild(script);\n  }\n\n  /**\n   * Handle when an output is cleared or removed\n   */\n  function handleClearOutput(event, handle) {\n    function drop(id) {\n      const view = Bokeh.index.get_by_id(id)\n      if (view != null) {\n        view.model.document.clear()\n        Bokeh.index.delete(view)\n      }\n    }\n\n    const cell = handle.cell;\n\n    const id = cell.output_area._bokeh_element_id;\n    const server_id = cell.output_area._bokeh_server_id;\n\n    // Clean up Bokeh references\n    if (id != null) {\n      drop(id)\n    }\n\n    if (server_id !== undefined) {\n      // Clean up Bokeh references\n      const cmd_clean = \"from bokeh.io.state import curstate; print(curstate().uuid_to_server['\" + server_id + \"'].get_sessions()[0].document.roots[0]._id)\";\n      cell.notebook.kernel.execute(cmd_clean, {\n        iopub: {\n          output: function(msg) {\n            const id = msg.content.text.trim()\n            drop(id)\n          }\n        }\n      });\n      // Destroy server and session\n      const cmd_destroy = \"import bokeh.io.notebook as ion; ion.destroy_server('\" + server_id + \"')\";\n      cell.notebook.kernel.execute(cmd_destroy);\n    }\n  }\n\n  /**\n   * Handle when a new output is added\n   */\n  function handleAddOutput(event, handle) {\n    const output_area = handle.output_area;\n    const output = handle.output;\n\n    // limit handleAddOutput to display_data with EXEC_MIME_TYPE content only\n    if ((output.output_type != \"display_data\") || (!Object.prototype.hasOwnProperty.call(output.data, EXEC_MIME_TYPE))) {\n      return\n    }\n\n    const toinsert = output_area.element.find(\".\" + CLASS_NAME.split(' ')[0]);\n\n    if (output.metadata[EXEC_MIME_TYPE][\"id\"] !== undefined) {\n      toinsert[toinsert.length - 1].firstChild.textContent = output.data[JS_MIME_TYPE];\n      // store reference to embed id on output_area\n      output_area._bokeh_element_id = output.metadata[EXEC_MIME_TYPE][\"id\"];\n    }\n    if (output.metadata[EXEC_MIME_TYPE][\"server_id\"] !== undefined) {\n      const bk_div = document.createElement(\"div\");\n      bk_div.innerHTML = output.data[HTML_MIME_TYPE];\n      const script_attrs = bk_div.children[0].attributes;\n      for (let i = 0; i < script_attrs.length; i++) {\n        toinsert[toinsert.length - 1].firstChild.setAttribute(script_attrs[i].name, script_attrs[i].value);\n        toinsert[toinsert.length - 1].firstChild.textContent = bk_div.children[0].textContent\n      }\n      // store reference to server id on output_area\n      output_area._bokeh_server_id = output.metadata[EXEC_MIME_TYPE][\"server_id\"];\n    }\n  }\n\n  function register_renderer(events, OutputArea) {\n\n    function append_mime(data, metadata, element) {\n      // create a DOM node to render to\n      const toinsert = this.create_output_subarea(\n        metadata,\n        CLASS_NAME,\n        EXEC_MIME_TYPE\n      );\n      this.keyboard_manager.register_events(toinsert);\n      // Render to node\n      const props = {data: data, metadata: metadata[EXEC_MIME_TYPE]};\n      render(props, toinsert[toinsert.length - 1]);\n      element.append(toinsert);\n      return toinsert\n    }\n\n    /* Handle when an output is cleared or removed */\n    events.on('clear_output.CodeCell', handleClearOutput);\n    events.on('delete.Cell', handleClearOutput);\n\n    /* Handle when a new output is added */\n    events.on('output_added.OutputArea', handleAddOutput);\n\n    /**\n     * Register the mime type and append_mime function with output_area\n     */\n    OutputArea.prototype.register_mime_type(EXEC_MIME_TYPE, append_mime, {\n      /* Is output safe? */\n      safe: true,\n      /* Index of renderer in `output_area.display_order` */\n      index: 0\n    });\n  }\n\n  // register the mime type if in Jupyter Notebook environment and previously unregistered\n  if (root.Jupyter !== undefined) {\n    const events = require('base/js/events');\n    const OutputArea = require('notebook/js/outputarea').OutputArea;\n\n    if (OutputArea.prototype.mime_types().indexOf(EXEC_MIME_TYPE) == -1) {\n      register_renderer(events, OutputArea);\n    }\n  }\n  if (typeof (root._bokeh_timeout) === \"undefined\" || force === true) {\n    root._bokeh_timeout = Date.now() + 5000;\n    root._bokeh_failed_load = false;\n  }\n\n  const NB_LOAD_WARNING = {'data': {'text/html':\n     \"<div style='background-color: #fdd'>\\n\"+\n     \"<p>\\n\"+\n     \"BokehJS does not appear to have successfully loaded. If loading BokehJS from CDN, this \\n\"+\n     \"may be due to a slow or bad network connection. Possible fixes:\\n\"+\n     \"</p>\\n\"+\n     \"<ul>\\n\"+\n     \"<li>re-rerun `output_notebook()` to attempt to load from CDN again, or</li>\\n\"+\n     \"<li>use INLINE resources instead, as so:</li>\\n\"+\n     \"</ul>\\n\"+\n     \"<code>\\n\"+\n     \"from bokeh.resources import INLINE\\n\"+\n     \"output_notebook(resources=INLINE)\\n\"+\n     \"</code>\\n\"+\n     \"</div>\"}};\n\n  function display_loaded() {\n    const el = document.getElementById(\"d8558b65-ba8c-4284-855e-6fd55d3bbd1b\");\n    if (el != null) {\n      el.textContent = \"BokehJS is loading...\";\n    }\n    if (root.Bokeh !== undefined) {\n      if (el != null) {\n        el.textContent = \"BokehJS \" + root.Bokeh.version + \" successfully loaded.\";\n      }\n    } else if (Date.now() < root._bokeh_timeout) {\n      setTimeout(display_loaded, 100)\n    }\n  }\n\n  function run_callbacks() {\n    try {\n      root._bokeh_onload_callbacks.forEach(function(callback) {\n        if (callback != null)\n          callback();\n      });\n    } finally {\n      delete root._bokeh_onload_callbacks\n    }\n    console.debug(\"Bokeh: all callbacks have finished\");\n  }\n\n  function load_libs(css_urls, js_urls, callback) {\n    if (css_urls == null) css_urls = [];\n    if (js_urls == null) js_urls = [];\n\n    root._bokeh_onload_callbacks.push(callback);\n    if (root._bokeh_is_loading > 0) {\n      console.debug(\"Bokeh: BokehJS is being loaded, scheduling callback at\", now());\n      return null;\n    }\n    if (js_urls == null || js_urls.length === 0) {\n      run_callbacks();\n      return null;\n    }\n    console.debug(\"Bokeh: BokehJS not loaded, scheduling load and callback at\", now());\n    root._bokeh_is_loading = css_urls.length + js_urls.length;\n\n    function on_load() {\n      root._bokeh_is_loading--;\n      if (root._bokeh_is_loading === 0) {\n        console.debug(\"Bokeh: all BokehJS libraries/stylesheets loaded\");\n        run_callbacks()\n      }\n    }\n\n    function on_error(url) {\n      console.error(\"failed to load \" + url);\n    }\n\n    for (let i = 0; i < css_urls.length; i++) {\n      const url = css_urls[i];\n      const element = document.createElement(\"link\");\n      element.onload = on_load;\n      element.onerror = on_error.bind(null, url);\n      element.rel = \"stylesheet\";\n      element.type = \"text/css\";\n      element.href = url;\n      console.debug(\"Bokeh: injecting link tag for BokehJS stylesheet: \", url);\n      document.body.appendChild(element);\n    }\n\n    for (let i = 0; i < js_urls.length; i++) {\n      const url = js_urls[i];\n      const element = document.createElement('script');\n      element.onload = on_load;\n      element.onerror = on_error.bind(null, url);\n      element.async = false;\n      element.src = url;\n      console.debug(\"Bokeh: injecting script tag for BokehJS library: \", url);\n      document.head.appendChild(element);\n    }\n  };\n\n  function inject_raw_css(css) {\n    const element = document.createElement(\"style\");\n    element.appendChild(document.createTextNode(css));\n    document.body.appendChild(element);\n  }\n\n  const js_urls = [\"https://cdn.bokeh.org/bokeh/release/bokeh-3.3.0.min.js\", \"https://cdn.bokeh.org/bokeh/release/bokeh-gl-3.3.0.min.js\", \"https://cdn.bokeh.org/bokeh/release/bokeh-widgets-3.3.0.min.js\", \"https://cdn.bokeh.org/bokeh/release/bokeh-tables-3.3.0.min.js\", \"https://cdn.bokeh.org/bokeh/release/bokeh-mathjax-3.3.0.min.js\"];\n  const css_urls = [];\n\n  const inline_js = [    function(Bokeh) {\n      Bokeh.set_log_level(\"info\");\n    },\nfunction(Bokeh) {\n    }\n  ];\n\n  function run_inline_js() {\n    if (root.Bokeh !== undefined || force === true) {\n          for (let i = 0; i < inline_js.length; i++) {\n      inline_js[i].call(root, root.Bokeh);\n    }\nif (force === true) {\n        display_loaded();\n      }} else if (Date.now() < root._bokeh_timeout) {\n      setTimeout(run_inline_js, 100);\n    } else if (!root._bokeh_failed_load) {\n      console.log(\"Bokeh: BokehJS failed to load within specified timeout.\");\n      root._bokeh_failed_load = true;\n    } else if (force !== true) {\n      const cell = $(document.getElementById(\"d8558b65-ba8c-4284-855e-6fd55d3bbd1b\")).parents('.cell').data().cell;\n      cell.output_area.append_execute_result(NB_LOAD_WARNING)\n    }\n  }\n\n  if (root._bokeh_is_loading === 0) {\n    console.debug(\"Bokeh: BokehJS loaded, going straight to plotting\");\n    run_inline_js();\n  } else {\n    load_libs(css_urls, js_urls, function() {\n      console.debug(\"Bokeh: BokehJS plotting callback run at\", now());\n      run_inline_js();\n    });\n  }\n}(window));",
      "application/vnd.bokehjs_load.v0+json": ""
     },
     "metadata": {},
     "output_type": "display_data"
    }
   ],
   "source": [
    "#Set up Bokeh to work in Jupyter notebook\n",
    "output_notebook()"
   ]
  },
  {
   "cell_type": "markdown",
   "metadata": {},
   "source": [
    "Here's an interactive data visualization of these Hollywood films by release year and percentage of women dialogue. This data viz was created with the Python library [Bokeh](https://docs.bokeh.org/en/latest/index.html), which we will discuss in some later lessons.\n",
    "\n",
    "* Scroll to zoom in\n",
    "* Hover to see more information about each point\n",
    "\n",
    "To see the code that created this visualization, select \"Click to show\" below."
   ]
  },
  {
   "cell_type": "code",
   "execution_count": 48,
   "metadata": {
    "tags": [
     "hide-input"
    ]
   },
   "outputs": [
    {
     "data": {
      "text/html": [
       "\n",
       "  <div id=\"ed9a9ae8-9139-4315-b034-10c2b1870f84\" data-root-id=\"p1104\" style=\"display: contents;\"></div>\n"
      ]
     },
     "metadata": {},
     "output_type": "display_data"
    },
    {
     "data": {
      "application/javascript": "(function(root) {\n  function embed_document(root) {\n  const docs_json = {\"a20e79da-2ef1-49fc-8561-87b9d35e943e\":{\"version\":\"3.3.0\",\"title\":\"Bokeh Application\",\"roots\":[{\"type\":\"object\",\"name\":\"Figure\",\"id\":\"p1104\",\"attributes\":{\"width\":800,\"height\":550,\"x_range\":{\"type\":\"object\",\"name\":\"Range1d\",\"id\":\"p1114\",\"attributes\":{\"start\":1930,\"end\":2018}},\"y_range\":{\"type\":\"object\",\"name\":\"Range1d\",\"id\":\"p1115\",\"attributes\":{\"end\":1.01}},\"x_scale\":{\"type\":\"object\",\"name\":\"LinearScale\",\"id\":\"p1116\"},\"y_scale\":{\"type\":\"object\",\"name\":\"LinearScale\",\"id\":\"p1117\"},\"title\":{\"type\":\"object\",\"name\":\"Title\",\"id\":\"p1107\",\"attributes\":{\"text\":\"How Much Do Women Speak in Hollywood Films?\",\"text_font_size\":\"20pt\"}},\"renderers\":[{\"type\":\"object\",\"name\":\"GlyphRenderer\",\"id\":\"p1144\",\"attributes\":{\"data_source\":{\"type\":\"object\",\"name\":\"ColumnDataSource\",\"id\":\"p1101\",\"attributes\":{\"selected\":{\"type\":\"object\",\"name\":\"Selection\",\"id\":\"p1102\",\"attributes\":{\"indices\":[],\"line_indices\":[]}},\"selection_policy\":{\"type\":\"object\",\"name\":\"UnionRenderers\",\"id\":\"p1103\"},\"data\":{\"type\":\"map\",\"entries\":[[\"index\",{\"type\":\"ndarray\",\"array\":{\"type\":\"bytes\",\"data\":\"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\"},\"shape\":[1946],\"dtype\":\"int32\",\"order\":\"little\"}],[\"title\",{\"type\":\"ndarray\",\"array\":[\"The Descent\",\"Now and Then\",\"Precious\",\"Martyrs\",\"The Hand That Rocks the Cradle\",\"Agnes of God\",\"Heavenly Creatures\",\"The Help\",\"3 Women\",\"The Watermelon Woman\",\"Grandma\",\"The Craft\",\"Easy A\",\"The Others\",\"Black Christmas\",\"Wadjda\",\"For Colored Girls\",\"The Roommate\",\"Mrs. Winterbourne\",\"Practical Magic\",\"Mistress America\",\"Cake\",\"Boys on the Side\",\"In Her Shoes\",\"Mother and Child\",\"The Partners\",\"Beaches\",\"Sex and the City\",\"Please Give\",\"Silent Hill\",\"Stepmom\",\"Fried Green Tomatoes\",\"Sugar & Spice\",\"Mean Girls\",\"Bridesmaids\",\"Ginger Snaps\",\"Jumpin' Jack Flash\",\"I Know What You Did Last Summer\",\"Pariah\",\"Drop Dead Gorgeous\",\"Never Let Me Go\",\"Monte Carlo\",\"August: Osage County\",\"Juno\",\"Music of the Heart\",\"Sorority Row\",\"The Devil Wears Prada\",\"Blue Jasmine\",\"Single White Female\",\"Ouija\",\"Whip It\",\"Jennifer's Body\",\"Emma\",\"The Final Girls\",\"I'll See You in My Dreams\",\"Diabolique\",\"Terms of Endearment\",\"Sister Act\",\"Coraline\",\"Enough Said\",\"The Bling Ring\",\"An Unmarried Woman\",\"The Babadook\",\"Wild\",\"Legally Blonde\",\"Carol\",\"The Diary of a Teenage Girl\",\"Up Close & Personal\",\"The Keeping Room\",\"Memoirs of a Geisha\",\"Sense and Sensibility\",\"The Curse of the Cat People\",\"28 Days\",\"Away from Her\",\"Dolores Claiborne\",\"Middle of Nowhere\",\"The Runaways\",\"Conviction\",\"The Faculty\",\"Bad Teacher\",\"Frozen River\",\"Normal Adolescent Behavior\",\"Pride & Prejudice\",\"The Iron Lady\",\"Orphan\",\"Spanglish\",\"An Education\",\"Beloved\",\"Old Boyfriends\",\"Martha Marcy May Marlene\",\"Mini's First Time\",\"New York Minute\",\"Working Girl\",\"Drag Me to Hell\",\"Thelma & Louise\",\"Only You\",\"Margaret\",\"Private Benjamin\",\"Catwoman\",\"The Ward\",\"Maleficent\",\"The Nines\",\"Brooklyn\",\"Margot at the Wedding\",\"Ghost World\",\"Possession\",\"Maria Full of Grace\",\"Choose Me\",\"Carrie\",\"Edward Scissorhands\",\"It Follows\",\"New Nightmare\",\"My Best Friend's Wedding\",\"Death Becomes Her\",\"Taking Lives\",\"I Am Sam\",\"Charlie's Angels\",\"A Nightmare on Elm Street 5: The Dream Child\",\"The Back-up Plan\",\"Rabbit Hole\",\"The Ring\",\"What Lies Beneath\",\"Alice in Wonderland\",\"Never Been Kissed\",\"Far from Heaven\",\"Second Coming\",\"The Birds\",\"Made in Dagenham\",\"Doubt\",\"The Invisible Woman\",\"Petulia\",\"Inside Out\",\"Case 39\",\"The Whistleblower\",\"Nine to Five\",\"Final Destination 2\",\"Prom Night\",\"Rachel Getting Married\",\"Misery\",\"Showgirls\",\"Testament of Youth\",\"Life on Liberty Street\",\"Shoot the Moon\",\"Celeste & Jesse Forever\",\"Copycat\",\"The Stepford Wives\",\"Spring Breakers\",\"Erin Brockovich\",\"Smashed\",\"Harold and Maude\",\"Cabaret\",\"Young Adult\",\"The Duchess\",\"Still Alice\",\"Room\",\"Candyman\",\"Gothika\",\"Mulholland Drive\",\"Suffragette\",\"Heathers\",\"Bed of Roses\",\"The Village\",\"Burlesque\",\"Saving Mr. Banks\",\"Oculus\",\"Bound\",\"The Russell Girl\",\"Deceived\",\"Winter's Bone\",\"Evidence\",\"Frances\",\"Blood Work\",\"Another Year\",\"Sunshine Cleaning\",\"Pitch Perfect\",\"The Deep End of the Ocean\",\"A Nightmare on Elm Street\",\"The Bridges of Madison County\",\"S\\ufffdance\",\"He's Just Not That Into You\",\"Crazylove\",\"The Witches of Eastwick\",\"Angel Eyes\",\"My Big Fat Greek Wedding\",\"Twister\",\"The Horse Whisperer\",\"Last Night\",\"Hellraiser III: Hell on Earth\",\"Philomena\",\"A Room with a View\",\"Beasts of the Southern Wild\",\"The Addams Family\",\"Wild Things: Diamonds in the Rough\",\"Push\",\"Gone Girl\",\"The Wedding Date\",\"Domino\",\"The Haunting\",\"Love & Basketball\",\"Supergirl\",\"Sparkle\",\"Halloween 5\",\"Little Man Tate\",\"Five Easy Pieces\",\"Tootsie\",\"The Good Girl\",\"Sexual Life\",\"Cherry Falls\",\"A Nightmare on Elm Street 4: The Dream Master\",\"Sex, Lies, and Videotape\",\"The Mirror Has Two Faces\",\"Before Sunset\",\"Am\\ufffdlie\",\"Black Swan\",\"All About Steve\",\"Amelia\",\"Atonement\",\"Serial Mom\",\"Village of the Damned\",\"Maps to the Stars\",\"Letters to Juliet\",\"The Anniversary Party\",\"The Grudge\",\"The Fog\",\"The Client\",\"Hanna\",\"Lost in Translation\",\"Two Night Stand\",\"Untraceable\",\"The Fault in Our Stars\",\"Resident Evil: Retribution\",\"Joy\",\"Halloween II\",\"My Girl\",\"Halloween H20: 20 Years Later\",\"The Blair Witch Project\",\"Urban Legend\",\"Everly\",\"Even Cowgirls Get the Blues\",\"Jane Eyre\",\"Friday the 13th Part III\",\"Synecdoche, New York\",\"The Proposal\",\"Tamara\",\"Duplex\",\"Man Up\",\"Peggy Sue Got Married\",\"Eternal Sunshine of the Spotless Mind\",\"Insidious\",\"Enough\",\"Beetlejuice\",\"One Missed Call\",\"Red Riding Hood\",\"Girl with a Pearl Earring\",\"Lucy\",\"Badlands\",\"Tarzan\",\"Elizabeth: The Golden Age\",\"It's Complicated\",\"The Blind Side\",\"Friends with Benefits\",\"What Price Hollywood?\",\"Before Sunrise\",\"Belle\",\"Take This Waltz\",\"Runaway Bride\",\"Sleepless in Seattle\",\"Shopgirl\",\"The Fourth Kind\",\"Hyde Park on Hudson\",\"Final Destination 3\",\"Flightplan\",\"Cold Mountain\",\"Tamara Drewe\",\"Scream 2\",\"Scream\",\"Curly Sue\",\"S. Darko\",\"Infinitely Polar Bear\",\"The Life of David Gale\",\"Something's Gotta Give\",\"Her\",\"Autumn in New York\",\"G.I. Jane\",\"Into the Woods\",\"The Town That Dreaded Sundown\",\"When Harry Met Sally...\",\"The Curious Case of Benjamin Button\",\"The Brave One\",\"Minions\",\"Clueless\",\"You've Got Mail\",\"Kill Bill (Pt 1+2)\",\"Gosford Park\",\"Chocolat\",\"All the Boys Love Mandy Lane\",\"Scream 3\",\"The Other Boleyn Girl\",\"Gloria\",\"We Need to Talk About Kevin\",\"The Wizard of Oz\",\"I Walked with a Zombie\",\"The Boy Next Door\",\"Bright Star\",\"Wind Chill\",\"I Smile Back\",\"Slither\",\"Little Children\",\"Coal Miner's Daughter\",\"Sixteen Candles\",\"Hatchet III\",\"My Girl 2\",\"Snow Angels\",\"Henry Poole Is Here\",\"Learning to Drive\",\"Jack Reacher\",\"Secretariat\",\"The Twilight Saga: New Moon\",\"My Blue Heaven\",\"Before Midnight\",\"The Grifters\",\"Firestarter\",\"Save the Last Dance\",\"A Nightmare on Elm Street 3: Dream Warriors\",\"Cruel Intentions\",\"Twilight\",\"The Young Victoria\",\"Peeping Tom\",\"Vicky Cristina Barcelona\",\"Dead Ringers\",\"Calvary\",\"Larry Crowne\",\"Serendipity\",\"Aliens\",\"The Hundred-Foot Journey\",\"City Island\",\"Towelhead\",\"Salt of the Earth\",\"All God's Children Can Dance\",\"Southland Tales\",\"The Lobster\",\"Short Term 12\",\"The Incredibles\",\"Far from the Madding Crowd\",\"Motel Hell\",\"This Is 40\",\"The Amityville Asylum\",\"Sunset Blvd.\",\"Pretty Woman\",\"Human Nature\",\"House of Games\",\"Moonstruck\",\"Whiteout\",\"Seven Days to Live\",\"People Like Us\",\"Pok\\ufffdmon: The First Movie - Mewtwo Strikes Back\",\"10 Things I Hate About You\",\"The Terminator\",\"The Lady in the Van\",\"Buffy the Vampire Slayer\",\"Revolutionary Road\",\"Gravity\",\"An Affair to Remember\",\"Halloween 4: The Return of Michael Myers\",\"Christ Complex\",\"Family Plot\",\"Rust and Bone\",\"Next\",\"Eagle Eye\",\"Modern Problems\",\"Wild at Heart\",\"The Hunger Games\",\"Klute\",\"3 Days to Kill\",\"Superman II\",\"Rails & Ties\",\"Away We Go\",\"Manhattan Murder Mystery\",\"El cantante\",\"The Past\",\"The Goodbye Girl\",\"Lost Souls\",\"Leaving Las Vegas\",\"Viridiana\",\"L'Avventura\",\"The Queen\",\"The Sweet Hereafter\",\"Nowhere Boy\",\"Wild Things\",\"Anna Karenina\",\"Boxing Helena\",\"Point of No Return\",\"Stranger Than Fiction\",\"Pan's Labyrinth\",\"The Seventh Victim\",\"Halloween: Resurrection\",\"Mr. & Mrs. Smith\",\"Donnie Darko\",\"Friday the 13th Part VIII: Jason Takes Manhattan\",\"Fun with Dick and Jane\",\"The Wedding Singer\",\"Elizabeth\",\"The Exorcist\",\"The Best Exotic Marigold Hotel\",\"The Howling\",\"House of Wax\",\"Ghost\",\"Light of Day\",\"Sleeping Beauty\",\"The Doom Generation\",\"The Ugly Truth\",\"Entrapment\",\"Nurse Betty\",\"Woman in Gold\",\"Frozen\",\"Bodies, Rest & Motion\",\"The Mummy: Tomb of the Dragon Emperor\",\"Knight and Day\",\"St. Elmo's Fire\",\"I'll Do Anything\",\"Cube\",\"Obsessed\",\"The Ruins\",\"No Strings Attached\",\"Insidious: Chapter 2\",\"End of Days\",\"V for Vendetta\",\"The Electric Horseman\",\"The Sessions\",\"Hannah and Her Sisters\",\"Hope and Glory\",\"Requiem for a Dream\",\"Trouble in Paradise\",\"Fear of Clowns\",\"Inventing the Abbotts\",\"Waterworld\",\"Hellraiser\",\"Intolerable Cruelty\",\"How Do You Know\",\"Timber Falls\",\"Anastasia\",\"The Leopard Man\",\"Scary Movie 2\",\"About Last Night\",\"Norma Rae\",\"Roughshod\",\"Contact\",\"Finders Keepers: The Root of All Evil\",\"Broken Embraces\",\"Match Point\",\"I Think I Love My Wife\",\"On Golden Pond\",\"Fruitvale Station\",\"True Grit\",\"You're Next\",\"Authors Anonymous\",\"American Beauty\",\"The Cell\",\"Remember Me\",\"The Green Inferno\",\"Sabotage\",\"The Twilight Saga: Eclipse\",\"The Piano\",\"Six Degrees of Separation\",\"Harper\",\"Happy Campers\",\"White Angel\",\"Sullivan's Travels\",\"Hellraiser: Deader\",\"Seeking a Friend for the End of the World\",\"Terminator Salvation\",\"Up in the Air\",\"Jason Lives: Friday the 13th Part VI\",\"Cursed\",\"The Long Kiss Goodnight\",\"eXistenZ\",\"Shampoo\",\"House of the Damned\",\"Rear Window\",\"The Chronicles of Narnia: The Lion, the Witch and the Wardrobe\",\"Freddy vs. Jason\",\"Midnight in Paris\",\"Man Trouble\",\"At First Sight\",\"Come See the Paradise\",\"Ninja Assassin\",\"Snow White and the Huntsman\",\"Wanted\",\"The Bourne Supremacy\",\"Bull Durham\",\"Psycho II\",\"Sweeney Todd: The Demon Barber of Fleet Street\",\"Election\",\"Pet Sematary\",\"Resident Evil\",\"My Week with Marilyn\",\"Last Chance Harvey\",\"The Man Who Knew Too Much\",\"Love & Other Drugs\",\"Sweet November\",\"Jason X\",\"Train\",\"The Silence of the Lambs\",\"Four Rooms\",\"Wrong Turn\",\"Last Tango in Paris\",\"Kalifornia\",\"Zero Dark Thirty\",\"Blue Velvet\",\"Oblivion\",\"Being John Malkovich\",\"The Lost Son\",\"The Cabin in the Woods\",\"City of Joy\",\"Punch-Drunk Love\",\"A Nightmare on Elm Street 2: Freddy's Revenge\",\"The Saint\",\"The Ice Storm\",\"You Can Count on Me\",\"Uncle Buck\",\"Begin Again\",\"Fatal Instinct\",\"Elizabethtown\",\"Cyrus\",\"Twin Peaks: Fire Walk with Me\",\"Evil Angel\",\"Valentine's Day\",\"Bird on a Wire\",\"Jerry Maguire\",\"The Last Station\",\"Solaris\",\"Big Eyes\",\"Titanic\",\"Truth\",\"L\\ufffdon: The Professional\",\"Fast Times at Ridgemont High\",\"Wild Tales\",\"In the Bedroom\",\"Say Anything...\",\"Mystery of the Wax Museum\",\"Dear White People\",\"The Lunchbox\",\"Lake Placid\",\"Knocked Up\",\"The Human Stain\",\"Starman\",\"Body Heat\",\"Panic Room\",\"Despicable Me 2\",\"Cujo\",\"Feast\",\"Blast from the Past\",\"Purple Rain\",\"Hereafter\",\"Play Misty for Me\",\"Notting Hill\",\"Source Code\",\"The Bodyguard\",\"House of 1000 Corpses\",\"The Pelican Brief\",\"Hollow Man\",\"So I Married an Axe Murderer\",\"Queen of the Damned\",\"Marley & Me\",\"Date Night\",\"Transcendence\",\"Sounder\",\"Evil Under the Sun\",\"American Ultra\",\"Hesher\",\"Forgetting Sarah Marshall\",\"Someone to Watch Over Me\",\"South Park: Bigger Longer & Uncut\",\"Ninotchka\",\"Hitch\",\"The Box\",\"Jack Goes Boating\",\"Dredd\",\"Boyhood\",\"The Lazarus Effect\",\"Halloween\",\"S1m0ne\",\"Dracula 2000\",\"Into the Wild\",\"Basic Instinct\",\"Amour\",\"The World Is Not Enough\",\"Jaws: The Revenge\",\"Drive Angry\",\"Tristan + Isolde\",\"The Shipping News\",\"Arthur\",\"The Ref\",\"Something Wild\",\"Five Feet High and Rising\",\"The Bounty Hunter\",\"Rent\",\"Boy Who Never Slept\",\"Into the Night\",\"Brothers\",\"Blue Valentine\",\"Team America: World Police\",\"Living in Oblivion\",\"Nine\",\"Safety Not Guaranteed\",\"As Good as It Gets\",\"Vertigo\",\"Me Him Her\",\"Two-Lane Blacktop\",\"Chasing Amy\",\"Clash of the Titans\",\"Labor Day\",\"Unstoppable\",\"Dr. Jekyll and Mr. Hyde\",\"The Debt\",\"Romeo & Juliet\",\"A Good Year\",\"Eight Legged Freaks\",\"Jaws 3-D\",\"Super\",\"Pocahontas\",\"Alien: Resurrection\",\"Crazy, Stupid, Love.\",\"Soldier\",\"The Utah Murder Project\",\"Avatar\",\"The Diving Bell and the Butterfly\",\"The American President\",\"His Girl Friday\",\"Scott Pilgrim vs. the World\",\"Take Shelter\",\"P2\",\"Father of the Bride\",\"Mimic\",\"Little Miss Sunshine\",\"Top Five\",\"Jackie Brown\",\"Mighty Joe Young\",\"Isle of the Dead\",\"Mr. Turner\",\"Identity Thief\",\"The Relic\",\"The Magic Toyshop\",\"Jimmy and Judy\",\"Little Athens\",\"Prometheus\",\"Vantage Point\",\"12 and Holding\",\"Alien\",\"Splinter\",\"Ferris Bueller's Day Off\",\"Romeo + Juliet\",\"The Thin Man\",\"Monster House\",\"Pitch Black\",\"Psycho\",\"Stone\",\"The Reader\",\"Broadcast News\",\"Last Time Forever\",\"In the Valley of Elah\",\"Machete\",\"Body of Evidence\",\"28 Weeks Later\",\"A Most Wanted Man\",\"Greenberg\",\"John Q\",\"Hellraiser: Hellseeker\",\"Tender Mercies\",\"Kids\",\"Kill Bill: Vol. 2\",\"Doomsday\",\"Traffic\",\"The Wrestler\",\"Under Fire\",\"Conspiracy Theory\",\"Light Sleeper\",\"Twelve Monkeys\",\"The Brothers Bloom\",\"Hanover Street\",\"The Incredible Hulk\",\"Changeling\",\"Dogma\",\"Mute Witness\",\"Malice\",\"Time After Time\",\"Youth in Revolt\",\"Cloverfield\",\"Red Lights\",\"The Abyss\",\"Witness\",\"Bullets Over Broadway\",\"Inherent Vice\",\"Mumford\",\"The Beaver\",\"Taken 2\",\"Hatchet\",\"One Chance\",\"Final Destination\",\"Annie Hall\",\"Salt\",\"Barney's Version\",\"How to Lose Friends & Alienate People\",\"Elysium\",\"Burning Annie\",\"Bonnie and Clyde\",\"Austin Powers: International Man of Mystery\",\"The Fisher King\",\"The Ploughman's Lunch\",\"Stuart Little 2\",\"El mariachi\",\"Hook\",\"The Spectacular Now\",\"Paper Towns\",\"The X Files\",\"(500) Days of Summer\",\"Shame\",\"Eastern Promises\",\"Hitchcock\",\"The Descendants\",\"Batman & Robin\",\"The American\",\"She's Out of My League\",\"The Visitor\",\"Halloween: The Curse of Michael Myers\",\"Encrypt\",\"Wanderlust\",\"Return to Me\",\"Days of Heaven\",\"The Guest\",\"Children of Men\",\"Wreck-It Ralph\",\"Hero\",\"Legion\",\"Mirrors\",\"I Still Know What You Did Last Summer\",\"The Theory of Everything\",\"There's Something About Mary\",\"Disturbia\",\"Birdman or (The Unexpected Virtue of Ignorance)\",\"Groundhog Day\",\"A Walk to Remember\",\"Street Fighter: The Legend of Chun-Li\",\"Face/Off\",\"No One Lives\",\"Batman\",\"Black Snake Moan\",\"Sin Nombre\",\"Constantine\",\"The Keep\",\"Flash Gordon\",\"Obsession\",\"Superman IV: The Quest for Peace\",\"Gremlins 2: The New Batch\",\"Go\",\"The Pacifier\",\"GoldenEye\",\"The Graduate\",\"Indiana Jones and the Temple of Doom\",\"Shark Night 3D\",\"Burn After Reading\",\"Melvin and Howard\",\"Hannibal\",\"Cape Fear\",\"The Croods\",\"Mighty Morphin Power Rangers: The Movie\",\"Sinister\",\"Home Alone\",\"Virtuosity\",\"Strange Days\",\"Adaptation.\",\"The Frighteners\",\"Maximum Overdrive\",\"The Little Mermaid\",\"Aliens vs. Predator: Requiem\",\"Shivers\",\"The Squid and the Whale\",\"Critters 2\",\"I Spit on Your Grave\",\"Bad Meat\",\"Storytelling\",\"The Girl with the Dragon Tattoo\",\"American Sniper\",\"Frankenweenie\",\"Blade: Trinity\",\"The Getaway\",\"Stir of Echoes\",\"Airplane II: The Sequel\",\"30 Days of Night\",\"Almost Famous\",\"The Blob\",\"Rambling Rose\",\"Thir13en Ghosts\",\"The Cutting Edge\",\"The Crow: City of Angels\",\"War of the Worlds\",\"Dracula\",\"Life as a House\",\"The Jacket\",\"True Lies\",\"Superman III\",\"Cloud Atlas\",\"Orgy of the Dead\",\"Christine\",\"Halloween\",\"Judge Dredd\",\"The Family Man\",\"Pay the Ghost\",\"While We're Young\",\"Hard to Kill\",\"Talk to Her\",\"Weird Science\",\"Bad Lieutenant\",\"Hall Pass\",\"Sasquatch Mountain\",\"The Game\",\"Lone Star\",\"This Boy's Life\",\"The Texas Chainsaw Massacre\",\"The 40-Year-Old Virgin\",\"Terminator 2: Judgment Day\",\"28 Days Later...\",\"The Big Blue\",\"My Bloody Valentine\",\"Transatlantic Merry-Go-Round\",\"Beauty and the Beast\",\"Shaun of the Dead\",\"50/50\",\"Moonrise Kingdom\",\"Man on Fire\",\"Highlander\",\"Identity\",\"Tomorrow Never Dies\",\"Hearts in Atlantis\",\"Defending Your Life\",\"Knight Moves\",\"The Martian\",\"Serenity\",\"The Mist\",\"Nebraska\",\"Star Wars: Episode VII - The Force Awakens\",\"Perfect Creature\",\"The Perks of Being a Wallflower\",\"Pixels\",\"The King of Comedy\",\"The Butterfly Effect\",\"American Pie\",\"The Black Dahlia\",\"Big\",\"Willow\",\"Pleasantville\",\"To Sleep with Anger\",\"Despicable Me\",\"Zerophilia\",\"Near Dark\",\"Complete Guide to Guys\",\"Being There\",\"Cinema Paradiso\",\"The Next Three Days\",\"Vacancy\",\"Let Me In\",\"Monkeybone\",\"Fargo\",\"School of Rock\",\"Airplane!\",\"The Apartment\",\"Doom\",\"Primal Fear\",\"Pacific Rim\",\"Scooby-Doo\",\"Nick and Norah's Infinite Playlist\",\"Nothing But a Man\",\"Mr. Blandings Builds His Dream House\",\"The Tree of Life\",\"In the Mouth of Madness\",\"Antz\",\"In the Line of Fire\",\"Kicking and Screaming\",\"House on Haunted Hill\",\"ParaNorman\",\"Edtv\",\"Clue\",\"The Fighter\",\"Rampart\",\"Adventureland\",\"Double Indemnity\",\"Shortcut to Happiness\",\"Red Rock West\",\"True Crime\",\"American Graffiti\",\"Rolling Thunder\",\"The Mummy\",\"Killer Joe\",\"Creation\",\"Liar Liar\",\"Bruce Almighty\",\"Garden State\",\"Bad Boys\",\"A History of Violence\",\"Somewhere in Time\",\"Nick of Time\",\"The Rules of Attraction\",\"Grindhouse\",\"Ordinary People\",\"Me and Earl and the Dying Girl\",\"The Siege\",\"Blood and Wine\",\"American Gigolo\",\"U Turn\",\"Assassins\",\"Risky Business\",\"Ace Ventura: Pet Detective\",\"Cosmopolis\",\"Grand Hotel\",\"The Wizard\",\"Watchmen\",\"Cecil B. DeMented\",\"Sphere\",\"Mrs Brown\",\"Blood Simple.\",\"Babel\",\"Win Win\",\"The Rocky Horror Picture Show\",\"The Cider House Rules\",\"Only God Forgives\",\"Career Opportunities\",\"The Cincinnati Kid\",\"Shrek 2\",\"Hardcore\",\"Terminator Genisys\",\"Meet Joe Black\",\"No Escape\",\"The Karate Kid\",\"Confessions of a Dangerous Mind\",\"Jacob's Ladder\",\"The Mask\",\"Looney Tunes: Back in Action\",\"The Smurfs 2\",\"Gamer\",\"Lee Daniels' The Butler\",\"Alone in the Dark\",\"Dead Again\",\"Taken\",\"St. Vincent\",\"One Eight Seven\",\"Thor\",\"Starship Troopers\",\"While She Was Out\",\"La Bamba\",\"The Lady from Shanghai\",\"Yes Man\",\"The Shining\",\"Surrogates\",\"I, Robot\",\"Dazed and Confused\",\"Miami Vice\",\"Vanilla Sky\",\"The Lost Weekend\",\"Shakespeare in Love\",\"American Hustle\",\"The Number 23\",\"Red Dragon\",\"Croupier\",\"Some Like It Hot\",\"Monster's Ball\",\"Star Trek: First Contact\",\"Lost in America\",\"Stay\",\"Needful Things\",\"Where the Wild Things Are\",\"High Fidelity\",\"Finding Nemo\",\"Blade\",\"The Omega Man\",\"The Hospital\",\"Total Recall\",\"Freddy's Dead: The Final Nightmare\",\"Children of the Corn\",\"Insomnia\",\"Mulan\",\"Absolute Power\",\"The Four Feathers\",\"Out of Sight\",\"Prisoners\",\"Deconstructing Harry\",\"The Boondock Saints II: All Saints Day\",\"Spider-Man 2\",\"The Last Flight\",\"Point Break\",\"The Crazies\",\"Jeff, Who Lives at Home\",\"Grosse Pointe Blank\",\"Quantum Project\",\"Birthday Girl\",\"The Hills Have Eyes\",\"The Invention of Lying\",\"In the Loop\",\"Nashville\",\"The Pianist\",\"The Marrying Man\",\"Air Force One\",\"Escape from L.A.\",\"Color of Night\",\"Game 6\",\"The Book of Eli\",\"The English Patient\",\"Interstellar\",\"Matchstick Men\",\"Toy Story 3\",\"The Prophecy\",\"Steve Jobs\",\"The Tourist\",\"Crash\",\"The Breakfast Club\",\"Tall in the Saddle\",\"Big Fish\",\"Dragonslayer\",\"Rabid\",\"Self/less\",\"The Smurfs\",\"Pulp Fiction\",\"Chain Reaction\",\"Animal Kingdom\",\"Dumb and Dumber To\",\"An Officer and a Gentleman\",\"Benny & Joon\",\"Conan the Barbarian\",\"Pompeii\",\"Once Upon a Time in America\",\"The Hebrew Hammer\",\"Boyz n the Hood\",\"The Lost Boys\",\"Demolition Man\",\"Happy Birthday, Wanda June\",\"Prince of Darkness\",\"The Crow: Salvation\",\"Stuart Little\",\"The Sixth Sense\",\"Eyes Wide Shut\",\"17 Again\",\"X-Men Origins: Wolverine\",\"Lost Highway\",\"The Grapes of Wrath\",\"A Perfect Getaway\",\"Meet John Doe\",\"Love Is Strange\",\"Get Carter\",\"Bringing Out the Dead\",\"Unbreakable\",\"Sleepy Hollow\",\"Wish I Was Here\",\"The Collection\",\"The Zero Theorem\",\"Tin Cup\",\"Slash\",\"The Adventures of Ford Fairlane\",\"The November Man\",\"Snowpiercer\",\"G.I. Joe: The Rise of Cobra\",\"Danny Collins\",\"Event Horizon\",\"The Mothman Prophecies\",\"Beowulf\",\"Lost in Space\",\"The Elephant Man\",\"Hunchback of Notre Dame\",\"Cliffhanger\",\"Straw Dogs\",\"The Town\",\"The Nightmare Before Christmas\",\"The Limey\",\"I Am Number Four\",\"The Family\",\"Coriolanus\",\"Boogie Nights\",\"The Island\",\"Clerks\",\"Predators\",\"Cloudy with a Chance of Meatballs\",\"Art School Confidential\",\"How to Train Your Dragon 2\",\"Raiders of the Lost Ark\",\"Heaven Is for Real\",\"Noah\",\"The Great Muppet Caper\",\"Beginners\",\"The Ninth Gate\",\"Smokey and the Bandit\",\"Anchorman: The Legend of Ron Burgundy\",\"Les Mis\\ufffdrables\",\"Flight\",\"Trumbo\",\"Maverick\",\"Macbeth\",\"The Flintstones\",\"Witness for the Prosecution\",\"A.I. Artificial Intelligence\",\"Henry's Crime\",\"The Bourne Identity\",\"Redbelt\",\"Taxi Driver\",\"Being Human\",\"8MM\",\"Three Days of the Condor\",\"Station West\",\"Spacejacked\",\"The Ringer\",\"Quills\",\"The Assassination of Jesse James by the Coward Robert Ford\",\"The Hudsucker Proxy\",\"Heat\",\"The General's Daughter\",\"Cellular\",\"The Three Stooges\",\"Raising Arizona\",\"Goodfellas\",\"Friday the 13th\",\"Leviathan\",\"Alien\\uffb3\",\"The Devil's Advocate\",\"Star Trek IV: The Voyage Home\",\"Wag the Dog\",\"Austin Powers: The Spy Who Shagged Me\",\"Star Trek II: The Wrath of Khan\",\"Youth\",\"In Time\",\"Ocean's Twelve\",\"The Lost World: Jurassic Park\",\"Pi\",\"Pirates of the Caribbean: At World's End\",\"Friday the 13th\",\"Sicario\",\"Dune\",\"Chasing Sleep\",\"The Rocketeer\",\"The Adjustment Bureau\",\"The Royal Tenenbaums\",\"Silver Bullet\",\"Unlawful Entry\",\"The Fabulous Baker Boys\",\"Harry Potter and the Prisoner of Azkaban\",\"The Boxtrolls\",\"Honeydripper\",\"Machine Gun Preacher\",\"Drugstore Cowboy\",\"Bachelor Party\",\"The Cooler\",\"Tucker and Dale vs. Evil\",\"Kafka\",\"Grand Theft Parsons\",\"Chef\",\"An American Werewolf in London\",\"Mary Shelley's Frankenstein\",\"Jaws 2\",\"Magnolia\",\"Bones\",\"Inglourious Basterds\",\"Wild Card\",\"Fantastic Four\",\"A Simple Plan\",\"Smokin' Aces\",\"The Fantastic Four\",\"Rock of Ages\",\"Prince of Persia: The Sands of Time\",\"Awakenings\",\"State and Main\",\"Christmas Vacation\",\"The Counselor\",\"Looper\",\"Pearl Harbor\",\"Caddyshack\",\"North by Northwest\",\"Coming to America\",\"Jay and Silent Bob Strike Back\",\"SubUrbia\",\"The Bonfire of the Vanities\",\"The Talented Mr. Ripley\",\"Death at a Funeral\",\"Promised Land\",\"Jurassic Park III\",\"Bee Movie\",\"Charlie Bartlett\",\"Arlington Road\",\"Spare Me\",\"The Believer\",\"The Drop\",\"The Devil's Rejects\",\"Signs\",\"Death to Smoochy\",\"Harry Potter and the Sorcerer's Stone\",\"I Am Legend\",\"Observe and Report\",\"Idiocracy\",\"The Poseidon Adventure\",\"An American Werewolf in Paris\",\"Rushmore\",\"Top Gun\",\"Hellboy II: The Golden Army\",\"Sleeping Beauty\",\"Major League\",\"Daddy's Home\",\"Nightcrawler\",\"Field of Dreams\",\"Narrow Margin\",\"Now You See Me\",\"San Andreas\",\"Jeepers Creepers II\",\"Horns\",\"A Perfect World\",\"Million Dollar Baby\",\"Mandingo\",\"The Gunman\",\"Sugar\",\"Henry Fool\",\"Planet of the Apes\",\"Blood Diamond\",\"Cowboys & Aliens\",\"Pan\",\"Antitrust\",\"Ted\",\"The Bourne Ultimatum\",\"The Matrix\",\"RKO 281\",\"Snow Falling on Cedars\",\"Sea of Love\",\"A Beautiful Mind\",\"In Good Company\",\"American Psycho\",\"Spaceballs\",\"The Black Cauldron\",\"The Rover\",\"My Bodyguard\",\"Daybreakers\",\"Sweet Smell of Success\",\"A Scanner Darkly\",\"Colombiana\",\"The Mosquito Coast\",\"Indiana Jones and the Kingdom of the Crystal Skull\",\"Amadeus\",\"Star Trek: Generations\",\"Ghost Town\",\"Arbitrage\",\"Pet Sematary II\",\"Reasonable Doubt\",\"Detroit Rock City\",\"Ghost Ship\",\"White House Down\",\"The Naked Gun 2\\uffbd: The Smell of Fear\",\"Fright Night\",\"Southpaw\",\"Sideways\",\"The Imaginarium of Doctor Parnassus\",\"Memento\",\"Hardware\",\"Mr. Deeds Goes to Town\",\"Water for Elephants\",\"Two for the Money\",\"Star Trek VI: The Undiscovered Country\",\"American Splendor\",\"2012\",\"Do the Right Thing\",\"Shallow Grave\",\"It's Kind of a Funny Story\",\"Ghostbusters II\",\"Very Bad Things\",\"Tremors\",\"Wonderland\",\"The Equalizer\",\"Blade II\",\"The Ladykillers\",\"The Body Snatcher\",\"Inception\",\"Bean\",\"Thunderbirds\",\"A Single Man\",\"The Aviator\",\"Joy Ride\",\"X-Men 2\",\"Hudson Hawk\",\"Harry Potter and the Goblet of Fire\",\"12 Years a Slave\",\"Mission: Impossible\",\"Willard\",\"Ronin\",\"Mars Attacks!\",\"The Great Gatsby\",\"The Adventures of Priscilla, Queen of the Desert\",\"Silver Streak\",\"Revenge\",\"The Lorax\",\"Harry Potter and the Half-Blood Prince\",\"Braveheart\",\"Kramer vs. Kramer\",\"Hackers\",\"Green Lantern\",\"Funny People\",\"Erik the Viking\",\"Batman Forever\",\"Mortdecai\",\"The Imitation Game\",\"The Company Men\",\"On the Waterfront\",\"The Stunt Man\",\"Reindeer Games\",\"Day of the Dead\",\"White Christmas\",\"The War of the Worlds\",\"Rise of the Planet of the Apes\",\"Limitless\",\"Ricochet\",\"Star Trek: The Motion Picture\",\"The Place Beyond the Pines\",\"Forrest Gump\",\"Chinatown\",\"The Wind and the Lion\",\"Wonder Boys\",\"Nowhere to Run\",\"Cloudy with a Chance of Meatballs 2\",\"The Lincoln Lawyer\",\"The Matrix Reloaded\",\"Young Frankenstein\",\"Star Wars: Episode II - Attack of the Clones\",\"My Best Friend's Birthday\",\"Breaking Away\",\"American History X\",\"X-Men\",\"Broken Arrow\",\"Creepshow\",\"Wedding Crashers\",\"Above the Law\",\"Gremlins\",\"The Time Machine\",\"15 Minutes\",\"Click\",\"Star Wars: Episode I - The Phantom Menace\",\"Deja Vu\",\"K-PAX\",\"Good Night, and Good Luck.\",\"The Searchers\",\"Kick-Ass\",\"Basquiat\",\"The Doors\",\"Seems Like Old Times\",\"The Cocoanuts\",\"Dope\",\"Lord of Illusions\",\"Minority Report\",\"Ghost Story\",\"Brick\",\"Citizen Kane\",\"The Program\",\"Suspect Zero\",\"Jurassic Park\",\"The Crow\",\"Kiss of Death\",\"Real Genius\",\"Lions for Lambs\",\"Undertow\",\"The Last of the Mohicans\",\"Mississippi Grind\",\"Saw IV\",\"Big Fan\",\"The Way of the Gun\",\"Payback\",\"Star Trek III: The Search for Spock\",\"Mission: Impossible II\",\"War Horse\",\"Anatomy of a Murder\",\"Shrek\",\"Talladega Nights: The Ballad of Ricky Bobby\",\"Bamboozled\",\"22 Jump Street\",\"The Lego Movie\",\"Catch Me If You Can\",\"Batman Returns\",\"Zero Effect\",\"Swordfish\",\"Dinner for Schmucks\",\"Drive\",\"Hatchet II\",\"The Third Man\",\"127 Hours\",\"Angels & Demons\",\"A Dry White Season\",\"Innerspace\",\"Gods and Monsters\",\"Galaxy Quest\",\"The Italian Job\",\"Interview with the Vampire: The Vampire Chronicles\",\"True Romance\",\"City Hall\",\"The Hustler\",\"Carlito's Way\",\"Hannibal Rising\",\"Gleaming the Cube\",\"Dallas Buyers Club\",\"Capote\",\"The Dark Half\",\"Mystery Men\",\"Below\",\"The Postman\",\"We're No Angels\",\"Beowulf & Grendel\",\"The Surfer King\",\"The Private Life of Sherlock Holmes\",\"Jumper\",\"American Madness\",\"Memoirs of an Invisible Man\",\"Moscow on the Hudson\",\"Kate & Leopold\",\"The Big Short\",\"Naked Lunch\",\"Inside Man\",\"Cabin Fever 2: Spring Fever\",\"Jason Goes to Hell: The Final Friday\",\"Diner\",\"Gladiator\",\"Brazil\",\"The Wolfman\",\"Michael Clayton\",\"Ex Machina\",\"The Dark Knight Rises\",\"Any Given Sunday\",\"Good Will Hunting\",\"Courage Under Fire\",\"Cast Away\",\"The Messenger\",\"Fracture\",\"Blade Runner\",\"The Beach\",\"Beavis and Butt-Head Do America\",\"Ghostbusters\",\"Hercules\",\"The Day The Earth Stood Still\",\"Get Low\",\"The Jerk\",\"Red Planet\",\"Chaos\",\"The Wolverine\",\"Lucky Number Slevin\",\"No Country for Old Men\",\"Mr. Brooks\",\"The Fifth Estate\",\"Priest\",\"Crazy Heart\",\"The Change-Up\",\"The Seventh Seal\",\"Harry Potter and the Chamber of Secrets\",\"Hot Rod\",\"The Parallax View\",\"Gang Related\",\"Casino\",\"Extract\",\"Little Nicky\",\"Searching for Bobby Fischer\",\"The Adventures of Buckaroo Banzai Across the 8th Dimension\",\"Sling Blade\",\"Brooklyn's Finest\",\"The Great Outdoors\",\"Duck Soup\",\"Basic\",\"The Three Musketeers\",\"Legend\",\"The Secret Life of Walter Mitty\",\"Get Shorty\",\"Collateral\",\"THX 1138\",\"Public Enemies\",\"Hotel Rwanda\",\"48 Hrs.\",\"Season of the Witch\",\"Heist\",\"Silverado\",\"Independence Day\",\"Affliction\",\"Dave\",\"A Most Violent Year\",\"The Lord of the Rings: The Fellowship of the Ring\",\"Die Hard 2\",\"She Wore a Yellow Ribbon\",\"Defiance\",\"The Darjeeling Limited\",\"Papadopoulos & Sons\",\"A Few Good Men\",\"Pirates of the Caribbean: Dead Man's Chest\",\"The Prestige\",\"Cedar Rapids\",\"The Godfather: Part II\",\"The Life Aquatic with Steve Zissou\",\"Call Northside 777\",\"Malibu's Most Wanted\",\"The Ides of March\",\"End of Watch\",\"Snake Eyes\",\"The Mechanic\",\"The Sorcerer's Apprentice\",\"Stolen\",\"Outbreak\",\"Something Wicked This Way Comes\",\"For Your Eyes Only\",\"Gone in Sixty Seconds\",\"Repo Man\",\"Dog Day Afternoon\",\"The Avengers\",\"Blow\",\"Touch of Evil\",\"Monsters University\",\"Ed Wood\",\"Logan's Run\",\"The Lion King\",\"The Iron Giant\",\"National Treasure\",\"Shrek the Third\",\"Manhunter\",\"National Treasure: Book of Secrets\",\"Spawn\",\"Smoke\",\"Fletch\",\"Alfie\",\"Deep Rising\",\"Pirates of the Caribbean: The Curse of the Black Pearl\",\"TMNT\",\"Hot Stuff\",\"The Truman Show\",\"Who Framed Roger Rabbit\",\"World Trade Center\",\"Hellboy\",\"Anonymous\",\"JFK\",\"Hard Rain\",\"Donnie Brasco\",\"Ratatouille\",\"Mission to Mars\",\"Thief\",\"Breakfast of Champions\",\"Jennifer 8\",\"The Maiden Heist\",\"Devil in a Blue Dress\",\"The Hitchhiker's Guide to the Galaxy\",\"Stranglehold\",\"Mud\",\"Gangs of New York\",\"Predator 2\",\"Lincoln\",\"The Maze Runner\",\"Mallrats\",\"Fallen\",\"Bloodfist VII: Manhunt\",\"Saw\",\"Code of Silence\",\"Cradle 2 the Grave\",\"The Salton Sea\",\"Sherlock Holmes\",\"Life Is Beautiful\",\"Beneath the Planet of the Apes\",\"Troy\",\"Star Wars: Episode III - Revenge of the Sith\",\"Law Abiding Citizen\",\"Gran Torino\",\"xXx\",\"All the Pretty Horses\",\"Star Trek V: The Final Frontier\",\"Brokeback Mountain\",\"Space Cowboys\",\"Cars 2\",\"Backdraft\",\"The Riot Club\",\"Batman Begins\",\"Back to the Future Part III\",\"Exorcist: The Beginning\",\"Back to the Future\",\"Crank\",\"Live and Let Die\",\"City Heat\",\"L.A. Confidential\",\"Blades of Glory\",\"Kingdom of Heaven\",\"The Manchurian Candidate\",\"Highlander: Endgame\",\"Land of the Dead\",\"Old School\",\"Speed Racer\",\"How to Train Your Dragon\",\"The Judge\",\"Enemy of the State\",\"Year One\",\"Pandorum\",\"Bad Santa\",\"Shadow of the Vampire\",\"The Fast and the Furious\",\"Captain America: The First Avenger\",\"Deception\",\"Men in Black\",\"Robin Hood: Prince of Thieves\",\"Elf\",\"The Assignment\",\"Scarface\",\"Frankenstein\",\"Holes\",\"The Recruit\",\"The Weather Man\",\"Dracula Untold\",\"Days of Thunder\",\"Deliver Us from Evil\",\"Paul\",\"Star Wars: Episode V - The Empire Strikes Back\",\"Scanners\",\"Wall Street\",\"Midnight Cowboy\",\"Twins\",\"Equilibrium\",\"Remember\",\"Delivery Man\",\"Breakdown\",\"Legend\",\"Borderland\",\"Ransom\",\"The Kingdom\",\"Fight Club\",\"The Hangover\",\"Pineapple Express\",\"The Losers\",\"Last Man Standing\",\"Rise of the Guardians\",\"Raging Bull\",\"42\",\"Rush\",\"Tower Heist\",\"The Princess Bride\",\"25th Hour\",\"Back to the Future Part II\",\"Lost Horizon\",\"Riddick\",\"Run All Night\",\"Gangster Squad\",\"Rambo: First Blood Part II\",\"Aladdin\",\"I Melt with You\",\"Serpico\",\"The Replacements\",\"American Gangster\",\"Star Trek: Insurrection\",\"Deep Cover\",\"300\",\"The King's Speech\",\"Semi-Pro\",\"Get Hard\",\"Street Kings\",\"Dumb & Dumber\",\"A Night at the Roxbury\",\"The Cable Guy\",\"The Lookout\",\"Barry Lyndon\",\"Selma\",\"The Deer Hunter\",\"Pawn Sacrifice\",\"Lethal Weapon 4\",\"The Crying Game\",\"Jonah: A VeggieTales Movie\",\"Collateral Damage\",\"From Dusk Till Dawn\",\"Lawless\",\"Swingers\",\"Confidence\",\"Hostage\",\"The Last Temptation of Christ\",\"My Cousin Vinny\",\"Shifty\",\"Killing Zoe\",\"Green Zone\",\"Invictus\",\"Rush Hour 2\",\"The Illusionist\",\"Wild Bill\",\"Mystic River\",\"Boiler Room\",\"Zodiac\",\"Indiana Jones and the Last Crusade\",\"Natural Born Killers\",\"The Dark Knight\",\"Dances with Wolves\",\"Malcolm X\",\"A Serious Man\",\"Max Payne\",\"The Hitcher\",\"The Expendables 2\",\"The Social Network\",\"Ali\",\"El Dorado\",\"Trainspotting\",\"The Hills Have Eyes\",\"The Fugitive\",\"I Love You Phillip Morris\",\"The Expendables\",\"The Outlaw Josey Wales\",\"Star Trek\",\"Get Him to the Greek\",\"Down and Out in Beverly Hills\",\"Kung Fu Panda\",\"Bone Tomahawk\",\"Phone Booth\",\"It's a Wonderful Life\",\"Star Trek: Nemesis\",\"Walking Tall\",\"City of God\",\"Horrible Bosses\",\"The Rescuers Down Under\",\"Locke\",\"Three Kings\",\"Margin Call\",\"Jaws\",\"Tin Men\",\"Metro\",\"Sneakers\",\"Office Space\",\"The End of the Tour\",\"Born on the Fourth of July\",\"Wild Wild West\",\"The Gambler\",\"The Green Mile\",\"The Outsiders\",\"Candle to Water\",\"Fantastic Voyage\",\"Hot Tub Time Machine\",\"The Bucket List\",\"Frequency\",\"Super 8\",\"Capricorn One\",\"1408\",\"Arctic Blue\",\"The Island of Dr. Moreau\",\"Brick Mansions\",\"Lethal Weapon\",\"Toy Story\",\"Gattaca\",\"Chaplin\",\"The Wolf of Wall Street\",\"Unforgiven\",\"World War Z\",\"Rounders\",\"Magnum Force\",\"Nixon\",\"Munich\",\"Next Friday\",\"American Outlaws\",\"King Kong\",\"Pain & Gain\",\"W.\",\"Safe House\",\"Man on the Moon\",\"Analyze This\",\"Harold & Kumar Go to White Castle\",\"In Bruges\",\"We Own the Night\",\"Kill Your Darlings\",\"Newsies\",\"The Big Lebowski\",\"The Good Shepherd\",\"Lord of War\",\"The Insider\",\"Glory\",\"Happy Feet\",\"The Departed\",\"Hard Times\",\"Wild Hogs\",\"Se7en\",\"TRON\",\"The Last Boy Scout\",\"The Godfather\",\"Tombstone\",\"Escape from New York\",\"21\",\"Die Hard\",\"The Distinguished Gentleman\",\"Quiz Show\",\"Chronicle\",\"The Other Guys\",\"The Guard\",\"Black Rain\",\"Superbad\",\"All the President's Men\",\"Star Wars: Episode VI - Return of the Jedi\",\"Slumdog Millionaire\",\"The Master\",\"Thunderheart\",\"Up\",\"Good Luck Chuck\",\"Philadelphia\",\"Syriana\",\"Captain Phillips\",\"Army of Darkness\",\"The A-Team\",\"Rocky II\",\"They Live\",\"Rocky\",\"Kundun\",\"Hot Fuzz\",\"Arthur Christmas\",\"The Verdict\",\"Vanishing Point\",\"Fantastic Mr. Fox\",\"Kingsman: The Secret Service\",\"Red Heat\",\"RocknRolla\",\"Warrior\",\"Spotlight\",\"Straight Outta Compton\",\"True Believer\",\"Running Scared\",\"Star Wars: Episode IV - A New Hope\",\"Hulk\",\"The Promotion\",\"Spy Game\",\"Body of Lies\",\"A Clockwork Orange\",\"Mr. Smith Goes to Washington\",\"Made\",\"Blazing Saddles\",\"Tinker Tailor Soldier Spy\",\"1492: Conquest of Paradise\",\"Buried\",\"2 Guns\",\"The Road\",\"French Connection II\",\"Analyze That\",\"Edge of Darkness\",\"Ticker\",\"Rush Hour\",\"Local Hero\",\"The Corruptor\",\"Fear and Loathing in Las Vegas\",\"The Man in the Iron Mask\",\"Alien Nation\",\"Whiplash\",\"Seven Psychopaths\",\"The Producers\",\"Solomon Kane\",\"Rocky V\",\"Bad Day at Black Rock\",\"The Majestic\",\"The Way Back\",\"The Power of One\",\"A Civil Action\",\"The Informant!\",\"Executive Decision\",\"The Fifth Element\",\"Barton Fink\",\"The Punisher\",\"Octopussy\",\"Midnight Express\",\"Mean Streets\",\"The Big Easy\",\"Ocean's Eleven\",\"Armageddon\",\"Julius Caesar\",\"Jonah Hex\",\"Moon\",\"3 Men and a Baby\",\"Everything Must Go\",\"Network\",\"Trading Places\",\"The Yakuza\",\"The Boondock Saints\",\"30 Minutes or Less\",\"My Pure Joy\",\"Crime Spree\",\"Cobb\",\"The Driver\",\"King Kong\",\"Catch-22\",\"Gandhi\",\"Dead Poets Society\",\"Predator\",\"Legionnaire\",\"Dark City\",\"MASH\",\"Hate Crime\",\"The Odd Couple II\",\"Spartan\",\"The Rock\",\"Cool Hand Luke\",\"Clear and Present Danger\",\"The Patriot\",\"Life of Pi\",\"The Rise and Rise of Michael Rimmer\",\"My Own Private Idaho\",\"The Ghost and the Darkness\",\"Monsters, Inc.\",\"The Lord of the Rings: The Two Towers\",\"Cirque du Freak: The Vampire's Assistant\",\"Argo\",\"The Long Goodbye\",\"Moneyball\",\"Farewell to the King\",\"The Sandlot\",\"Horrible Bosses 2\",\"Frost/Nixon\",\"The Lord of the Rings: The Return of the King\",\"Panther\",\"O Brother, Where Art Thou?\",\"The Edge\",\"2001: A Space Odyssey\",\"Get on Up\",\"The Sting\",\"The Woodsman\",\"Milk\",\"Rocky Balboa\",\"Bad Country\",\"Cop Out\",\"Glory Road\",\"Rocky III\",\"Bridge of Spies\",\"The French Connection\",\"Tusk\",\"Deliverance\",\"The Day the Clown Cried\",\"Tropic Thunder\",\"Battle of the Year\",\"The Usual Suspects\",\"Dreamcatcher\",\"Apt Pupil\",\"Apocalypse Now\",\"Chill Factor\",\"3:10 to Yuma\",\"The Jungle Book\",\"Flags of Our Fathers\",\"Enter the Dragon\",\"Seven Samurai\",\"Exodus: Gods and Kings\",\"Life\",\"White Squall\",\"Four Lions\",\"Snatch.\",\"The Seven-Per-Cent Solution\",\"Beasts of No Nation\",\"A Man Apart\",\"The Last Samurai\",\"Memphis Belle\",\"Valkyrie\",\"The Grand Budapest Hotel\",\"Training Day\",\"The Last Castle\",\"The Damned United\",\"Thirteen Days\",\"Men in Black 3\",\"Full Metal Jacket\"],\"shape\":[1946],\"dtype\":\"object\",\"order\":\"little\"}],[\"release_year\",{\"type\":\"ndarray\",\"array\":{\"type\":\"bytes\",\"data\":\"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\"},\"shape\":[1946],\"dtype\":\"int32\",\"order\":\"little\"}],[\"proportion_of_dialogue\",{\"type\":\"ndarray\",\"array\":{\"type\":\"bytes\",\"data\":\"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\"},\"shape\":[1946],\"dtype\":\"float64\",\"order\":\"little\"}]]}}},\"view\":{\"type\":\"object\",\"name\":\"CDSView\",\"id\":\"p1145\",\"attributes\":{\"filter\":{\"type\":\"object\",\"name\":\"AllIndices\",\"id\":\"p1146\"}}},\"glyph\":{\"type\":\"object\",\"name\":\"Circle\",\"id\":\"p1141\",\"attributes\":{\"x\":{\"type\":\"field\",\"field\":\"release_year\",\"transform\":{\"type\":\"object\",\"name\":\"Jitter\",\"id\":\"p1137\",\"attributes\":{\"width\":0.2}}},\"y\":{\"type\":\"field\",\"field\":\"proportion_of_dialogue\"},\"size\":{\"type\":\"value\",\"value\":10},\"line_alpha\":{\"type\":\"value\",\"value\":0.4},\"fill_color\":{\"type\":\"field\",\"field\":\"proportion_of_dialogue\",\"transform\":{\"type\":\"object\",\"name\":\"LinearColorMapper\",\"id\":\"p1136\",\"attributes\":{\"palette\":[\"#0571b0\",\"#92c5de\",\"#f4a582\",\"#ca0020\"],\"low\":1.1,\"high\":0}}},\"fill_alpha\":{\"type\":\"value\",\"value\":0.5},\"hatch_color\":{\"type\":\"field\",\"field\":\"proportion_of_dialogue\",\"transform\":{\"id\":\"p1136\"}},\"hatch_alpha\":{\"type\":\"value\",\"value\":0.5}}},\"nonselection_glyph\":{\"type\":\"object\",\"name\":\"Circle\",\"id\":\"p1142\",\"attributes\":{\"x\":{\"type\":\"field\",\"field\":\"release_year\",\"transform\":{\"id\":\"p1137\"}},\"y\":{\"type\":\"field\",\"field\":\"proportion_of_dialogue\"},\"size\":{\"type\":\"value\",\"value\":10},\"line_alpha\":{\"type\":\"value\",\"value\":0.1},\"fill_color\":{\"type\":\"field\",\"field\":\"proportion_of_dialogue\",\"transform\":{\"id\":\"p1136\"}},\"fill_alpha\":{\"type\":\"value\",\"value\":0.1},\"hatch_color\":{\"type\":\"field\",\"field\":\"proportion_of_dialogue\",\"transform\":{\"id\":\"p1136\"}},\"hatch_alpha\":{\"type\":\"value\",\"value\":0.1}}},\"muted_glyph\":{\"type\":\"object\",\"name\":\"Circle\",\"id\":\"p1143\",\"attributes\":{\"x\":{\"type\":\"field\",\"field\":\"release_year\",\"transform\":{\"id\":\"p1137\"}},\"y\":{\"type\":\"field\",\"field\":\"proportion_of_dialogue\"},\"size\":{\"type\":\"value\",\"value\":10},\"line_alpha\":{\"type\":\"value\",\"value\":0.2},\"fill_color\":{\"type\":\"field\",\"field\":\"proportion_of_dialogue\",\"transform\":{\"id\":\"p1136\"}},\"fill_alpha\":{\"type\":\"value\",\"value\":0.2},\"hatch_color\":{\"type\":\"field\",\"field\":\"proportion_of_dialogue\",\"transform\":{\"id\":\"p1136\"}},\"hatch_alpha\":{\"type\":\"value\",\"value\":0.2}}}}}],\"toolbar\":{\"type\":\"object\",\"name\":\"Toolbar\",\"id\":\"p1113\",\"attributes\":{\"tools\":[{\"type\":\"object\",\"name\":\"PanTool\",\"id\":\"p1128\"},{\"type\":\"object\",\"name\":\"WheelZoomTool\",\"id\":\"p1129\",\"attributes\":{\"renderers\":\"auto\"}},{\"type\":\"object\",\"name\":\"BoxZoomTool\",\"id\":\"p1130\",\"attributes\":{\"overlay\":{\"type\":\"object\",\"name\":\"BoxAnnotation\",\"id\":\"p1131\",\"attributes\":{\"syncable\":false,\"level\":\"overlay\",\"visible\":false,\"left_units\":\"canvas\",\"right_units\":\"canvas\",\"top_units\":\"canvas\",\"bottom_units\":\"canvas\",\"line_color\":\"black\",\"line_alpha\":1.0,\"line_width\":2,\"line_dash\":[4,4],\"fill_color\":\"lightgrey\",\"fill_alpha\":0.5}}}},{\"type\":\"object\",\"name\":\"SaveTool\",\"id\":\"p1132\"},{\"type\":\"object\",\"name\":\"ResetTool\",\"id\":\"p1133\"},{\"type\":\"object\",\"name\":\"HelpTool\",\"id\":\"p1134\"},{\"type\":\"object\",\"name\":\"HoverTool\",\"id\":\"p1135\",\"attributes\":{\"renderers\":\"auto\",\"tooltips\":[[\"Title\",\"@title\"],[\"Year\",\"@release_year\"],[\"Women Dialogue\",\"@{proportion_of_dialogue}{%0.2f}\"]]}}],\"active_scroll\":{\"id\":\"p1129\"}}},\"left\":[{\"type\":\"object\",\"name\":\"LinearAxis\",\"id\":\"p1123\",\"attributes\":{\"ticker\":{\"type\":\"object\",\"name\":\"BasicTicker\",\"id\":\"p1124\",\"attributes\":{\"mantissas\":[1,2,5]}},\"formatter\":{\"type\":\"object\",\"name\":\"NumeralTickFormatter\",\"id\":\"p1147\",\"attributes\":{\"format\":\"0 %\"}},\"axis_label\":\"Amount of Dialogue Spoken By Women\",\"major_label_policy\":{\"type\":\"object\",\"name\":\"AllLabels\",\"id\":\"p1126\"}}}],\"below\":[{\"type\":\"object\",\"name\":\"LinearAxis\",\"id\":\"p1118\",\"attributes\":{\"ticker\":{\"type\":\"object\",\"name\":\"BasicTicker\",\"id\":\"p1119\",\"attributes\":{\"mantissas\":[1,2,5]}},\"formatter\":{\"type\":\"object\",\"name\":\"BasicTickFormatter\",\"id\":\"p1120\"},\"axis_label\":\"Film Release Year\",\"major_label_policy\":{\"type\":\"object\",\"name\":\"AllLabels\",\"id\":\"p1121\"}}}],\"center\":[{\"type\":\"object\",\"name\":\"Grid\",\"id\":\"p1122\",\"attributes\":{\"axis\":{\"id\":\"p1118\"}}},{\"type\":\"object\",\"name\":\"Grid\",\"id\":\"p1127\",\"attributes\":{\"dimension\":1,\"axis\":{\"id\":\"p1123\"}}}]}}]}};\n  const render_items = [{\"docid\":\"a20e79da-2ef1-49fc-8561-87b9d35e943e\",\"roots\":{\"p1104\":\"ed9a9ae8-9139-4315-b034-10c2b1870f84\"},\"root_ids\":[\"p1104\"]}];\n  root.Bokeh.embed.embed_items_notebook(docs_json, render_items);\n  }\n  if (root.Bokeh !== undefined) {\n    embed_document(root);\n  } else {\n    let attempts = 0;\n    const timer = setInterval(function(root) {\n      if (root.Bokeh !== undefined) {\n        clearInterval(timer);\n        embed_document(root);\n      } else {\n        attempts++;\n        if (attempts > 100) {\n          clearInterval(timer);\n          console.log(\"Bokeh: ERROR: Unable to run BokehJS code because BokehJS library is missing\");\n        }\n      }\n    }, 10, root)\n  }\n})(window);",
      "application/vnd.bokehjs_exec.v0+json": ""
     },
     "metadata": {
      "application/vnd.bokehjs_exec.v0+json": {
       "id": "p1104"
      }
     },
     "output_type": "display_data"
    }
   ],
   "source": [
    "#Make groupby into a new DataFrame\n",
    "dialogue_df = women_film_df.groupby(['title', 'release_year'])[['proportion_of_dialogue']].sum()\\\n",
    ".sort_values(by='proportion_of_dialogue', ascending=False).reset_index()\n",
    "\n",
    "# Set up the source data that will suppply the x,y columns and the film title hover text\n",
    "source = ColumnDataSource(dialogue_df)\n",
    "\n",
    "# Set the hover tool tip to the film title, release year, and proportion of dialogue\n",
    "\n",
    "TOOLTIPS = [(\"Title\", \"@title\"),\n",
    "            (\"Year\", \"@release_year\"),\n",
    "           (\"Women Dialogue\", \"@{proportion_of_dialogue}{%0.2f}\")]\n",
    "\n",
    "#Set up Bokeh plot with title, labels, \n",
    "bokeh_plot = figure(title=\"How Much Do Women Speak in Hollywood Films?\", x_axis_label = 'Film Release Year',\n",
    "                    y_axis_label = 'Amount of Dialogue Spoken By Women',x_range = [1930, 2018], y_range = [0, 1.01],\n",
    "                 tooltips=TOOLTIPS, width=800, height=550, active_scroll='wheel_zoom')\n",
    "\n",
    "# Create a red to blue color palette\n",
    "color_mapper = linear_cmap(field_name='proportion_of_dialogue', palette=RdBu[4], low=1.1, high=0)\n",
    "\n",
    "# Supply inidivudal points values\n",
    "bokeh_plot.circle(y='proportion_of_dialogue', x=jitter('release_year', width=.2),\n",
    "         size = 10,\n",
    "        line_color='black',\n",
    "        line_alpha=.4,\n",
    "         source=source,\n",
    "         color=color_mapper, alpha=.5)\n",
    "\n",
    "bokeh_plot.title.text_font_size='20pt'\n",
    "\n",
    "#Make Y axis percentages\n",
    "bokeh_plot.yaxis.formatter = NumeralTickFormatter(format='0 %')\n",
    "\n",
    "show(bokeh_plot)"
   ]
  }
 ],
 "metadata": {
  "kernelspec": {
   "display_name": "Python 3",
   "language": "python",
   "name": "python3"
  },
  "language_info": {
   "codemirror_mode": {
    "name": "ipython",
    "version": 3
   },
   "file_extension": ".py",
   "mimetype": "text/x-python",
   "name": "python",
   "nbconvert_exporter": "python",
   "pygments_lexer": "ipython3",
   "version": "3.9.6 (default, Aug 11 2023, 19:44:49) \n[Clang 15.0.0 (clang-1500.0.40.1)]"
  },
  "vscode": {
   "interpreter": {
    "hash": "31f2aee4e71d21fbe5cf8b01ff0e069b9275f58929596ceb00d14d90e3e16cd6"
   }
  }
 },
 "nbformat": 4,
 "nbformat_minor": 4
}
