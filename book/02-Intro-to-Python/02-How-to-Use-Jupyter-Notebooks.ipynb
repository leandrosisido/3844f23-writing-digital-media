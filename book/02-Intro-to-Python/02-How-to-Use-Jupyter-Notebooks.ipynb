{
 "cells": [
  {
   "cell_type": "markdown",
   "metadata": {},
   "source": [
    "# How to Use Jupyter Notebooks"
   ]
  },
  {
   "cell_type": "markdown",
   "metadata": {},
   "source": [
    "A [Jupyter notebook](https://jupyter.readthedocs.io/en/latest/install.html#jupyter-notebook-interface) is a document that can combine live programming code, text, images, and pretty displays of data all in the same place. This combination makes Jupyter notebooks clutch for exploring data as well as for learning and teaching.\n",
    "\n",
    "A Jupyter notebook has a special *.ipynb* file extension and can only be opened if you have the application JupyterLab or Jupyter Notebook installed and running. We are running those environments in VS Code, since we installed the app extensions in the [first unit](./../01-Installation-Workflow/00-Install-Python-and-VSCode.ipynb)."
   ]
  },
  {
   "cell_type": "markdown",
   "metadata": {},
   "source": [
    "## 1. Some Nice Features"
   ]
  },
  {
   "cell_type": "markdown",
   "metadata": {},
   "source": [
    "This document is a Jupyter notebook! Let's quickly demonstrate some of the features that make Jupyter notebooks useful."
   ]
  },
  {
   "cell_type": "markdown",
   "metadata": {},
   "source": [
    "### 1.1 Displaying data"
   ]
  },
  {
   "cell_type": "markdown",
   "metadata": {},
   "source": [
    "We can display and explore data in a readable and aesthetically-pleasing way.\n",
    "\n",
    "For example, here's a snippet of a CSV (Comma Separated Values) file with some data about films and character dialogue (sourced by [The Pudding](https://github.com/matthewfdaniels/scripts/). We'll be working with this data in a later lesson."
   ]
  },
  {
   "cell_type": "code",
   "execution_count": 4,
   "metadata": {},
   "outputs": [
    {
     "ename": "ModuleNotFoundError",
     "evalue": "No module named 'pandas'",
     "output_type": "error",
     "traceback": [
      "\u001b[0;31m---------------------------------------------------------------------------\u001b[0m",
      "\u001b[0;31mModuleNotFoundError\u001b[0m                       Traceback (most recent call last)",
      "Cell \u001b[0;32mIn[4], line 1\u001b[0m\n\u001b[0;32m----> 1\u001b[0m \u001b[39mimport\u001b[39;00m \u001b[39mpandas\u001b[39;00m \u001b[39mas\u001b[39;00m \u001b[39mpd\u001b[39;00m\n\u001b[1;32m      2\u001b[0m movie_data \u001b[39m=\u001b[39m pd\u001b[39m.\u001b[39mread_csv(\u001b[39m'\u001b[39m\u001b[39m./../data/Pudding/Pudding-Film-Dialogue-Clean.csv\u001b[39m\u001b[39m'\u001b[39m)\n\u001b[1;32m      3\u001b[0m movie_data\u001b[39m.\u001b[39mtail(\u001b[39m5\u001b[39m)\n",
      "\u001b[0;31mModuleNotFoundError\u001b[0m: No module named 'pandas'"
     ]
    }
   ],
   "source": [
    "import pandas as pd\n",
    "movie_data = pd.read_csv('./../data/Pudding/Pudding-Film-Dialogue-Clean.csv')\n",
    "movie_data.tail(5)"
   ]
  },
  {
   "cell_type": "markdown",
   "metadata": {},
   "source": [
    "### 1.2 Creating Data Visualizations "
   ]
  },
  {
   "cell_type": "markdown",
   "metadata": {},
   "source": [
    "We can create visualizations based on the above data in the very same document.\n",
    "\n",
    "In one line of code, we can create a plot of *The Pudding* films by year of their release."
   ]
  },
  {
   "cell_type": "code",
   "execution_count": 5,
   "metadata": {},
   "outputs": [
    {
     "ename": "NameError",
     "evalue": "name 'movie_data' is not defined",
     "output_type": "error",
     "traceback": [
      "\u001b[0;31m---------------------------------------------------------------------------\u001b[0m",
      "\u001b[0;31mNameError\u001b[0m                                 Traceback (most recent call last)",
      "Cell \u001b[0;32mIn[5], line 1\u001b[0m\n\u001b[0;32m----> 1\u001b[0m movie_data\u001b[39m.\u001b[39mgroupby(\u001b[39m'\u001b[39m\u001b[39mrelease_year\u001b[39m\u001b[39m'\u001b[39m)[\u001b[39m'\u001b[39m\u001b[39mtitle\u001b[39m\u001b[39m'\u001b[39m]\u001b[39m.\u001b[39mcount()\u001b[39m.\u001b[39mplot(title\u001b[39m=\u001b[39m\u001b[39m'\u001b[39m\u001b[39mFilms By Year\u001b[39m\u001b[39m'\u001b[39m)\n",
      "\u001b[0;31mNameError\u001b[0m: name 'movie_data' is not defined"
     ]
    }
   ],
   "source": [
    "movie_data.groupby('release_year')['title'].count().plot(title='Films By Year')"
   ]
  },
  {
   "cell_type": "markdown",
   "metadata": {},
   "source": [
    "### 1.3 Writing with text, images, links, and code"
   ]
  },
  {
   "cell_type": "markdown",
   "metadata": {},
   "source": [
    "In notebooks, we write out and think through our data process by combining text, images, links, and code—***writing and digital media***, yo!\n",
    "\n",
    "We'll learn how to combine these media in the section [Code vs Markdown Cells](code-vs-markdown-cells) below. But, first, let's set up that discussion by looking at it in action with some data about *Beauty and the Beast*."
   ]
  },
  {
   "cell_type": "code",
   "execution_count": 6,
   "metadata": {},
   "outputs": [
    {
     "ename": "NameError",
     "evalue": "name 'movie_data' is not defined",
     "output_type": "error",
     "traceback": [
      "\u001b[0;31m---------------------------------------------------------------------------\u001b[0m",
      "\u001b[0;31mNameError\u001b[0m                                 Traceback (most recent call last)",
      "Cell \u001b[0;32mIn[6], line 1\u001b[0m\n\u001b[0;32m----> 1\u001b[0m movie_data[movie_data[\u001b[39m'\u001b[39m\u001b[39mtitle\u001b[39m\u001b[39m'\u001b[39m] \u001b[39m==\u001b[39m\u001b[39m'\u001b[39m\u001b[39mBeauty and the Beast\u001b[39m\u001b[39m'\u001b[39m]\n",
      "\u001b[0;31mNameError\u001b[0m: name 'movie_data' is not defined"
     ]
    }
   ],
   "source": [
    "movie_data[movie_data['title'] =='Beauty and the Beast']"
   ]
  },
  {
   "cell_type": "markdown",
   "metadata": {},
   "source": [
    "Now here's an image of *Beauty and the Beast* characters.\n",
    "\n",
    "![Beauty and the Beast characters image](https://upload.wikimedia.org/wikipedia/en/b/b6/BeautyBeastCharacters.jpg)"
   ]
  },
  {
   "cell_type": "markdown",
   "metadata": {},
   "source": [
    "## 2. Opening and Using a Jupyter Notebook"
   ]
  },
  {
   "cell_type": "markdown",
   "metadata": {},
   "source": [
    "Well, you're here, right?! :-)\n",
    "\n",
    "There are lots of ways to open a Jupyter notebook file (.ipynb). In this class, we are using VS Code, which uses the main Jupyter extension. I have found that this method, which is quite new, is also the easiest way for beginners to get started.\n",
    "\n",
    "Thankfully, that makes this section much shorter than other methods. But, there are a few notable steps.\n",
    "\n",
    "When you open a `.ipynb` file in VS Code, it will simply open like any other file. But, to start editing and using it, be aware of that NB files feature 2 types of cells: (1) *code* cells to work with the data, and (2) *markdown* cells to document your steps and ideas.\n",
    "\n",
    "How\n",
    "    1. Code cells can be run by clicking the play button ▶️ on the left side of the cell.\n",
    "    2. Markdown cells are run by clicking on the checkmark &#x2713; positioned at the top right side of the cell.\n",
    "        * To edit a markdown cell, click on the pencil &#9998; button that appears in the same position of the checkmark &#x2713;"
   ]
  },
  {
   "cell_type": "markdown",
   "metadata": {},
   "source": [
    "### 2.1 Interacting with code cells"
   ]
  },
  {
   "cell_type": "markdown",
   "metadata": {},
   "source": [
    "Code cells can be run by clicking the play button ▶️ on the left side of the cell."
   ]
  },
  {
   "cell_type": "markdown",
   "metadata": {},
   "source": [
    "### 2.2 Interacting with markdown cells"
   ]
  },
  {
   "cell_type": "markdown",
   "metadata": {},
   "source": [
    "Markdown cells are run by clicking on the checkmark &#x2713; positioned at the top right side of the cell. \n",
    "\n",
    "To edit a markdown cell, click on the pencil &#9998; button that appears in the same position of the checkmark &#x2713;.\n",
    "\n",
    "\n",
    "#### What's Markdown?\n",
    "\n",
    "Markdown is a very very simple type of markup language. Here's a primer on some common syntax to markup your text:\n",
    "\n",
    "<table class=\"table table-bordered\">\n",
    "  <thead class=\"thead-light\">\n",
    "    <tr>\n",
    "      <th>Element</th>\n",
    "      <th>Markdown Syntax</th>\n",
    "    </tr>\n",
    "  </thead>\n",
    "  <tbody>\n",
    "    <tr>\n",
    "      <td><a href=\"/basic-syntax/#headings\">Heading</a></td>\n",
    "      <td><code># H1<br>\n",
    "          ## H2<br>\n",
    "          ### H3</code></td>\n",
    "    </tr>\n",
    "    <tr>\n",
    "      <td><a href=\"/basic-syntax/#bold\">Bold</a></td>\n",
    "      <td><code>**bold text**</code></td>\n",
    "    </tr>\n",
    "    <tr>\n",
    "      <td><a href=\"/basic-syntax/#italic\">Italic</a></td>\n",
    "      <td><code>*italicized text*</code></td>\n",
    "    </tr>\n",
    "    <tr>\n",
    "      <td><a href=\"/basic-syntax/#blockquotes-1\">Blockquote</a></td>\n",
    "      <td><code>&gt; blockquote</code></td>\n",
    "    </tr>\n",
    "    <tr>\n",
    "      <td><a href=\"/basic-syntax/#ordered-lists\">Ordered List</a></td>\n",
    "      <td><code>\n",
    "        1. First item<br>\n",
    "        2. Second item<br>\n",
    "        3. Third item<br>\n",
    "      </code></td>\n",
    "    </tr>\n",
    "    <tr>\n",
    "      <td><a href=\"/basic-syntax/#unordered-lists\">Unordered List</a></td>\n",
    "      <td>\n",
    "        <code>\n",
    "          - First item<br>\n",
    "          - Second item<br>\n",
    "          - Third item<br>\n",
    "        </code>\n",
    "      </td>\n",
    "    </tr>\n",
    "    <tr>\n",
    "      <td><a href=\"/basic-syntax/#links\">Link</a></td>\n",
    "      <td><code>[title](https://www.example.com)</code></td>\n",
    "    </tr>\n",
    "    <tr>\n",
    "      <td><a href=\"/basic-syntax/#images-1\">Image</a></td>\n",
    "      <td><code>![alt text](image.jpg)</code></td>\n",
    "    </tr>\n",
    "  </tbody>\n",
    "</table>"
   ]
  },
  {
   "cell_type": "markdown",
   "metadata": {},
   "source": [
    "Some resources:\n",
    "\n",
    "- [Extended Markdown syntax \"cheatsheet\"](https://www.markdownguide.org/cheat-sheet/#extended-syntax)\n",
    "- [Editing Markdown in VS Code](https://code.visualstudio.com/docs/languages/markdown#_editing-markdown)."
   ]
  },
  {
   "cell_type": "markdown",
   "metadata": {},
   "source": [
    "## 3. How to Save Your Notebook"
   ]
  },
  {
   "cell_type": "markdown",
   "metadata": {},
   "source": [
    "Simple. \n",
    "\n",
    "If you want to save your notebook, press \n",
    "\n",
    "- **Mac**: `Command ⌘` + `S`\n",
    "- **Windows**: `Windows Key` + `S`"
   ]
  }
 ],
 "metadata": {
  "kernelspec": {
   "display_name": "Python 3",
   "language": "python",
   "name": "python3"
  },
  "language_info": {
   "codemirror_mode": {
    "name": "ipython",
    "version": 3
   },
   "file_extension": ".py",
   "mimetype": "text/x-python",
   "name": "python",
   "nbconvert_exporter": "python",
   "pygments_lexer": "ipython3",
   "version": "3.9.6 (default, Aug 11 2023, 19:44:49) \n[Clang 15.0.0 (clang-1500.0.40.1)]"
  },
  "vscode": {
   "interpreter": {
    "hash": "31f2aee4e71d21fbe5cf8b01ff0e069b9275f58929596ceb00d14d90e3e16cd6"
   }
  }
 },
 "nbformat": 4,
 "nbformat_minor": 4
}
