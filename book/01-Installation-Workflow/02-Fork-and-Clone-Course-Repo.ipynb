{
 "cells": [
  {
   "cell_type": "markdown",
   "metadata": {},
   "source": [
    "# How to Clone the Course Repository"
   ]
  },
  {
   "cell_type": "markdown",
   "metadata": {},
   "source": [
    "It's time! It's time to make a copy of this repo by completing the following steps:\n",
    "\n",
    "1. Fork my repo to your Github profile\n",
    "2. Clone your forked copy to your local computer\n",
    "3. Open your local copy in VS Code"
   ]
  },
  {
   "cell_type": "markdown",
   "metadata": {},
   "source": [
    "## 1. Fork My Repo to Your Account"
   ]
  },
  {
   "cell_type": "markdown",
   "metadata": {},
   "source": [
    "What's a fork? It's a copy of an existing repository for the purposes of creating an offshoot from the original version.\n",
    "\n",
    "Here's how to easily do it via Github.com's interface:\n",
    "\n",
    "1. Go to this repo in my profile: \n",
    "2. Click on the Fork\" button <img src=\"../images/installation/github-fork-button.png\" width=100px>\n",
    "3. Fork it to your profile/account.\n",
    "\n",
    "Boom! That's it! Now you have your own copy."
   ]
  },
  {
   "cell_type": "markdown",
   "metadata": {},
   "source": [
    "## 2. Clone the Forked Repo to Your Local Computer"
   ]
  },
  {
   "cell_type": "markdown",
   "metadata": {},
   "source": [
    "When you complete the forking step, \n",
    "\n",
    "1. Go to the main page of the repo under your account\n",
    "2. Click on the green \"Clone\" button\n",
    "3. Select \"Open in Github Desktop\". The GHD app should open and prompt you to consider where to save your local cloned copy.\n",
    "4. Choose a meaningful place to save your local repo. For example, do NOT save it to your Desktop. Instead, consider creating a dedicated class folder and save the repo inside of that folder.\n",
    "5. Once you choose your folder, finish the cloning process."
   ]
  },
  {
   "cell_type": "markdown",
   "metadata": {},
   "source": [
    "## 3. (Re)Open the repo in VS Code"
   ]
  },
  {
   "cell_type": "markdown",
   "metadata": {},
   "source": [
    "1. Open the repo (folder) in VS Code.\n",
    "2. Test to see if your git is tracking changes by adding a new file to the **very-interesting-folder**. Add the file in VS Code by selecting the folder, right-clicking on the folder and select \"**New File**\", then name the file **testing.txt**\n",
    "3. Return to the Github Desktop app and see if the file's there. GH Desktop should have the file listed in the viewer pane on the left side. \n",
    "4. Commit and Push those changes to your forked repo under your Github account."
   ]
  }
 ],
 "metadata": {
  "kernelspec": {
   "display_name": "Python 3",
   "language": "python",
   "name": "python3"
  },
  "language_info": {
   "codemirror_mode": {
    "name": "ipython",
    "version": 3
   },
   "file_extension": ".py",
   "mimetype": "text/x-python",
   "name": "python",
   "nbconvert_exporter": "python",
   "pygments_lexer": "ipython3",
   "version": "3.9.6 (default, Aug 11 2023, 19:44:49) \n[Clang 15.0.0 (clang-1500.0.40.1)]"
  },
  "vscode": {
   "interpreter": {
    "hash": "31f2aee4e71d21fbe5cf8b01ff0e069b9275f58929596ceb00d14d90e3e16cd6"
   }
  }
 },
 "nbformat": 4,
 "nbformat_minor": 4
}
