{
 "cells": [
  {
   "cell_type": "markdown",
   "metadata": {},
   "source": [
    "# Common Python Errors"
   ]
  },
  {
   "cell_type": "markdown",
   "metadata": {},
   "source": [
    "Below are a few common error messages that you will likely encounter as you first learn Python and long afterward. No matter how much you know, you will always encounter errors!\n",
    "\n",
    "To learn more about these and other Python errors, see [Python's official documentation](https://docs.python.org/3/library/exceptions.html#bltin-exceptions)."
   ]
  },
  {
   "cell_type": "markdown",
   "metadata": {},
   "source": [
    "## SyntaxError"
   ]
  },
  {
   "cell_type": "markdown",
   "metadata": {},
   "source": [
    "A `SyntaxError` means that something has gone wrong with your Python syntax, aka the arrangement of words and punctuation in your code. Often, as below, this error will result from forgetting a closing quotation mark in a string or from forgetting a colon in a `for` loop. "
   ]
  },
  {
   "cell_type": "code",
   "execution_count": 1,
   "metadata": {},
   "outputs": [
    {
     "name": "stdout",
     "output_type": "stream",
     "text": [
      "Hope this goes off without a hitch!\n"
     ]
    }
   ],
   "source": [
    "print(\"Hope this goes off without a hitch!\")"
   ]
  },
  {
   "cell_type": "code",
   "execution_count": 3,
   "metadata": {},
   "outputs": [
    {
     "name": "stdout",
     "output_type": "stream",
     "text": [
      "1\n",
      "2\n",
      "3\n"
     ]
    }
   ],
   "source": [
    "items = [1,2,3]\n",
    "for item in items:\n",
    "    print(item)"
   ]
  },
  {
   "cell_type": "markdown",
   "metadata": {},
   "source": [
    "The error message will often include a caret or arrow that points to the problematic part of the code:"
   ]
  },
  {
   "cell_type": "markdown",
   "metadata": {},
   "source": [
    "## FileNotFound Error"
   ]
  },
  {
   "cell_type": "markdown",
   "metadata": {},
   "source": [
    "A `FileNotFoundError` means that whatever file name you've typed in cannot be located. Often, this error will result from simple typos in the file name or from not pointing to the correct directory which contains the file. Double check your spelling and where your desired file is located relative to your Python code."
   ]
  },
  {
   "cell_type": "code",
   "execution_count": 5,
   "metadata": {},
   "outputs": [
    {
     "data": {
      "text/plain": [
       "'\\nAfrican American\\n\\nWhite\\n\\nAsian American\\nWhite\\nAfrican American\\n\\n\\n\\n\\nWhite\\nWhite\\nWhite\\n\\nWhite\\nWhite\\nHispanic (White)\\nHispanic (White)\\nWhite\\nMulti racial\\nWhite\\nWhite\\n\\nWhite\\n\\nWhite\\nWhite\\nWhite\\nAfrican American\\n\\nWhite\\nWhite\\nWhite\\nWhite\\nAfrican American\\nHispanic (Latino)\\n\\nWhite\\nWhite\\n\\nWhite\\nWhite\\nMulti racial\\nWhite\\nWhite\\n\\nAfrican American\\nWhite\\nWhite\\nAfrican American\\nWhite\\nWhite\\nWhite\\nIndian\\nWhite\\nMulti racial\\nWhite\\n\\nWhite\\nWhite\\nWhite\\nWhite\\nHispanic (Latin American)\\nMulti racial\\nWhite\\nWhite\\nWhite\\n\\nWhite\\nWhite\\nWhite\\nMulti racial\\n\\nWhite\\n\\n\\nWhite\\n\\nAfrican American\\n\\n\\n\\n\\nWhite\\n\\nWhite\\nWhite\\nWhite\\nWhite\\nWhite\\n\\n\\nWhite\\n\\nWhite\\nWhite\\n\\n\\nWhite\\nWhite\\nAfrican American\\nAfrican American\\nWhite\\nWhite\\nMiddle Eastern\\nMediterranean\\n\\nWhite\\n\\nWhite\\n\\nWhite\\n\\nWhite\\nWhite\\nWhite\\n\\n\\nCaribbean\\nAfrican\\n\\nHispanic (Latino)\\nWhite\\n\\n\\n\\nHispanic (Latin American)\\nHispanic (Latin American)\\nHispanic (Latin American)\\n\\nWhite\\nWhite\\nWhite\\nMiddle Eastern\\nMiddle Eastern\\nMulti racial\\nWhite\\n\\nWhite\\nWhite\\n\\n\\n\\nWhite\\nHispanic (Latino)\\n\\nWhite\\n\\n\\nAfrican\\nWhite\\nWhite\\n\\n\\nWhite\\nWhite\\nWhite\\nHispanic (White)\\nMiddle Eastern\\nAfrican\\nWhite\\nWhite\\n\\n\\n\\nWhite\\nWhite\\nWhite\\nWhite\\n\\nWhite\\n\\nWhite\\nWhite\\nWhite\\nMulti racial\\nWhite\\nAsian American\\n\\n\\n\\nWhite\\nWhite\\nHispanic (Latin American)\\nHispanic (White)\\nWhite\\nWhite\\n\\n\\n\\n\\nWhite\\n\\nHispanic (Latin American)\\nMiddle Eastern (White)\\nWhite\\nWhite\\nWhite\\nWhite\\n\\nWhite\\nWhite\\nWhite\\nWhite\\n\\n\\nWhite\\nWhite\\nWhite\\nWhite\\nWhite\\nAfrican American\\nWhite\\nWhite\\nHispanic (Latin American)\\nAfrican American\\nWhite\\nWhite\\nIndian\\nWhite\\nNative American\\nAfrican American\\nAfrican American\\nWhite\\n\\n\\nWhite\\nWhite\\n\\n\\nWhite\\n\\nHispanic (White)\\nWhite\\nWhite\\nAfrican American\\n\\nMulti racial\\nWhite\\nWhite\\nWhite\\nWhite\\nWhite\\nAsian American\\nHispanic (Latino)\\nWhite\\nWhite\\nWhite\\nWhite\\nWhite\\nWhite\\nWhite\\nWhite\\nWhite\\nWhite\\nWhite\\nWhite\\nWhite\\nWhite\\n\\nWhite\\nWhite\\nWhite\\nWhite\\n\\nMiddle Eastern\\n\\nHispanic (White)\\n\\nWhite\\nWhite\\nWhite\\nWhite\\nWhite\\nWhite\\nWhite\\nWhite\\nWhite\\nWhite\\n\\n\\nWhite\\n\\nAfrican\\nWhite\\n\\nWhite\\n\\nWhite\\nMulti racial\\nWhite\\n\\nWhite\\nWhite\\nWhite\\nWhite\\nWhite\\nWhite\\nWhite\\nWhite\\nNative American\\nMulti racial\\nMiddle Eastern\\nAfrican American\\nWhite\\nMulti racial\\nWhite\\nHispanic (Latin American)\\n\\n\\n\\nWhite\\n\\nWhite\\nWhite\\nMiddle Eastern (White)\\nMiddle Eastern (White)\\nWhite\\nWhite\\nWhite\\nWhite\\nAsian\\nHispanic (Latino)\\nWhite\\n\\nAfrican American\\nWhite\\nWhite\\nAfrican American\\nWhite\\nWhite\\nMiddle Eastern\\nWhite\\nMulti racial\\n\\n\\nHispanic (Latino)\\n\\nWhite\\nWhite\\nEurasian\\nWhite\\n\\nWhite\\nWhite\\nWhite\\nWhite\\nWhite\\nWhite\\nWhite\\n\\nWhite\\nWhite\\nWhite\\n\\nAfrican American\\nWhite\\n\\nAfrican\\nWhite\\nWhite\\nWhite\\nWhite\\nWhite\\nWhite\\nAfrican American\\nWhite\\nWhite\\nWhite\\nWhite\\n\\nWhite\\nWhite\\nWhite\\n\\nAsian\\nWhite\\n\\nWhite\\nWhite\\nWhite\\nWhite\\n\\n\\n\\nWhite\\nWhite\\nWhite\\nMiddle Eastern\\n\\nMulti racial\\n\\nWhite\\nWhite\\nWhite\\nWhite\\nWhite\\n\\nWhite\\nWhite\\nWhite\\n\\nWhite\\nWhite\\nWhite\\n\\n\\nCaribbean\\nWhite\\nMulti racial\\n\\nWhite\\nMiddle Eastern (White)\\n\\n\\nWhite\\n\\n\\nWhite\\n\\n\\nWhite\\nWhite\\nWhite\\nMiddle Eastern\\nAfrican American\\nWhite\\nWhite\\nHispanic (Latin American)\\nWhite\\nWhite\\n\\n\\nWhite\\nWhite\\nWhite\\n\\nWhite\\nWhite\\nWhite\\nWhite\\nAfrican American\\n\\nWhite\\nWhite\\nWhite\\nAfrican American\\n\\nWhite\\nWhite\\nWhite\\nAfrican American\\nWhite\\nWhite\\nWhite\\nWhite\\nWhite\\nWhite\\n\\n\\n\\nWhite\\nHispanic (Latin American)\\nMiddle Eastern\\n\\nWhite\\nWhite\\nWhite\\nWhite\\nWhite\\n\\nWhite\\nWhite\\nWhite\\nWhite\\n\\nHispanic (Latina)\\n\\nAfrican American\\nWhite\\nWhite\\nWhite\\nWhite\\n\\nWhite\\nWhite\\n\\n\\n\\nWhite\\n\\nAfrican\\nWhite\\nMiddle Eastern (White)\\n\\n\\nWhite\\nNative American\\nWhite\\nWhite\\nWhite\\nWhite\\nWhite\\n\\nWhite\\nWhite\\n\\nWhite\\nWhite\\nWhite\\nWhite\\nWhite\\n\\nWhite\\nWhite\\nWhite\\nWhite\\nAfrican American\\nWhite\\nWhite\\n\\n\\n\\nWhite\\nWhite\\nWhite\\n\\n\\nWhite\\n\\nWhite\\nWhite\\n\\nWhite\\n\\nWhite\\nMulti racial\\nMulti racial\\nWhite\\nWhite\\n\\n\\nWhite\\nAfrican American\\nWhite\\nWhite\\n\\nMulti racial\\nMulti racial\\nWhite\\n\\nAsian\\nWhite\\nWhite\\n\\n\\nWhite\\nWhite\\nWhite\\nWhite\\nWhite\\n\\nWhite\\nWhite\\n\\nAfrican American\\n\\nWhite\\nWhite\\nAfrican\\n\\n\\nWhite\\nWhite\\nWhite\\nWhite\\nWhite\\nWhite\\nWhite\\nAfrican American\\n\\nWhite\\nWhite\\nAfrican American\\nMiddle Eastern (White)\\n\\n\\nWhite\\nWhite\\n\\nAfrican American\\nWhite\\n\\nWhite\\nWhite\\n\\nWhite\\nWhite\\nAfrican American\\nMiddle Eastern (White)\\nWhite\\nMulti racial\\nMiddle Eastern (White)\\nWhite\\nMulti racial\\nMulti racial\\nAsian\\nAsian\\nAfrican\\nWhite\\n\\nWhite\\n\\n\\nWhite\\nWhite\\nWhite\\nWhite\\nWhite\\nAfrican American\\n\\nWhite\\nWhite\\n\\nWhite\\nMiddle Eastern\\nMiddle Eastern (White)\\nWhite\\nWhite\\nHispanic (Latin American)\\nWhite\\nNative American\\nWhite\\nMulti racial\\nWhite\\nWhite\\n\\n\\nWhite\\n\\nWhite\\nWhite\\nWhite\\nWhite\\nMiddle Eastern (White)\\nMiddle Eastern (White)\\nWhite\\nWhite\\nWhite\\nWhite\\n\\nAfrican American\\nWhite\\n\\nWhite\\nWhite\\nWhite\\n\\n\\nWhite\\nWhite\\n\\nAfrican American\\n\\nWhite\\nWhite\\nWhite\\nWhite\\nWhite\\nWhite\\nWhite\\n\\n\\n\\n\\nMiddle Eastern (White)\\nWhite\\nWhite\\nWhite\\nWhite\\nWhite\\nMiddle Eastern (White)\\nWhite\\nWhite\\nMulti racial\\n\\nWhite\\n\\n\\nWhite\\nWhite\\nWhite\\nWhite\\nWhite\\nWhite\\n\\nWhite\\n\\nWhite\\nWhite\\nWhite\\nWhite\\nWhite\\nWhite\\nWhite\\nWhite\\n\\n\\n\\nWhite\\nWhite\\nWhite\\nWhite\\n\\n\\nWhite\\n\\nWhite\\nWhite\\nWhite\\nWhite\\nWhite\\nWhite\\nWhite\\nWhite\\nHispanic (Latin American)\\nHispanic (Latin American)\\nWhite\\nWhite\\nWhite\\nWhite\\nWhite\\n\\n\\nMulti racial\\nWhite\\n\\n\\nAfrican American\\n\\nWhite\\nWhite\\nWhite\\nAfrican\\n\\n\\nWhite\\nWhite\\nWhite\\nWhite\\nWhite\\nWhite\\nWhite\\nWhite\\nWhite\\nWhite\\nWhite\\nWhite\\n\\n'"
      ]
     },
     "execution_count": 5,
     "metadata": {},
     "output_type": "execute_result"
    }
   ],
   "source": [
    "open('/Users/leandrosisido/Classes/ENGL3844/3844f23-writing-digital-media/book/data/02-python/biopics_race.txt').read()"
   ]
  },
  {
   "cell_type": "markdown",
   "metadata": {},
   "source": [
    "## TypeError"
   ]
  },
  {
   "cell_type": "markdown",
   "metadata": {},
   "source": [
    "A `TypeError` means that you're trying to perform a function or operation on something that is not the correct data type for that function or operation. For example, if you try to divide by a variable that is a string, rather than an integer or float (as in the example below), a `TypeError` will be thrown. Double check your data types with the `type()` function."
   ]
  },
  {
   "cell_type": "code",
   "execution_count": 8,
   "metadata": {},
   "outputs": [],
   "source": [
    "favorite_artist = 4"
   ]
  },
  {
   "cell_type": "code",
   "execution_count": 9,
   "metadata": {},
   "outputs": [
    {
     "data": {
      "text/plain": [
       "2.0"
      ]
     },
     "execution_count": 9,
     "metadata": {},
     "output_type": "execute_result"
    }
   ],
   "source": [
    "favorite_artist / 2"
   ]
  },
  {
   "cell_type": "code",
   "execution_count": 10,
   "metadata": {},
   "outputs": [
    {
     "data": {
      "text/plain": [
       "int"
      ]
     },
     "execution_count": 10,
     "metadata": {},
     "output_type": "execute_result"
    }
   ],
   "source": [
    "type(favorite_artist)"
   ]
  },
  {
   "cell_type": "markdown",
   "metadata": {},
   "source": [
    "## NameError"
   ]
  },
  {
   "cell_type": "markdown",
   "metadata": {},
   "source": [
    "A `NameError` means that the variable name that you're using cannot be found. Often, this error results from forgetting to run the cell that defines your variable or from misspelling the name of your variable, as below. Check your spelling and make sure you've run all necessary cells."
   ]
  },
  {
   "cell_type": "code",
   "execution_count": 11,
   "metadata": {},
   "outputs": [],
   "source": [
    "favorite_artist = \"Beyoncé\""
   ]
  },
  {
   "cell_type": "code",
   "execution_count": 12,
   "metadata": {},
   "outputs": [
    {
     "data": {
      "text/plain": [
       "'Beyoncé'"
      ]
     },
     "execution_count": 12,
     "metadata": {},
     "output_type": "execute_result"
    }
   ],
   "source": [
    "favorite_artist"
   ]
  },
  {
   "cell_type": "markdown",
   "metadata": {},
   "source": [
    "## AttributeError"
   ]
  },
  {
   "cell_type": "markdown",
   "metadata": {},
   "source": [
    "An `AttributeError` means that you're trying to access something from an object that that object doesn't possess or do something with an object that that object cannot do. For example, to transform the variable `favorite_artist` (which contains the string \"Beyoncé\") from title case to uppercase, we can run `favorite_arist.upper()` because `.upper()` is a built-in string method. But if we forget the name of that string method and instead type `.uppercase()`, which is not an existing string method, then an `AttributeError` will be raised."
   ]
  },
  {
   "cell_type": "code",
   "execution_count": 13,
   "metadata": {},
   "outputs": [
    {
     "data": {
      "text/plain": [
       "'BEYONCÉ'"
      ]
     },
     "execution_count": 13,
     "metadata": {},
     "output_type": "execute_result"
    }
   ],
   "source": [
    "favorite_artist.upper()"
   ]
  },
  {
   "cell_type": "code",
   "execution_count": 15,
   "metadata": {},
   "outputs": [
    {
     "data": {
      "text/plain": [
       "'BEYONCÉ'"
      ]
     },
     "execution_count": 15,
     "metadata": {},
     "output_type": "execute_result"
    }
   ],
   "source": [
    "favorite_artist.upper()"
   ]
  }
 ],
 "metadata": {
  "kernelspec": {
   "display_name": "Python 3",
   "language": "python",
   "name": "python3"
  },
  "language_info": {
   "codemirror_mode": {
    "name": "ipython",
    "version": 3
   },
   "file_extension": ".py",
   "mimetype": "text/x-python",
   "name": "python",
   "nbconvert_exporter": "python",
   "pygments_lexer": "ipython3",
   "version": "3.9.6"
  },
  "vscode": {
   "interpreter": {
    "hash": "31f2aee4e71d21fbe5cf8b01ff0e069b9275f58929596ceb00d14d90e3e16cd6"
   }
  }
 },
 "nbformat": 4,
 "nbformat_minor": 4
}
