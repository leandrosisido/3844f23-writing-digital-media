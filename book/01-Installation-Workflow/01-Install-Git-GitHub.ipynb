{
 "cells": [
  {
   "cell_type": "markdown",
   "metadata": {},
   "source": [
    "# Git and GitHub"
   ]
  },
  {
   "cell_type": "markdown",
   "metadata": {},
   "source": [
    "## 1. Git/Github Overview"
   ]
  },
  {
   "cell_type": "markdown",
   "metadata": {},
   "source": [
    "### 1.1 What is Git? \n",
    "\n",
    "Git is a version control system, which helps you keep track of the changes that you make in a project. It's a bit like Google Docs or MS Word's Track Changes, except it's typically used for code."
   ]
  },
  {
   "cell_type": "markdown",
   "metadata": {},
   "source": [
    "### 1.2 Why is Git Useful? \n",
    "\n",
    "Even though Git is mostly used for code, it's useful to think about Git in relationship to writing projects, which you might be more familiar with.\n",
    "\n",
    "Let's say you're halfway through writing an essay when suddenly you come up with a brilliant idea for a different opening paragraph. Maybe you're tempted to delete the opening paragraph that you've already written and start a new one, but you're scared that the new paragraph won't be quite as brilliant as it seems in your head.\n",
    "\n",
    "With a version control system like Git, you would be able to save the current version of the essay, create another version of the essay with the seemingly brilliant new opening paragraph, and compare them. If you ended up liking the version with the new opening paragraph better, you could easily merge it into the main version of the essay. Even if you changed your mind the next day, you could still revert back to the version with the original opening paragraph. All the changes and updates would be carefully tracked and easily navigable.\n",
    "\n",
    "These are some of the things that make Git so useful, especially when you start working on bigger projects and complicated code."
   ]
  },
  {
   "cell_type": "markdown",
   "metadata": {},
   "source": [
    "### 1.3 What is GitHub? \n",
    "\n",
    "GitHub is a website/social network that's built on top of the Git version control software. It allows you to store and easily publish projects. GitHub has become a primary place for people to publish datasets and share code. For example, The Pudding's film dialogue data is published [on GitHub](https://github.com/matthewfdaniels/scripts/)!"
   ]
  },
  {
   "cell_type": "markdown",
   "metadata": {},
   "source": [
    "### 1.4 Negative Critiques of GitHub"
   ]
  },
  {
   "cell_type": "markdown",
   "metadata": {},
   "source": [
    "<a href=\"https://www.theatlantic.com/technology/archive/2020/01/ice-contract-github-sparks-developer-protests/604339/\" ><img src=\"../images/GitHub-ICE-protest.png\" style=\"float:left;margin-right:1.5rem;width:500px\" ></a >\n",
    "\n",
    "It's also important to foreground some recent backlash against GitHub regarding their decision to renew a contract with U.S. Immigrations and Customs Enforcement (ICE). This decision has motivated some employees, developers, and GitHub users to protest and/or boycott the platform.\n",
    "\n",
    "You can read more about the controversy in [\"The Schism at the Heart of the Open-Source Movement\"](https://www.theatlantic.com/technology/archive/2020/01/ice-contract-github-sparks-developer-protests/604339/) and [Dear GitHub](https://github.com/drop-ice/dear-github-2.0/blob/master/README.md)."
   ]
  },
  {
   "cell_type": "markdown",
   "metadata": {},
   "source": [
    "### 1.5 Anatomy of a GitHub Page"
   ]
  },
  {
   "cell_type": "markdown",
   "metadata": {},
   "source": [
    "<img src=\"../images/GitHub-Anatomy.png\" width=80% >"
   ]
  },
  {
   "cell_type": "markdown",
   "metadata": {},
   "source": [
    "## 2. Install Git"
   ]
  },
  {
   "cell_type": "markdown",
   "metadata": {},
   "source": [
    "To use Git, you first need to install Git. Instructions for [installing Git can be found here](https://git-scm.com/book/en/v2/Getting-Started-Installing-Git).\n",
    "\n",
    "To install Git on a Windows computer, you need to install something called Git for Windows (which comes with something called Git Bash). The Digital Humanities Research Institute offers [helpful step-by-step instructions](https://github.com/DHRI-Curriculum/install/blob/v2.0/guides/git.md#windows) here."
   ]
  },
  {
   "cell_type": "code",
   "execution_count": 18,
   "metadata": {
    "tags": [
     "command_line"
    ]
   },
   "outputs": [
    {
     "name": "stdout",
     "output_type": "stream",
     "text": [
      "git version 2.21.1 (Apple Git-122.3)\n"
     ]
    }
   ],
   "source": [
    "!git --version"
   ]
  },
  {
   "cell_type": "markdown",
   "metadata": {},
   "source": [
    "## 3. Install Github Desktop"
   ]
  },
  {
   "cell_type": "markdown",
   "metadata": {},
   "source": [
    "GH Desktop is a nice GUI for git/Github technology. Github Desktop will allow us all to share our work with each other via this book which is a code repository.\n",
    "\n",
    "1. Go to [Github's installation page for Desktop](https://desktop.github.com/). \n",
    "2. Click download, since it should know which OS you're using, and \n",
    "3. Follow the instructions."
   ]
  },
  {
   "cell_type": "markdown",
   "metadata": {},
   "source": [
    "## 4. Download a GitHub Repository"
   ]
  },
  {
   "cell_type": "markdown",
   "metadata": {},
   "source": [
    "To learn how to start working with a GitHub repository, proceed to [02-Fork-and-Clone-Course-Repo](./02-Fork-and-Clone-Course-Repo.ipynb)"
   ]
  }
 ],
 "metadata": {
  "kernelspec": {
   "display_name": "Python 3",
   "language": "python",
   "name": "python3"
  },
  "language_info": {
   "codemirror_mode": {
    "name": "ipython",
    "version": 3
   },
   "file_extension": ".py",
   "mimetype": "text/x-python",
   "name": "python",
   "nbconvert_exporter": "python",
   "pygments_lexer": "ipython3",
   "version": "3.9.6 (default, Aug 11 2023, 19:44:49) \n[Clang 15.0.0 (clang-1500.0.40.1)]"
  },
  "vscode": {
   "interpreter": {
    "hash": "31f2aee4e71d21fbe5cf8b01ff0e069b9275f58929596ceb00d14d90e3e16cd6"
   }
  }
 },
 "nbformat": 4,
 "nbformat_minor": 4
}
