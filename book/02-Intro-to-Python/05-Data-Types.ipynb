{
 "cells": [
  {
   "cell_type": "markdown",
   "metadata": {},
   "source": [
    "# 5. Data Types"
   ]
  },
  {
   "cell_type": "markdown",
   "metadata": {},
   "source": [
    "There are four essential kinds of Python data with different powers and capabilities:"
   ]
  },
  {
   "cell_type": "markdown",
   "metadata": {},
   "source": [
    "- Strings (Text)\n",
    "- Integers (Whole Numbers)\n",
    "- Floats (Decimal Numbers)\n",
    "- Booleans (True/False)"
   ]
  },
  {
   "cell_type": "markdown",
   "metadata": {},
   "source": [
    "<img src=\"https://hips.hearstapps.com/digitalspyuk.cdnds.net/16/08/1456483171-pokemon2.jpg?resize=768:*\" style=\"width:100px;float:left;margin-right:1rem; border-radius:9px\"> They're sort of like starter pack Pokémon!"
   ]
  },
  {
   "cell_type": "markdown",
   "metadata": {},
   "source": [
    "## 5.1 Spotting the Difference Between Data Types"
   ]
  },
  {
   "cell_type": "markdown",
   "metadata": {},
   "source": [
    "Take a look at the variables `filepath_of_text` and `number_of_desired_word` in the word count code below.\n",
    "\n",
    "**What differences do you notice between these two variables and their corresponding values?**"
   ]
  },
  {
   "cell_type": "code",
   "execution_count": 1,
   "metadata": {
    "tags": [
     "remove-cell"
    ]
   },
   "outputs": [
    {
     "data": {
      "text/plain": [
       "[('love', 93),\n",
       " ('like', 50),\n",
       " ('ain', 50),\n",
       " ('slay', 49),\n",
       " ('sorry', 44),\n",
       " ('okay', 42),\n",
       " ('oh', 38),\n",
       " ('m', 37),\n",
       " ('get', 32),\n",
       " ('daddy', 28),\n",
       " ('let', 28),\n",
       " ('back', 24),\n",
       " ('said', 22),\n",
       " ('work', 21),\n",
       " ('cause', 21),\n",
       " ('ft', 21),\n",
       " ('hold', 20),\n",
       " ('night', 19),\n",
       " ('feel', 19),\n",
       " ('hurt', 19),\n",
       " ('best', 19),\n",
       " ('winner', 19),\n",
       " ('every', 18),\n",
       " ('bout', 18),\n",
       " ('money', 17),\n",
       " ('baby', 16),\n",
       " ('boy', 16),\n",
       " ('long', 16),\n",
       " ('shoot', 16),\n",
       " ('good', 16),\n",
       " ('catch', 16),\n",
       " ('know', 15),\n",
       " ('ooh', 15),\n",
       " ('got', 14),\n",
       " ('come', 14),\n",
       " ('pray', 14),\n",
       " ('way', 13),\n",
       " ('gon', 13),\n",
       " ('kiss', 13),\n",
       " ('re', 12)]"
      ]
     },
     "execution_count": 1,
     "metadata": {},
     "output_type": "execute_result"
    }
   ],
   "source": [
    "# Import Libraries and Modules\n",
    "\n",
    "import re\n",
    "from collections import Counter\n",
    "\n",
    "# Define Functions\n",
    "\n",
    "def split_into_words(any_chunk_of_text):\n",
    "    lowercase_text = any_chunk_of_text.lower()\n",
    "    split_words = re.split(\"\\W+\", lowercase_text)\n",
    "    return split_words\n",
    "\n",
    "# Define Filepaths and Assign Variables\n",
    "\n",
    "filepath_of_text = \"../texts/music/Beyonce-Lemonade.txt\"\n",
    "number_of_desired_words = 40\n",
    "\n",
    "stopwords = ['i', 'me', 'my', 'myself', 'we', 'our', 'ours', 'ourselves', 'you', 'your', 'yours',\n",
    "'yourself', 'yourselves', 'he', 'him', 'his', 'himself', 'she', 'her', 'hers',\n",
    " 'herself', 'it', 'its', 'itself', 'they', 'them', 'their', 'theirs', 'themselves',\n",
    " 'what', 'which', 'who', 'whom', 'this', 'that', 'these', 'those', 'am', 'is', 'are',\n",
    " 'was', 'were', 'be', 'been', 'being', 'have', 'has', 'had', 'having', 'do', 'does',\n",
    " 'did', 'doing', 'a', 'an', 'the', 'and', 'but', 'if', 'or', 'because', 'as', 'until',\n",
    " 'while', 'of', 'at', 'by', 'for', 'with', 'about', 'against', 'between', 'into',\n",
    " 'through', 'during', 'before', 'after', 'above', 'below', 'to', 'from', 'up', 'down',\n",
    " 'in', 'out', 'on', 'off', 'over', 'under', 'again', 'further', 'then', 'once', 'here',\n",
    " 'there', 'when', 'where', 'why', 'how', 'all', 'any', 'both', 'each', 'few', 'more',\n",
    " 'most', 'other', 'some', 'such', 'no', 'nor', 'not', 'only', 'own', 'same', 'so',\n",
    " 'than', 'too', 'very', 's', 't', 'can', 'will', 'just', 'don', 'should', 'now', 've', 'll', 'amp']\n",
    "\n",
    "# Read in File\n",
    "\n",
    "full_text = open(filepath_of_text, encoding=\"utf-8\").read()\n",
    "\n",
    "# Manipulate and Analyze File\n",
    "\n",
    "all_the_words = split_into_words(full_text)\n",
    "meaningful_words = [word for word in all_the_words if word not in stopwords]\n",
    "meaningful_words_tally = Counter(meaningful_words)\n",
    "most_frequent_meaningful_words = meaningful_words_tally.most_common(number_of_desired_words)\n",
    "\n",
    "# Output Results\n",
    "\n",
    "most_frequent_meaningful_words"
   ]
  },
  {
   "cell_type": "markdown",
   "metadata": {},
   "source": [
    "You might be wondering...\n",
    "\n",
    "Why is `\"../texts/music/Beyonce-Lemonade.txt\"` emphasized with one color and surrounded by quotation marks while `40` is differently colored and not surrounded by quotation marks? \n",
    "\n",
    "It is because these are two different \"types\" of Python data."
   ]
  },
  {
   "cell_type": "markdown",
   "metadata": {
    "tags": [
     "remove-cell"
    ]
   },
   "source": [
    "| Data Type       | Explanation          | Example  |\n",
    "| ------------- |:-------------:| :-----|\n",
    "| String     | Text | ```\"Beyonce-Lemonade.txt\",\"lemonade\"``` |\n",
    "| Integer     | Whole Numbers      |   ```40``` |\n",
    "| Float | Decimal Numbers      |   ```40.2``` |\n",
    "| Boolean | True/False     |   ```False``` |"
   ]
  },
  {
   "cell_type": "markdown",
   "metadata": {},
   "source": [
    "## 5.2 Check Data Types"
   ]
  },
  {
   "cell_type": "markdown",
   "metadata": {},
   "source": [
    "You can check the data type of any value by using the function `type()`."
   ]
  },
  {
   "cell_type": "code",
   "execution_count": 2,
   "metadata": {},
   "outputs": [
    {
     "data": {
      "text/plain": [
       "str"
      ]
     },
     "execution_count": 2,
     "metadata": {},
     "output_type": "execute_result"
    }
   ],
   "source": [
    "type(\"lemonade\")"
   ]
  },
  {
   "cell_type": "code",
   "execution_count": 3,
   "metadata": {
    "tags": [
     "hide-output"
    ]
   },
   "outputs": [
    {
     "data": {
      "text/plain": [
       "str"
      ]
     },
     "execution_count": 3,
     "metadata": {},
     "output_type": "execute_result"
    }
   ],
   "source": [
    "type(filepath_of_text)"
   ]
  },
  {
   "cell_type": "code",
   "execution_count": 4,
   "metadata": {},
   "outputs": [
    {
     "data": {
      "text/plain": [
       "int"
      ]
     },
     "execution_count": 4,
     "metadata": {},
     "output_type": "execute_result"
    }
   ],
   "source": [
    "type(40)"
   ]
  },
  {
   "cell_type": "code",
   "execution_count": 5,
   "metadata": {
    "tags": [
     "hide-output"
    ]
   },
   "outputs": [
    {
     "data": {
      "text/plain": [
       "int"
      ]
     },
     "execution_count": 5,
     "metadata": {},
     "output_type": "execute_result"
    }
   ],
   "source": [
    "type(number_of_desired_words)"
   ]
  },
  {
   "cell_type": "markdown",
   "metadata": {},
   "source": [
    "## 5.3 Strings"
   ]
  },
  {
   "cell_type": "markdown",
   "metadata": {},
   "source": [
    "A *string* is a Python data type that is treated like text, even if it contains a number. Strings are always enclosed by either single quotation marks `'this is a string'` or double quotation marks `\"this is a string\"`."
   ]
  },
  {
   "cell_type": "code",
   "execution_count": 6,
   "metadata": {},
   "outputs": [
    {
     "data": {
      "text/plain": [
       "'this is a string'"
      ]
     },
     "execution_count": 6,
     "metadata": {},
     "output_type": "execute_result"
    }
   ],
   "source": [
    "'this is a string'"
   ]
  },
  {
   "cell_type": "code",
   "execution_count": 7,
   "metadata": {},
   "outputs": [
    {
     "data": {
      "text/plain": [
       "'this is also a string, even though it contains a number like 42'"
      ]
     },
     "execution_count": 7,
     "metadata": {},
     "output_type": "execute_result"
    }
   ],
   "source": [
    "\"this is also a string, even though it contains a number like 42\""
   ]
  },
  {
   "cell_type": "code",
   "execution_count": 8,
   "metadata": {},
   "outputs": [
    {
     "ename": "SyntaxError",
     "evalue": "invalid syntax (707683720.py, line 1)",
     "output_type": "error",
     "traceback": [
      "\u001b[0;36m  Cell \u001b[0;32mIn[8], line 1\u001b[0;36m\u001b[0m\n\u001b[0;31m    this is not a string\u001b[0m\n\u001b[0m                  ^\u001b[0m\n\u001b[0;31mSyntaxError\u001b[0m\u001b[0;31m:\u001b[0m invalid syntax\n"
     ]
    }
   ],
   "source": [
    "this is not a string"
   ]
  },
  {
   "cell_type": "markdown",
   "metadata": {},
   "source": [
    "It doesn't matter whether you use single or double quotation marks with strings, as long as you use the same kind on either side of the string.\n",
    "\n",
    "If you need to include a single or double quotation mark *inside* of a string, then you need to either:\n",
    "- use the opposite kind of quotation mark inside the string\n",
    "- or \"escape\" the quotation mark by using a backslash `\\` before it"
   ]
  },
  {
   "cell_type": "markdown",
   "metadata": {},
   "source": [
    "```{margin} Escape characters\n",
    "A backslash character `\\` tells Python to treat the next character like a normal character and to ignore any special meaning\n",
    "```\n"
   ]
  },
  {
   "cell_type": "code",
   "execution_count": 9,
   "metadata": {},
   "outputs": [
    {
     "data": {
      "text/plain": [
       "\"She exclaimed, 'This is a quotation inside a string!''\""
      ]
     },
     "execution_count": 9,
     "metadata": {},
     "output_type": "execute_result"
    }
   ],
   "source": [
    "\"She exclaimed, 'This is a quotation inside a string!''\""
   ]
  },
  {
   "cell_type": "code",
   "execution_count": 10,
   "metadata": {},
   "outputs": [
    {
     "data": {
      "text/plain": [
       "'She exclaimed, \"This is also a quotation inside a string!\"'"
      ]
     },
     "execution_count": 10,
     "metadata": {},
     "output_type": "execute_result"
    }
   ],
   "source": [
    "\"She exclaimed, \\\"This is also a quotation inside a string!\\\"\""
   ]
  },
  {
   "cell_type": "markdown",
   "metadata": {},
   "source": [
    "### 5.3.1 String Methods"
   ]
  },
  {
   "cell_type": "markdown",
   "metadata": {},
   "source": [
    "Each data type has different properties and capabilities. So there are special things that only strings can do, and there are special ways of interacting with strings.\n",
    "\n",
    "For example, you can *index* and *slice* strings, you can *add* strings together, and you can transform strings to uppercase or lowercase. We're going to learn more about [string methods](https://melaniewalsh.github.io/Intro-Cultural-Analytics/Python/String-Methods.html) in the next lesson, but here are a few examples using a snippet from Beyoncé's song \"Hold Up.\""
   ]
  },
  {
   "cell_type": "code",
   "execution_count": 11,
   "metadata": {
    "tags": [
     "remove-input"
    ]
   },
   "outputs": [
    {
     "data": {
      "text/html": [
       "\n",
       "        <iframe\n",
       "            width=\"500\"\n",
       "            height=\"400\"\n",
       "            src=\"https://www.youtube.com/embed/PeonBmeFR8o?start=95\"\n",
       "            frameborder=\"0\"\n",
       "            allowfullscreen\n",
       "            \n",
       "        ></iframe>\n",
       "        "
      ],
      "text/plain": [
       "<IPython.lib.display.IFrame at 0x102f36be0>"
      ]
     },
     "execution_count": 11,
     "metadata": {},
     "output_type": "execute_result"
    }
   ],
   "source": [
    "from IPython.display import IFrame\n",
    "IFrame(\"https://www.youtube.com/embed/PeonBmeFR8o?start=95\", width='500', height='400')"
   ]
  },
  {
   "cell_type": "code",
   "execution_count": 12,
   "metadata": {},
   "outputs": [],
   "source": [
    "lemonade_snippet = \"Hold up, they don't love you like I love you\""
   ]
  },
  {
   "cell_type": "markdown",
   "metadata": {},
   "source": [
    "#### 5.3.1.1 Index characters in a string"
   ]
  },
  {
   "cell_type": "code",
   "execution_count": 13,
   "metadata": {
    "tags": [
     "hide-output"
    ]
   },
   "outputs": [
    {
     "data": {
      "text/plain": [
       "'H'"
      ]
     },
     "execution_count": 13,
     "metadata": {},
     "output_type": "execute_result"
    }
   ],
   "source": [
    "lemonade_snippet[0]"
   ]
  },
  {
   "cell_type": "markdown",
   "metadata": {},
   "source": [
    "#### 5.3.1.2 Slice strings"
   ]
  },
  {
   "cell_type": "code",
   "execution_count": 14,
   "metadata": {
    "tags": [
     "hide-output"
    ]
   },
   "outputs": [
    {
     "data": {
      "text/plain": [
       "\"Hold up, they don't \""
      ]
     },
     "execution_count": 14,
     "metadata": {},
     "output_type": "execute_result"
    }
   ],
   "source": [
    "lemonade_snippet[0:20]"
   ]
  },
  {
   "cell_type": "markdown",
   "metadata": {},
   "source": [
    "#### 5.3.1.3 Add (i.e., concatenate) strings together"
   ]
  },
  {
   "cell_type": "code",
   "execution_count": 15,
   "metadata": {
    "tags": [
     "hide-output"
    ]
   },
   "outputs": [
    {
     "data": {
      "text/plain": [
       "\"Hold up, they don't love you like I love you // Slow down, they don't love you like I love you\""
      ]
     },
     "execution_count": 15,
     "metadata": {},
     "output_type": "execute_result"
    }
   ],
   "source": [
    "lemonade_snippet + \" // Slow down, they don't love you like I love you\""
   ]
  },
  {
   "cell_type": "markdown",
   "metadata": {},
   "source": [
    "#### 5.3.1.4 Make string characters uppercase"
   ]
  },
  {
   "cell_type": "code",
   "execution_count": 16,
   "metadata": {
    "tags": [
     "hide-output"
    ]
   },
   "outputs": [
    {
     "data": {
      "text/plain": [
       "\"HOLD UP, THEY DON'T LOVE YOU LIKE I LOVE YOU\""
      ]
     },
     "execution_count": 16,
     "metadata": {},
     "output_type": "execute_result"
    }
   ],
   "source": [
    "lemonade_snippet.upper()"
   ]
  },
  {
   "cell_type": "markdown",
   "metadata": {},
   "source": [
    "### 5.3.2 f-Strings"
   ]
  },
  {
   "cell_type": "markdown",
   "metadata": {},
   "source": [
    "A special kind of string that we're going to use in this class is called an *f-string*. An f-string, short for formatted string literal, allows you to insert a variable directly into a string. [f-strings were introduced with Python version 3.6](https://docs.python.org/3/whatsnew/3.6.html#new-features)."
   ]
  },
  {
   "cell_type": "markdown",
   "metadata": {},
   "source": [
    "An f-string must begin with an `f` outside the quotation marks. Then, inside the quotation marks, the inserted variable must be placed within curly brackets `{}`."
   ]
  },
  {
   "cell_type": "markdown",
   "metadata": {},
   "source": [
    "```{margin} What does \\n mean?\n",
    "\\n = new line\n",
    "```"
   ]
  },
  {
   "cell_type": "code",
   "execution_count": 17,
   "metadata": {
    "tags": [
     "hide-output"
    ]
   },
   "outputs": [
    {
     "name": "stdout",
     "output_type": "stream",
     "text": [
      "Beyonce burst out of the building and sang: \n",
      "\n",
      "'Hold up, they don't love you like I love you'\n"
     ]
    }
   ],
   "source": [
    "print(f\"Beyonce burst out of the building and sang: \\n\\n'{lemonade_snippet}'\")"
   ]
  },
  {
   "cell_type": "markdown",
   "metadata": {},
   "source": [
    "## 5.4 Integers & Floats"
   ]
  },
  {
   "cell_type": "markdown",
   "metadata": {},
   "source": [
    "An *integer* and a *float* (short for *floating point number*) are two Python data types for representing numbers. Integers represent whole numbers. Floats represent numbers with decimal points. They do not need to be placed in quotation marks."
   ]
  },
  {
   "cell_type": "code",
   "execution_count": 18,
   "metadata": {},
   "outputs": [
    {
     "data": {
      "text/plain": [
       "int"
      ]
     },
     "execution_count": 18,
     "metadata": {},
     "output_type": "execute_result"
    }
   ],
   "source": [
    "type(40)"
   ]
  },
  {
   "cell_type": "code",
   "execution_count": 19,
   "metadata": {},
   "outputs": [
    {
     "data": {
      "text/plain": [
       "float"
      ]
     },
     "execution_count": 19,
     "metadata": {},
     "output_type": "execute_result"
    }
   ],
   "source": [
    "type(40.5)"
   ]
  },
  {
   "cell_type": "code",
   "execution_count": 20,
   "metadata": {},
   "outputs": [
    {
     "data": {
      "text/plain": [
       "float"
      ]
     },
     "execution_count": 20,
     "metadata": {},
     "output_type": "execute_result"
    }
   ],
   "source": [
    "type(40.555555)"
   ]
  },
  {
   "cell_type": "markdown",
   "metadata": {},
   "source": [
    "You can do a large range of mathematical calculations and operations with integers and floats. The table below is taken from Python's documentation about [Numeric Types](https://docs.python.org/3/library/stdtypes.html#numeric-types-int-float-complex)."
   ]
  },
  {
   "cell_type": "markdown",
   "metadata": {},
   "source": [
    "| Operation       | Explanation                                                                      |\n",
    "|-----------------|-----------------------------------------------------------------------------|\n",
    "| `x` + `y`           | sum of `x` and `y`                                                              |\n",
    "| `x` - `y`           | difference of `x` and `y`                                                       |\n",
    "| `x` * `y`           | product of `x` and `y`                                                          |\n",
    "| `x` / `y`           | quotient of ``x`` and `y`                                                         |\n",
    "| ``x`` // `y`          | floored quotient of `x` and\n",
    "`y`                                                 |\n",
    "| `x` % `y`           | remainder of `x` / `y`                                                          |\n",
    "| -`x`              | `x` negated                                                                   |\n",
    "| +`x`              | `x` unchanged                                                                 |\n",
    "| `abs(x)`          | absolute value or magnitude of `x`                                         |\n",
    "| `int(x)`          | `x` converted to integer                                                      |\n",
    "| `float(x)`        | `x` converted to floating point                                               |\n",
    "| `pow(x, y)`       | `x` to the power `y`                                                            |\n",
    "| `x` ** `y`          | `x` to the power `y`                                                            |\n"
   ]
  },
  {
   "cell_type": "markdown",
   "metadata": {},
   "source": [
    "### 5.4.1 Multiplication"
   ]
  },
  {
   "cell_type": "code",
   "execution_count": 21,
   "metadata": {
    "tags": [
     "hide-output"
    ]
   },
   "outputs": [
    {
     "data": {
      "text/plain": [
       "8"
      ]
     },
     "execution_count": 21,
     "metadata": {},
     "output_type": "execute_result"
    }
   ],
   "source": [
    "variable1 = 4\n",
    "variable2 = 2\n",
    "variable1 * variable2"
   ]
  },
  {
   "cell_type": "markdown",
   "metadata": {},
   "source": [
    "#### 5.4.2 Exponents"
   ]
  },
  {
   "cell_type": "code",
   "execution_count": 22,
   "metadata": {
    "tags": [
     "hide-output"
    ]
   },
   "outputs": [
    {
     "data": {
      "text/plain": [
       "16"
      ]
     },
     "execution_count": 22,
     "metadata": {},
     "output_type": "execute_result"
    }
   ],
   "source": [
    "variable1 ** variable2"
   ]
  },
  {
   "cell_type": "markdown",
   "metadata": {},
   "source": [
    "### 5.4.3 Remainder"
   ]
  },
  {
   "cell_type": "code",
   "execution_count": 23,
   "metadata": {
    "tags": [
     "hide-output"
    ]
   },
   "outputs": [
    {
     "data": {
      "text/plain": [
       "2"
      ]
     },
     "execution_count": 23,
     "metadata": {},
     "output_type": "execute_result"
    }
   ],
   "source": [
    "72 % 10"
   ]
  },
  {
   "cell_type": "markdown",
   "metadata": {},
   "source": [
    "## 5.5 Booleans"
   ]
  },
  {
   "cell_type": "markdown",
   "metadata": {},
   "source": [
    "Booleans are \"truth\" values. They report on whether things in your Python universe are `True` or `False`. There are the only two options for a boolean: `True` or `False`. "
   ]
  },
  {
   "cell_type": "markdown",
   "metadata": {},
   "source": [
    "For example, let's assign the variable `beyonce` the value `\"Grammy award-winner\"`"
   ]
  },
  {
   "cell_type": "code",
   "execution_count": 24,
   "metadata": {},
   "outputs": [],
   "source": [
    "beyonce = \"Grammy award-winner\""
   ]
  },
  {
   "cell_type": "markdown",
   "metadata": {},
   "source": [
    "<div class=\"admonition pythonreview\" name=\"html-admonition\" style=\"background: lightgreen; padding: 10px\">\n",
    "<p class=\"title\">Python Review</p>\n",
    "<p>Remember the difference between a single equals sign `=` and a double equals sign `==`?</p>\n",
    " \n",
    "<ul>\n",
    "<li>A single equals sign `=` is used for variable assignment </li> \n",
    "    <li>A double equals sign `==` is used as the equals operator </li>\n",
    "</div>"
   ]
  },
  {
   "cell_type": "markdown",
   "metadata": {},
   "source": [
    "We can \"test\" whether the variable `beyonce` equals `\"Grammy award-winner\"` by using the equals operator `==`. This will return a boolean."
   ]
  },
  {
   "cell_type": "code",
   "execution_count": 26,
   "metadata": {
    "tags": [
     "hide-output"
    ]
   },
   "outputs": [
    {
     "data": {
      "text/plain": [
       "True"
      ]
     },
     "execution_count": 26,
     "metadata": {},
     "output_type": "execute_result"
    }
   ],
   "source": [
    "beyonce == \"Grammy award-winner\""
   ]
  },
  {
   "cell_type": "code",
   "execution_count": 27,
   "metadata": {},
   "outputs": [
    {
     "data": {
      "text/plain": [
       "bool"
      ]
     },
     "execution_count": 27,
     "metadata": {},
     "output_type": "execute_result"
    }
   ],
   "source": [
    "type(beyonce == \"Grammy award-winner\")"
   ]
  },
  {
   "cell_type": "markdown",
   "metadata": {},
   "source": [
    "If we evaluate whether `beyonce` instead equals `\"Oscar award-winner\"`, we will get the boolean answer."
   ]
  },
  {
   "cell_type": "code",
   "execution_count": 28,
   "metadata": {
    "tags": [
     "hide-output"
    ]
   },
   "outputs": [
    {
     "data": {
      "text/plain": [
       "False"
      ]
     },
     "execution_count": 28,
     "metadata": {},
     "output_type": "execute_result"
    }
   ],
   "source": [
    "beyonce == \"Oscar award-winner\""
   ]
  },
  {
   "cell_type": "markdown",
   "metadata": {},
   "source": [
    "## 5.6 TypeError"
   ]
  },
  {
   "cell_type": "markdown",
   "metadata": {},
   "source": [
    "If you don't use the right data \"type\" for a particular method or function, you will get a `TypeError.`\n",
    "\n",
    "Let's look at what happens if we change the data type `number_of_desired_words` to a string `\"40\"` instead of an integer."
   ]
  },
  {
   "cell_type": "code",
   "execution_count": 29,
   "metadata": {
    "tags": [
     "remove-input"
    ]
   },
   "outputs": [
    {
     "ename": "TypeError",
     "evalue": "'>=' not supported between instances of 'str' and 'int'",
     "output_type": "error",
     "traceback": [
      "\u001b[0;31m---------------------------------------------------------------------------\u001b[0m",
      "\u001b[0;31mTypeError\u001b[0m                                 Traceback (most recent call last)",
      "Cell \u001b[0;32mIn[29], line 31\u001b[0m\n\u001b[1;32m     29\u001b[0m meaningful_words \u001b[39m=\u001b[39m [word \u001b[39mfor\u001b[39;00m word \u001b[39min\u001b[39;00m all_the_words \u001b[39mif\u001b[39;00m word \u001b[39mnot\u001b[39;00m \u001b[39min\u001b[39;00m stopwords]\n\u001b[1;32m     30\u001b[0m meaningful_words_tally \u001b[39m=\u001b[39m Counter(meaningful_words)\n\u001b[0;32m---> 31\u001b[0m most_frequent_meaningful_words \u001b[39m=\u001b[39m meaningful_words_tally\u001b[39m.\u001b[39;49mmost_common(number_of_desired_words)\n\u001b[1;32m     33\u001b[0m most_frequent_meaningful_words\n",
      "File \u001b[0;32m/Library/Developer/CommandLineTools/Library/Frameworks/Python3.framework/Versions/3.9/lib/python3.9/collections/__init__.py:611\u001b[0m, in \u001b[0;36mCounter.most_common\u001b[0;34m(self, n)\u001b[0m\n\u001b[1;32m    609\u001b[0m \u001b[39mif\u001b[39;00m n \u001b[39mis\u001b[39;00m \u001b[39mNone\u001b[39;00m:\n\u001b[1;32m    610\u001b[0m     \u001b[39mreturn\u001b[39;00m \u001b[39msorted\u001b[39m(\u001b[39mself\u001b[39m\u001b[39m.\u001b[39mitems(), key\u001b[39m=\u001b[39m_itemgetter(\u001b[39m1\u001b[39m), reverse\u001b[39m=\u001b[39m\u001b[39mTrue\u001b[39;00m)\n\u001b[0;32m--> 611\u001b[0m \u001b[39mreturn\u001b[39;00m _heapq\u001b[39m.\u001b[39;49mnlargest(n, \u001b[39mself\u001b[39;49m\u001b[39m.\u001b[39;49mitems(), key\u001b[39m=\u001b[39;49m_itemgetter(\u001b[39m1\u001b[39;49m))\n",
      "File \u001b[0;32m/Library/Developer/CommandLineTools/Library/Frameworks/Python3.framework/Versions/3.9/lib/python3.9/heapq.py:540\u001b[0m, in \u001b[0;36mnlargest\u001b[0;34m(n, iterable, key)\u001b[0m\n\u001b[1;32m    538\u001b[0m     \u001b[39mpass\u001b[39;00m\n\u001b[1;32m    539\u001b[0m \u001b[39melse\u001b[39;00m:\n\u001b[0;32m--> 540\u001b[0m     \u001b[39mif\u001b[39;00m n \u001b[39m>\u001b[39;49m\u001b[39m=\u001b[39;49m size:\n\u001b[1;32m    541\u001b[0m         \u001b[39mreturn\u001b[39;00m \u001b[39msorted\u001b[39m(iterable, key\u001b[39m=\u001b[39mkey, reverse\u001b[39m=\u001b[39m\u001b[39mTrue\u001b[39;00m)[:n]\n\u001b[1;32m    543\u001b[0m \u001b[39m# When key is none, use simpler decoration\u001b[39;00m\n",
      "\u001b[0;31mTypeError\u001b[0m: '>=' not supported between instances of 'str' and 'int'"
     ]
    }
   ],
   "source": [
    "import re\n",
    "from collections import Counter\n",
    "\n",
    "def split_into_words(any_chunk_of_text):\n",
    "    lowercase_text = any_chunk_of_text.lower()\n",
    "    split_words = re.split(\"\\W+\", lowercase_text)\n",
    "    return split_words\n",
    "\n",
    "filepath_of_text = \"../texts/music/Beyonce-Lemonade.txt\"\n",
    "number_of_desired_words = \"40\"\n",
    "\n",
    "stopwords = ['i', 'me', 'my', 'myself', 'we', 'our', 'ours', 'ourselves', 'you', 'your', 'yours',\n",
    " 'yourself', 'yourselves', 'he', 'him', 'his', 'himself', 'she', 'her', 'hers',\n",
    " 'herself', 'it', 'its', 'itself', 'they', 'them', 'their', 'theirs', 'themselves',\n",
    " 'what', 'which', 'who', 'whom', 'this', 'that', 'these', 'those', 'am', 'is', 'are',\n",
    " 'was', 'were', 'be', 'been', 'being', 'have', 'has', 'had', 'having', 'do', 'does',\n",
    " 'did', 'doing', 'a', 'an', 'the', 'and', 'but', 'if', 'or', 'because', 'as', 'until',\n",
    " 'while', 'of', 'at', 'by', 'for', 'with', 'about', 'against', 'between', 'into',\n",
    " 'through', 'during', 'before', 'after', 'above', 'below', 'to', 'from', 'up', 'down',\n",
    " 'in', 'out', 'on', 'off', 'over', 'under', 'again', 'further', 'then', 'once', 'here',\n",
    " 'there', 'when', 'where', 'why', 'how', 'all', 'any', 'both', 'each', 'few', 'more',\n",
    " 'most', 'other', 'some', 'such', 'no', 'nor', 'not', 'only', 'own', 'same', 'so',\n",
    " 'than', 'too', 'very', 's', 't', 'can', 'will', 'just', 'don', 'should', 'now', 've', 'll', 'amp']\n",
    "\n",
    "\n",
    "full_text = open(filepath_of_text, encoding=\"utf-8\").read()\n",
    "\n",
    "all_the_words = split_into_words(full_text)\n",
    "meaningful_words = [word for word in all_the_words if word not in stopwords]\n",
    "meaningful_words_tally = Counter(meaningful_words)\n",
    "most_frequent_meaningful_words = meaningful_words_tally.most_common(number_of_desired_words)\n",
    "\n",
    "most_frequent_meaningful_words"
   ]
  },
  {
   "cell_type": "markdown",
   "metadata": {},
   "source": [
    "## 5.7 Application - Write a short bio!"
   ]
  },
  {
   "cell_type": "markdown",
   "metadata": {},
   "source": [
    "Here's an example of data types in action using some biographical information about me."
   ]
  },
  {
   "cell_type": "code",
   "execution_count": 30,
   "metadata": {},
   "outputs": [],
   "source": [
    "name = 'Prof. Walsh' #string\n",
    "age = 1000 #integer\n",
    "place = 'Chicago' #string \n",
    "favorite_food = 'tacos' #string\n",
    "dog_years_age = age * 7.5 #float\n",
    "student = False #boolean"
   ]
  },
  {
   "cell_type": "code",
   "execution_count": 31,
   "metadata": {
    "tags": [
     "hide-output"
    ]
   },
   "outputs": [
    {
     "name": "stdout",
     "output_type": "stream",
     "text": [
      "✨This is...Prof. Walsh!✨\n",
      "Prof. Walsh likes tacos and once lived in Chicago.\n",
      "Prof. Walsh is 1000 years old, which is 7500.0 in dog years.\n",
      "The statement 'Prof. Walsh is a student' is False.\n"
     ]
    }
   ],
   "source": [
    "print(f'✨This is...{name}!✨')\n",
    "\n",
    "print(f\"\"\"{name} likes {favorite_food} and once lived in {place}.\n",
    "{name} is {age} years old, which is {dog_years_age} in dog years.\n",
    "The statement '{name} is a student' is {student}.\"\"\")"
   ]
  },
  {
   "cell_type": "code",
   "execution_count": 32,
   "metadata": {
    "tags": [
     "hide-output"
    ]
   },
   "outputs": [
    {
     "name": "stdout",
     "output_type": "stream",
     "text": [
      "\n",
      "name = <class 'str'>\n",
      "age = <class 'int'>\n",
      "place = <class 'str'>\n",
      "favorite_food = <class 'str'>\n",
      "dog_years_age = <class 'float'>\n",
      "student = <class 'bool'>\n",
      "\n"
     ]
    }
   ],
   "source": [
    "print(f\"\"\"\n",
    "name = {type(name)}\n",
    "age = {type(age)}\n",
    "place = {type(place)}\n",
    "favorite_food = {type(favorite_food)}\n",
    "dog_years_age = {type(dog_years_age)}\n",
    "student = {type(student)}\n",
    "\"\"\")"
   ]
  },
  {
   "cell_type": "markdown",
   "metadata": {},
   "source": [
    "## Application"
   ]
  },
  {
   "cell_type": "markdown",
   "metadata": {},
   "source": [
    "### Short bio"
   ]
  },
  {
   "cell_type": "markdown",
   "metadata": {},
   "source": [
    "Let's do the same thing but with biographical info about you! Fill in the variables below accordingly."
   ]
  },
  {
   "cell_type": "code",
   "execution_count": 37,
   "metadata": {},
   "outputs": [],
   "source": [
    "name = \"Leo\"\n",
    "age = 24\n",
    "home_town = \"Lima\"\n",
    "favorite_food = \"Lomo Saltado\"\n",
    "dog_years_age = (int)(24.0 * 7.5)\n",
    "student = False #boolean\n",
    "# Add 2-3 new variables of your own below\n",
    "favorite_hobbie = \"playing videogames\"\n",
    "favorite_movie = \"'Avatar'\""
   ]
  },
  {
   "cell_type": "code",
   "execution_count": 40,
   "metadata": {},
   "outputs": [
    {
     "name": "stdout",
     "output_type": "stream",
     "text": [
      "✨This is...Leo!✨\n",
      "Leo likes Lomo Saltado and once lived in Lima.\n",
      "Leo is 24 years old, which is 180 in dog years.\n",
      "The statement \"Leo is a student\" is False. \n",
      "His favorite hobbie is playing videogames, and his favorite movie \n",
      "is 'Avatar' \n"
     ]
    }
   ],
   "source": [
    "print(f'✨This is...{name}!✨')\n",
    "\n",
    "# Add your variables in the below print statement\n",
    "print(f\"\"\"{name} likes {favorite_food} and once lived in {home_town}.\n",
    "{name} is {age} years old, which is {dog_years_age} in dog years.\n",
    "The statement \"{name} is a student\" is {student}. \n",
    "His favorite hobbie is {favorite_hobbie}, and his favorite movie \n",
    "is {favorite_movie} \"\"\")\n"
   ]
  },
  {
   "cell_type": "markdown",
   "metadata": {},
   "source": [
    "### Make your own!\n",
    "\n",
    "Make your own print statement with variables below. "
   ]
  },
  {
   "cell_type": "code",
   "execution_count": 41,
   "metadata": {},
   "outputs": [
    {
     "name": "stdout",
     "output_type": "stream",
     "text": [
      "✨This is...Leandro!✨\n",
      "I am Leandro and I am 24. I am currently studying\n",
      "in Virginia Tech majoring in Computer Science. \n",
      "The statement \"Leandro is a sophomore\" is True.\n",
      "I am currently taking 5 courses with 3 \n",
      "credits per course, which is 15 credits in total.\n"
     ]
    }
   ],
   "source": [
    "my_name = \"Leandro\"\n",
    "my_age = 24\n",
    "my_university = \"Virginia Tech\"\n",
    "my_major = \"Computer Science\"\n",
    "sophomore = True\n",
    "courses = 5\n",
    "credits_per_course = 3\n",
    "total_credits = courses * credits_per_course\n",
    "\n",
    "print(f'✨This is...{my_name}!✨')\n",
    "\n",
    "print(f\"\"\"I am {my_name} and I am {my_age}. I am currently studying\n",
    "in {my_university} majoring in {my_major}. \n",
    "The statement \"{my_name} is a sophomore\" is {sophomore}.\n",
    "I am currently taking {courses} courses with {credits_per_course} \n",
    "credits per course, which is {total_credits} credits in total.\"\"\")"
   ]
  }
 ],
 "metadata": {
  "kernelspec": {
   "display_name": "Python 3",
   "language": "python",
   "name": "python3"
  },
  "language_info": {
   "codemirror_mode": {
    "name": "ipython",
    "version": 3
   },
   "file_extension": ".py",
   "mimetype": "text/x-python",
   "name": "python",
   "nbconvert_exporter": "python",
   "pygments_lexer": "ipython3",
   "version": "3.9.6 (default, Aug 11 2023, 19:44:49) \n[Clang 15.0.0 (clang-1500.0.40.1)]"
  },
  "vscode": {
   "interpreter": {
    "hash": "31f2aee4e71d21fbe5cf8b01ff0e069b9275f58929596ceb00d14d90e3e16cd6"
   }
  }
 },
 "nbformat": 4,
 "nbformat_minor": 4
}
