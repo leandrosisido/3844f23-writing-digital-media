{
 "cells": [
  {
   "cell_type": "markdown",
   "metadata": {},
   "source": [
    "# How to Use Jupyter Notebooks"
   ]
  },
  {
   "cell_type": "markdown",
   "metadata": {},
   "source": [
    "A [Jupyter notebook](https://jupyter.readthedocs.io/en/latest/install.html#jupyter-notebook-interface) is a document that can combine live programming code, text, images, and pretty displays of data all in the same place. This combination makes Jupyter notebooks clutch for exploring data as well as for learning and teaching.\n",
    "\n",
    "A Jupyter notebook has a special *.ipynb* file extension and can only be opened if you have the application JupyterLab or Jupyter Notebook installed and running. We are running those environments in VS Code, since we installed the app extensions in the [first unit](./../01-Installation-Workflow/00-Install-Python-and-VSCode.ipynb)."
   ]
  },
  {
   "cell_type": "markdown",
   "metadata": {},
   "source": [
    "## 1. Some Nice Features"
   ]
  },
  {
   "cell_type": "markdown",
   "metadata": {},
   "source": [
    "This document is a Jupyter notebook! Let's quickly demonstrate some of the features that make Jupyter notebooks useful."
   ]
  },
  {
   "cell_type": "markdown",
   "metadata": {},
   "source": [
    "### 1.1 Displaying data"
   ]
  },
  {
   "cell_type": "markdown",
   "metadata": {},
   "source": [
    "We can display and explore data in a readable and aesthetically-pleasing way.\n",
    "\n",
    "For example, here's a snippet of a CSV (Comma Separated Values) file with some data about films and character dialogue (sourced by [The Pudding](https://github.com/matthewfdaniels/scripts/). We'll be working with this data in a later lesson."
   ]
  },
  {
   "cell_type": "code",
   "execution_count": 2,
   "metadata": {},
   "outputs": [
    {
     "data": {
      "text/html": [
       "<div>\n",
       "<style scoped>\n",
       "    .dataframe tbody tr th:only-of-type {\n",
       "        vertical-align: middle;\n",
       "    }\n",
       "\n",
       "    .dataframe tbody tr th {\n",
       "        vertical-align: top;\n",
       "    }\n",
       "\n",
       "    .dataframe thead th {\n",
       "        text-align: right;\n",
       "    }\n",
       "</style>\n",
       "<table border=\"1\" class=\"dataframe\">\n",
       "  <thead>\n",
       "    <tr style=\"text-align: right;\">\n",
       "      <th></th>\n",
       "      <th>title</th>\n",
       "      <th>release_year</th>\n",
       "      <th>character</th>\n",
       "      <th>gender</th>\n",
       "      <th>words</th>\n",
       "      <th>proportion_of_dialogue</th>\n",
       "      <th>age</th>\n",
       "      <th>gross</th>\n",
       "      <th>script_id</th>\n",
       "    </tr>\n",
       "  </thead>\n",
       "  <tbody>\n",
       "    <tr>\n",
       "      <th>23042</th>\n",
       "      <td>Beauty and the Beast</td>\n",
       "      <td>1991</td>\n",
       "      <td>Lumiere</td>\n",
       "      <td>man</td>\n",
       "      <td>1063</td>\n",
       "      <td>0.104636</td>\n",
       "      <td>56.0</td>\n",
       "      <td>452.0</td>\n",
       "      <td>9254</td>\n",
       "    </tr>\n",
       "    <tr>\n",
       "      <th>23043</th>\n",
       "      <td>Beauty and the Beast</td>\n",
       "      <td>1991</td>\n",
       "      <td>Maurice</td>\n",
       "      <td>man</td>\n",
       "      <td>1107</td>\n",
       "      <td>0.108967</td>\n",
       "      <td>71.0</td>\n",
       "      <td>452.0</td>\n",
       "      <td>9254</td>\n",
       "    </tr>\n",
       "    <tr>\n",
       "      <th>23044</th>\n",
       "      <td>Beauty and the Beast</td>\n",
       "      <td>1991</td>\n",
       "      <td>Monsieur D'Arqu</td>\n",
       "      <td>man</td>\n",
       "      <td>114</td>\n",
       "      <td>0.011222</td>\n",
       "      <td>58.0</td>\n",
       "      <td>452.0</td>\n",
       "      <td>9254</td>\n",
       "    </tr>\n",
       "    <tr>\n",
       "      <th>23045</th>\n",
       "      <td>Beauty and the Beast</td>\n",
       "      <td>1991</td>\n",
       "      <td>Mrs. Potts</td>\n",
       "      <td>woman</td>\n",
       "      <td>564</td>\n",
       "      <td>0.055517</td>\n",
       "      <td>66.0</td>\n",
       "      <td>452.0</td>\n",
       "      <td>9254</td>\n",
       "    </tr>\n",
       "    <tr>\n",
       "      <th>23046</th>\n",
       "      <td>Beauty and the Beast</td>\n",
       "      <td>1991</td>\n",
       "      <td>Wardrobe</td>\n",
       "      <td>woman</td>\n",
       "      <td>121</td>\n",
       "      <td>0.011911</td>\n",
       "      <td>54.0</td>\n",
       "      <td>452.0</td>\n",
       "      <td>9254</td>\n",
       "    </tr>\n",
       "  </tbody>\n",
       "</table>\n",
       "</div>"
      ],
      "text/plain": [
       "                      title  release_year        character gender  words  \\\n",
       "23042  Beauty and the Beast          1991          Lumiere    man   1063   \n",
       "23043  Beauty and the Beast          1991          Maurice    man   1107   \n",
       "23044  Beauty and the Beast          1991  Monsieur D'Arqu    man    114   \n",
       "23045  Beauty and the Beast          1991       Mrs. Potts  woman    564   \n",
       "23046  Beauty and the Beast          1991         Wardrobe  woman    121   \n",
       "\n",
       "       proportion_of_dialogue   age  gross  script_id  \n",
       "23042                0.104636  56.0  452.0       9254  \n",
       "23043                0.108967  71.0  452.0       9254  \n",
       "23044                0.011222  58.0  452.0       9254  \n",
       "23045                0.055517  66.0  452.0       9254  \n",
       "23046                0.011911  54.0  452.0       9254  "
      ]
     },
     "execution_count": 2,
     "metadata": {},
     "output_type": "execute_result"
    }
   ],
   "source": [
    "import pandas as pd\n",
    "movie_data = pd.read_csv('./../data/Pudding/Pudding-Film-Dialogue-Clean.csv')\n",
    "movie_data.tail(5)"
   ]
  },
  {
   "cell_type": "markdown",
   "metadata": {},
   "source": [
    "### 1.2 Creating Data Visualizations "
   ]
  },
  {
   "cell_type": "markdown",
   "metadata": {},
   "source": [
    "We can create visualizations based on the above data in the very same document.\n",
    "\n",
    "In one line of code, we can create a plot of *The Pudding* films by year of their release."
   ]
  },
  {
   "cell_type": "code",
   "execution_count": 13,
   "metadata": {},
   "outputs": [
    {
     "ename": "ImportError",
     "evalue": "matplotlib is required for plotting when the default backend \"matplotlib\" is selected.",
     "output_type": "error",
     "traceback": [
      "\u001b[0;31m---------------------------------------------------------------------------\u001b[0m",
      "\u001b[0;31mImportError\u001b[0m                               Traceback (most recent call last)",
      "Cell \u001b[0;32mIn[13], line 1\u001b[0m\n\u001b[0;32m----> 1\u001b[0m movie_data\u001b[39m.\u001b[39;49mgroupby(\u001b[39m'\u001b[39;49m\u001b[39mrelease_year\u001b[39;49m\u001b[39m'\u001b[39;49m)[\u001b[39m'\u001b[39;49m\u001b[39mtitle\u001b[39;49m\u001b[39m'\u001b[39;49m]\u001b[39m.\u001b[39;49mcount()\u001b[39m.\u001b[39;49mplot(title\u001b[39m=\u001b[39;49m\u001b[39m'\u001b[39;49m\u001b[39mFilms By Year\u001b[39;49m\u001b[39m'\u001b[39;49m)\n",
      "File \u001b[0;32m~/Library/Python/3.9/lib/python/site-packages/pandas/plotting/_core.py:951\u001b[0m, in \u001b[0;36mPlotAccessor.__call__\u001b[0;34m(self, *args, **kwargs)\u001b[0m\n\u001b[1;32m    950\u001b[0m \u001b[39mdef\u001b[39;00m \u001b[39m__call__\u001b[39m(\u001b[39mself\u001b[39m, \u001b[39m*\u001b[39margs, \u001b[39m*\u001b[39m\u001b[39m*\u001b[39mkwargs):\n\u001b[0;32m--> 951\u001b[0m     plot_backend \u001b[39m=\u001b[39m _get_plot_backend(kwargs\u001b[39m.\u001b[39;49mpop(\u001b[39m\"\u001b[39;49m\u001b[39mbackend\u001b[39;49m\u001b[39m\"\u001b[39;49m, \u001b[39mNone\u001b[39;49;00m))\n\u001b[1;32m    953\u001b[0m     x, y, kind, kwargs \u001b[39m=\u001b[39m \u001b[39mself\u001b[39m\u001b[39m.\u001b[39m_get_call_args(\n\u001b[1;32m    954\u001b[0m         plot_backend\u001b[39m.\u001b[39m\u001b[39m__name__\u001b[39m, \u001b[39mself\u001b[39m\u001b[39m.\u001b[39m_parent, args, kwargs\n\u001b[1;32m    955\u001b[0m     )\n\u001b[1;32m    957\u001b[0m     kind \u001b[39m=\u001b[39m \u001b[39mself\u001b[39m\u001b[39m.\u001b[39m_kind_aliases\u001b[39m.\u001b[39mget(kind, kind)\n",
      "File \u001b[0;32m~/Library/Python/3.9/lib/python/site-packages/pandas/plotting/_core.py:1947\u001b[0m, in \u001b[0;36m_get_plot_backend\u001b[0;34m(backend)\u001b[0m\n\u001b[1;32m   1944\u001b[0m \u001b[39mif\u001b[39;00m backend_str \u001b[39min\u001b[39;00m _backends:\n\u001b[1;32m   1945\u001b[0m     \u001b[39mreturn\u001b[39;00m _backends[backend_str]\n\u001b[0;32m-> 1947\u001b[0m module \u001b[39m=\u001b[39m _load_backend(backend_str)\n\u001b[1;32m   1948\u001b[0m _backends[backend_str] \u001b[39m=\u001b[39m module\n\u001b[1;32m   1949\u001b[0m \u001b[39mreturn\u001b[39;00m module\n",
      "File \u001b[0;32m~/Library/Python/3.9/lib/python/site-packages/pandas/plotting/_core.py:1877\u001b[0m, in \u001b[0;36m_load_backend\u001b[0;34m(backend)\u001b[0m\n\u001b[1;32m   1875\u001b[0m         module \u001b[39m=\u001b[39m importlib\u001b[39m.\u001b[39mimport_module(\u001b[39m\"\u001b[39m\u001b[39mpandas.plotting._matplotlib\u001b[39m\u001b[39m\"\u001b[39m)\n\u001b[1;32m   1876\u001b[0m     \u001b[39mexcept\u001b[39;00m \u001b[39mImportError\u001b[39;00m:\n\u001b[0;32m-> 1877\u001b[0m         \u001b[39mraise\u001b[39;00m \u001b[39mImportError\u001b[39;00m(\n\u001b[1;32m   1878\u001b[0m             \u001b[39m\"\u001b[39m\u001b[39mmatplotlib is required for plotting when the \u001b[39m\u001b[39m\"\u001b[39m\n\u001b[1;32m   1879\u001b[0m             \u001b[39m'\u001b[39m\u001b[39mdefault backend \u001b[39m\u001b[39m\"\u001b[39m\u001b[39mmatplotlib\u001b[39m\u001b[39m\"\u001b[39m\u001b[39m is selected.\u001b[39m\u001b[39m'\u001b[39m\n\u001b[1;32m   1880\u001b[0m         ) \u001b[39mfrom\u001b[39;00m \u001b[39mNone\u001b[39;00m\n\u001b[1;32m   1881\u001b[0m     \u001b[39mreturn\u001b[39;00m module\n\u001b[1;32m   1883\u001b[0m found_backend \u001b[39m=\u001b[39m \u001b[39mFalse\u001b[39;00m\n",
      "\u001b[0;31mImportError\u001b[0m: matplotlib is required for plotting when the default backend \"matplotlib\" is selected."
     ]
    }
   ],
   "source": [
    "\n",
    "movie_data.groupby('release_year')['title'].count().plot(title='Films By Year')"
   ]
  },
  {
   "cell_type": "markdown",
   "metadata": {},
   "source": [
    "### 1.3 Writing with text, images, links, and code"
   ]
  },
  {
   "cell_type": "markdown",
   "metadata": {},
   "source": [
    "In notebooks, we write out and think through our data process by combining text, images, links, and code—***writing and digital media***, yo!\n",
    "\n",
    "We'll learn how to combine these media in the section [Code vs Markdown Cells](code-vs-markdown-cells) below. But, first, let's set up that discussion by looking at it in action with some data about *Beauty and the Beast*."
   ]
  },
  {
   "cell_type": "code",
   "execution_count": 8,
   "metadata": {},
   "outputs": [
    {
     "data": {
      "text/html": [
       "<div>\n",
       "<style scoped>\n",
       "    .dataframe tbody tr th:only-of-type {\n",
       "        vertical-align: middle;\n",
       "    }\n",
       "\n",
       "    .dataframe tbody tr th {\n",
       "        vertical-align: top;\n",
       "    }\n",
       "\n",
       "    .dataframe thead th {\n",
       "        text-align: right;\n",
       "    }\n",
       "</style>\n",
       "<table border=\"1\" class=\"dataframe\">\n",
       "  <thead>\n",
       "    <tr style=\"text-align: right;\">\n",
       "      <th></th>\n",
       "      <th>title</th>\n",
       "      <th>release_year</th>\n",
       "      <th>character</th>\n",
       "      <th>gender</th>\n",
       "      <th>words</th>\n",
       "      <th>proportion_of_dialogue</th>\n",
       "      <th>age</th>\n",
       "      <th>gross</th>\n",
       "      <th>script_id</th>\n",
       "    </tr>\n",
       "  </thead>\n",
       "  <tbody>\n",
       "    <tr>\n",
       "      <th>23036</th>\n",
       "      <td>Beauty and the Beast</td>\n",
       "      <td>1991</td>\n",
       "      <td>Beast</td>\n",
       "      <td>man</td>\n",
       "      <td>1162</td>\n",
       "      <td>0.114381</td>\n",
       "      <td>35.0</td>\n",
       "      <td>452.0</td>\n",
       "      <td>9254</td>\n",
       "    </tr>\n",
       "    <tr>\n",
       "      <th>23037</th>\n",
       "      <td>Beauty and the Beast</td>\n",
       "      <td>1991</td>\n",
       "      <td>Belle</td>\n",
       "      <td>woman</td>\n",
       "      <td>2183</td>\n",
       "      <td>0.214883</td>\n",
       "      <td>35.0</td>\n",
       "      <td>452.0</td>\n",
       "      <td>9254</td>\n",
       "    </tr>\n",
       "    <tr>\n",
       "      <th>23038</th>\n",
       "      <td>Beauty and the Beast</td>\n",
       "      <td>1991</td>\n",
       "      <td>Chip</td>\n",
       "      <td>man</td>\n",
       "      <td>446</td>\n",
       "      <td>0.043902</td>\n",
       "      <td>9.0</td>\n",
       "      <td>452.0</td>\n",
       "      <td>9254</td>\n",
       "    </tr>\n",
       "    <tr>\n",
       "      <th>23039</th>\n",
       "      <td>Beauty and the Beast</td>\n",
       "      <td>1991</td>\n",
       "      <td>Cogsworth</td>\n",
       "      <td>man</td>\n",
       "      <td>1658</td>\n",
       "      <td>0.163205</td>\n",
       "      <td>49.0</td>\n",
       "      <td>452.0</td>\n",
       "      <td>9254</td>\n",
       "    </tr>\n",
       "    <tr>\n",
       "      <th>23040</th>\n",
       "      <td>Beauty and the Beast</td>\n",
       "      <td>1991</td>\n",
       "      <td>Gaston</td>\n",
       "      <td>man</td>\n",
       "      <td>1326</td>\n",
       "      <td>0.130525</td>\n",
       "      <td>38.0</td>\n",
       "      <td>452.0</td>\n",
       "      <td>9254</td>\n",
       "    </tr>\n",
       "    <tr>\n",
       "      <th>23041</th>\n",
       "      <td>Beauty and the Beast</td>\n",
       "      <td>1991</td>\n",
       "      <td>Lefou</td>\n",
       "      <td>man</td>\n",
       "      <td>415</td>\n",
       "      <td>0.040850</td>\n",
       "      <td>NaN</td>\n",
       "      <td>452.0</td>\n",
       "      <td>9254</td>\n",
       "    </tr>\n",
       "    <tr>\n",
       "      <th>23042</th>\n",
       "      <td>Beauty and the Beast</td>\n",
       "      <td>1991</td>\n",
       "      <td>Lumiere</td>\n",
       "      <td>man</td>\n",
       "      <td>1063</td>\n",
       "      <td>0.104636</td>\n",
       "      <td>56.0</td>\n",
       "      <td>452.0</td>\n",
       "      <td>9254</td>\n",
       "    </tr>\n",
       "    <tr>\n",
       "      <th>23043</th>\n",
       "      <td>Beauty and the Beast</td>\n",
       "      <td>1991</td>\n",
       "      <td>Maurice</td>\n",
       "      <td>man</td>\n",
       "      <td>1107</td>\n",
       "      <td>0.108967</td>\n",
       "      <td>71.0</td>\n",
       "      <td>452.0</td>\n",
       "      <td>9254</td>\n",
       "    </tr>\n",
       "    <tr>\n",
       "      <th>23044</th>\n",
       "      <td>Beauty and the Beast</td>\n",
       "      <td>1991</td>\n",
       "      <td>Monsieur D'Arqu</td>\n",
       "      <td>man</td>\n",
       "      <td>114</td>\n",
       "      <td>0.011222</td>\n",
       "      <td>58.0</td>\n",
       "      <td>452.0</td>\n",
       "      <td>9254</td>\n",
       "    </tr>\n",
       "    <tr>\n",
       "      <th>23045</th>\n",
       "      <td>Beauty and the Beast</td>\n",
       "      <td>1991</td>\n",
       "      <td>Mrs. Potts</td>\n",
       "      <td>woman</td>\n",
       "      <td>564</td>\n",
       "      <td>0.055517</td>\n",
       "      <td>66.0</td>\n",
       "      <td>452.0</td>\n",
       "      <td>9254</td>\n",
       "    </tr>\n",
       "    <tr>\n",
       "      <th>23046</th>\n",
       "      <td>Beauty and the Beast</td>\n",
       "      <td>1991</td>\n",
       "      <td>Wardrobe</td>\n",
       "      <td>woman</td>\n",
       "      <td>121</td>\n",
       "      <td>0.011911</td>\n",
       "      <td>54.0</td>\n",
       "      <td>452.0</td>\n",
       "      <td>9254</td>\n",
       "    </tr>\n",
       "  </tbody>\n",
       "</table>\n",
       "</div>"
      ],
      "text/plain": [
       "                      title  release_year        character gender  words  \\\n",
       "23036  Beauty and the Beast          1991            Beast    man   1162   \n",
       "23037  Beauty and the Beast          1991            Belle  woman   2183   \n",
       "23038  Beauty and the Beast          1991             Chip    man    446   \n",
       "23039  Beauty and the Beast          1991        Cogsworth    man   1658   \n",
       "23040  Beauty and the Beast          1991           Gaston    man   1326   \n",
       "23041  Beauty and the Beast          1991            Lefou    man    415   \n",
       "23042  Beauty and the Beast          1991          Lumiere    man   1063   \n",
       "23043  Beauty and the Beast          1991          Maurice    man   1107   \n",
       "23044  Beauty and the Beast          1991  Monsieur D'Arqu    man    114   \n",
       "23045  Beauty and the Beast          1991       Mrs. Potts  woman    564   \n",
       "23046  Beauty and the Beast          1991         Wardrobe  woman    121   \n",
       "\n",
       "       proportion_of_dialogue   age  gross  script_id  \n",
       "23036                0.114381  35.0  452.0       9254  \n",
       "23037                0.214883  35.0  452.0       9254  \n",
       "23038                0.043902   9.0  452.0       9254  \n",
       "23039                0.163205  49.0  452.0       9254  \n",
       "23040                0.130525  38.0  452.0       9254  \n",
       "23041                0.040850   NaN  452.0       9254  \n",
       "23042                0.104636  56.0  452.0       9254  \n",
       "23043                0.108967  71.0  452.0       9254  \n",
       "23044                0.011222  58.0  452.0       9254  \n",
       "23045                0.055517  66.0  452.0       9254  \n",
       "23046                0.011911  54.0  452.0       9254  "
      ]
     },
     "execution_count": 8,
     "metadata": {},
     "output_type": "execute_result"
    }
   ],
   "source": [
    "movie_data[movie_data['title'] =='Beauty and the Beast']"
   ]
  },
  {
   "cell_type": "markdown",
   "metadata": {},
   "source": [
    "Now here's an image of *Beauty and the Beast* characters.\n",
    "\n",
    "![Beauty and the Beast characters image](https://upload.wikimedia.org/wikipedia/en/b/b6/BeautyBeastCharacters.jpg)"
   ]
  },
  {
   "cell_type": "markdown",
   "metadata": {},
   "source": [
    "## 2. Opening and Using a Jupyter Notebook"
   ]
  },
  {
   "cell_type": "markdown",
   "metadata": {},
   "source": [
    "Well, you're here, right?! :-)\n",
    "\n",
    "There are lots of ways to open a Jupyter notebook file (.ipynb). In this class, we are using VS Code, which uses the main Jupyter extension. I have found that this method, which is quite new, is also the easiest way for beginners to get started.\n",
    "\n",
    "Thankfully, that makes this section much shorter than other methods. But, there are a few notable steps.\n",
    "\n",
    "When you open a `.ipynb` file in VS Code, it will simply open like any other file. But, to start editing and using it, be aware of that NB files feature 2 types of cells: (1) *code* cells to work with the data, and (2) *markdown* cells to document your steps and ideas.\n",
    "\n",
    "How\n",
    "    1. Code cells can be run by clicking the play button ▶️ on the left side of the cell.\n",
    "    2. Markdown cells are run by clicking on the checkmark &#x2713; positioned at the top right side of the cell.\n",
    "        * To edit a markdown cell, click on the pencil &#9998; button that appears in the same position of the checkmark &#x2713;"
   ]
  },
  {
   "cell_type": "markdown",
   "metadata": {},
   "source": [
    "### 2.1 Interacting with code cells"
   ]
  },
  {
   "cell_type": "markdown",
   "metadata": {},
   "source": [
    "Code cells can be run by clicking the play button ▶️ on the left side of the cell."
   ]
  },
  {
   "cell_type": "markdown",
   "metadata": {},
   "source": [
    "### 2.2 Interacting with markdown cells"
   ]
  },
  {
   "cell_type": "markdown",
   "metadata": {},
   "source": [
    "Markdown cells are run by clicking on the checkmark &#x2713; positioned at the top right side of the cell. \n",
    "\n",
    "To edit a markdown cell, click on the pencil &#9998; button that appears in the same position of the checkmark &#x2713;.\n",
    "\n",
    "\n",
    "#### What's Markdown?\n",
    "\n",
    "Markdown is a very very simple type of markup language. Here's a primer on some common syntax to markup your text:\n",
    "\n",
    "<table class=\"table table-bordered\">\n",
    "  <thead class=\"thead-light\">\n",
    "    <tr>\n",
    "      <th>Element</th>\n",
    "      <th>Markdown Syntax</th>\n",
    "    </tr>\n",
    "  </thead>\n",
    "  <tbody>\n",
    "    <tr>\n",
    "      <td><a href=\"/basic-syntax/#headings\">Heading</a></td>\n",
    "      <td><code># H1<br>\n",
    "          ## H2<br>\n",
    "          ### H3</code></td>\n",
    "    </tr>\n",
    "    <tr>\n",
    "      <td><a href=\"/basic-syntax/#bold\">Bold</a></td>\n",
    "      <td><code>**bold text**</code></td>\n",
    "    </tr>\n",
    "    <tr>\n",
    "      <td><a href=\"/basic-syntax/#italic\">Italic</a></td>\n",
    "      <td><code>*italicized text*</code></td>\n",
    "    </tr>\n",
    "    <tr>\n",
    "      <td><a href=\"/basic-syntax/#blockquotes-1\">Blockquote</a></td>\n",
    "      <td><code>&gt; blockquote</code></td>\n",
    "    </tr>\n",
    "    <tr>\n",
    "      <td><a href=\"/basic-syntax/#ordered-lists\">Ordered List</a></td>\n",
    "      <td><code>\n",
    "        1. First item<br>\n",
    "        2. Second item<br>\n",
    "        3. Third item<br>\n",
    "      </code></td>\n",
    "    </tr>\n",
    "    <tr>\n",
    "      <td><a href=\"/basic-syntax/#unordered-lists\">Unordered List</a></td>\n",
    "      <td>\n",
    "        <code>\n",
    "          - First item<br>\n",
    "          - Second item<br>\n",
    "          - Third item<br>\n",
    "        </code>\n",
    "      </td>\n",
    "    </tr>\n",
    "    <tr>\n",
    "      <td><a href=\"/basic-syntax/#links\">Link</a></td>\n",
    "      <td><code>[title](https://www.example.com)</code></td>\n",
    "    </tr>\n",
    "    <tr>\n",
    "      <td><a href=\"/basic-syntax/#images-1\">Image</a></td>\n",
    "      <td><code>![alt text](image.jpg)</code></td>\n",
    "    </tr>\n",
    "  </tbody>\n",
    "</table>"
   ]
  },
  {
   "cell_type": "markdown",
   "metadata": {},
   "source": [
    "Some resources:\n",
    "\n",
    "- [Extended Markdown syntax \"cheatsheet\"](https://www.markdownguide.org/cheat-sheet/#extended-syntax)\n",
    "- [Editing Markdown in VS Code](https://code.visualstudio.com/docs/languages/markdown#_editing-markdown)."
   ]
  },
  {
   "cell_type": "markdown",
   "metadata": {},
   "source": [
    "## 3. How to Save Your Notebook"
   ]
  },
  {
   "cell_type": "markdown",
   "metadata": {},
   "source": [
    "Simple. \n",
    "\n",
    "If you want to save your notebook, press \n",
    "\n",
    "- **Mac**: `Command ⌘` + `S`\n",
    "- **Windows**: `Windows Key` + `S`"
   ]
  }
 ],
 "metadata": {
  "kernelspec": {
   "display_name": "Python 3",
   "language": "python",
   "name": "python3"
  },
  "language_info": {
   "codemirror_mode": {
    "name": "ipython",
    "version": 3
   },
   "file_extension": ".py",
   "mimetype": "text/x-python",
   "name": "python",
   "nbconvert_exporter": "python",
   "pygments_lexer": "ipython3",
   "version": "3.9.6"
  },
  "vscode": {
   "interpreter": {
    "hash": "31f2aee4e71d21fbe5cf8b01ff0e069b9275f58929596ceb00d14d90e3e16cd6"
   }
  }
 },
 "nbformat": 4,
 "nbformat_minor": 4
}
