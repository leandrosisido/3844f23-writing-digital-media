{
 "cells": [
  {
   "cell_type": "markdown",
   "metadata": {},
   "source": [
    "# Install Python & JupyterLab"
   ]
  },
  {
   "cell_type": "markdown",
   "metadata": {},
   "source": [
    "We're going to install Python by installing [Anaconda](https://docs.anaconda.com/anaconda/), a \"distribution\" that comes with basic Python as well as over [250 popular Python packages](https://docs.anaconda.com/anaconda/packages/py3.8_osx-64/) that are already pre-installed. These packages, sometimes called libraries, are collections of code written by other people for specific purposes. We can install and use them on top of basic Python. Anaconda includes packages such as `pandas` for data analysis, `matplotlib` for data visualization, and perhaps most importantly *JupyterLab* for interactive coding.  \n",
    "\n",
    "Anaconda is also a package manager and environment manager. This functionality helps address a common problem that occurs when working with Python packages: when different versions of the same package conflict and break your code. If you're trying to use a tool that relies on an older version of `pandas`, for example, but you have the most upgraded version, it might break your tool. We won't spend a lot of time using Anaconda as a package manager and environment manager, but it's good to know that this functionality exists."
   ]
  },
  {
   "cell_type": "markdown",
   "metadata": {},
   "source": [
    "## 1. Install Anaconda\n",
    "\n",
    "Go to the [Anaconda installation page](https://docs.anaconda.com/anaconda/install/), find your operating system, and follow the instructions."
   ]
  },
  {
   "cell_type": "markdown",
   "metadata": {},
   "source": [
    "## 2. Install VSCode"
   ]
  },
  {
   "cell_type": "markdown",
   "metadata": {},
   "source": [
    "We're also going to install a code editor called VSCode, where you can also write, edit, and test your Jupyter notebooks.\n",
    "\n",
    "Go to [VSCode's home page](https://code.visualstudio.com/), click download (it should know which OS you're using), and follow the instructions."
   ]
  },
  {
   "cell_type": "markdown",
   "metadata": {},
   "source": [
    "## 3. Install Microsoft's \"Jupyter\" extension for VS Code"
   ]
  },
  {
   "cell_type": "markdown",
   "metadata": {},
   "source": [
    "1. Click on VS Code's Extension tab in the left panel: <img src=\"../images/installation/vscode-extension-icon.png\" width=\"25px\">\n",
    "2. Search for \"jupyter\" in the search box.<br><img src=\"../images/installation/vscode-extension-search.png\" width=\"200px\">\n",
    "3. Select and install Microsoft's \"Jupyter\" extension globally. Note: You will see the word \"Install\" instead, since I already have the extensions installed on my computer.<br><img src=\"../images/installation/vscode-jupyter-extension-page.png\" width=\"250px\">"
   ]
  },
  {
   "cell_type": "markdown",
   "metadata": {},
   "source": [
    "## 4. Submit screenshots to Canvas"
   ]
  },
  {
   "cell_type": "markdown",
   "metadata": {},
   "source": [
    "Once you have you completed the above installations, submit screenshots of them working to Canvas:\n",
    "\n",
    "1. Open a terminal/bash and type the following command: `python --version`. Submit a screencap of the output.\n",
    "2. Open this repo/folder in VS Code by\n",
    "    1. Opening the app\n",
    "    2. Selecting \"Open Folder\" under `File > Open Folder`\n",
    "    3. Find and *select* -- ***NOT*** double-click -- the `3844f23-writing-digital-media` folder in your viewer window.\n",
    "    4. Click \"Open\"\n",
    "3. In the Explorer pane on the left-side of the interface, click on the `book` folder. This action will open the folder to view the content inside of it.\n",
    "4. Open the [00-test.ipynb](./00-test.ipynb) notebook. Follow the directions in there to submit proof of a working VS Code + Jupyter notebook workflow.\n",
    "5. Proceed to complete the next workbook: [01-Install-Git-Github](./01-Install-Git-GitHub.ipynb)"
   ]
  }
 ],
 "metadata": {
  "kernelspec": {
   "display_name": "Python 3",
   "language": "python",
   "name": "python3"
  },
  "language_info": {
   "codemirror_mode": {
    "name": "ipython",
    "version": 3
   },
   "file_extension": ".py",
   "mimetype": "text/x-python",
   "name": "python",
   "nbconvert_exporter": "python",
   "pygments_lexer": "ipython3",
   "version": "3.9.6 (default, Aug 11 2023, 19:44:49) \n[Clang 15.0.0 (clang-1500.0.40.1)]"
  },
  "toc-autonumbering": false,
  "toc-showcode": true,
  "toc-showmarkdowntxt": false,
  "toc-showtags": true,
  "vscode": {
   "interpreter": {
    "hash": "31f2aee4e71d21fbe5cf8b01ff0e069b9275f58929596ceb00d14d90e3e16cd6"
   }
  }
 },
 "nbformat": 4,
 "nbformat_minor": 4
}
